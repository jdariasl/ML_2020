{
  "nbformat": 4,
  "nbformat_minor": 0,
  "metadata": {
    "colab": {
      "name": "Intro.ipynb",
      "provenance": []
    },
    "kernelspec": {
      "display_name": "Python 3",
      "language": "python",
      "name": "python3"
    },
    "language_info": {
      "codemirror_mode": {
        "name": "ipython",
        "version": 3
      },
      "file_extension": ".py",
      "mimetype": "text/x-python",
      "name": "python",
      "nbconvert_exporter": "python",
      "pygments_lexer": "ipython3",
      "version": "3.7.6"
    }
  },
  "cells": [
    {
      "cell_type": "markdown",
      "metadata": {
        "id": "tUVWKEi3aot6"
      },
      "source": [
        "**Recuerda que una vez abierto, Da clic en \"Copiar en Drive\", de lo contrario no podras alamancenar tu progreso**\n"
      ]
    },
    {
      "cell_type": "code",
      "metadata": {
        "id": "4DAnyoh_qL8c",
        "tags": []
      },
      "source": [
        "# Siempre Ejecuta esta linea de codigos\n",
        "# esta configura librerias y ciertas funciones\n",
        "# necesarias para esta sesión\n",
        "!wget https://raw.githubusercontent.com/jdariasl/ML_2020/master/Labs/commons/utils/general.py -O general.py\n",
        "from general import configure_intro\n",
        "configure_intro()\n",
        "from intro import *"
      ],
      "execution_count": null,
      "outputs": []
    },
    {
      "cell_type": "markdown",
      "metadata": {
        "id": "yK1tqpADaot7"
      },
      "source": [
        "# Introdución para los laboratorios de Machine Learning\n",
        "\n",
        "Este sección explica los laboratorios que realizarán durante el curso. \n",
        "1. Los laboratorios están en Python 3.7\n",
        "2. Son escritos usando [notebooks](https://jupyter.org)\n",
        "3. Estan adaptados para ser ejecutados en la herramienta [Google Colab](https://colab.research.google.com/notebooks/intro.ipynb#scrollTo=5fCEDCU_qrC0).\n",
        "\n",
        "En este notebook veremos la siguiente información que sera nuestra base para todas nuestras sesiones.\n",
        "\n",
        "1. Introducción a [Google Colab](https://colab.research.google.com/notebooks/intro.ipynb#scrollTo=5fCEDCU_qrC0) como usarlo para el desarrollo de las practicas\n",
        "2. Conceptos rapidos de Python\n",
        "    1. Básicos y más importantes\n",
        "    2. Profundización (Lectura y práctica)\n",
        "2. Manejo de vectores y matrices en NumPy\n",
        "    1. Básicos y más importantes\n",
        "    2. Profundización (Lectura y práctica)\n",
        "3. Manejo de estructuras de datos en pandas. Graficos en matplolib\n",
        "    1. Básicos y más importantes\n",
        "    2. Profundización (Lectura y práctica)\n",
        "5. Estructuras de los laboratorios\n",
        "\n",
        "En cada una de las secciones pueden encontrar diferentes ejercicios para ir practicando y afianzado los conceptos presentados."
      ]
    },
    {
      "cell_type": "markdown",
      "metadata": {
        "id": "oCvoFU33aot8"
      },
      "source": [
        "## Google Colab y Jupyter Notebooks\n",
        "\n",
        "Un Jupyter notebook es un proyecto open source que permite ejecutar interactivamente varios lenjuages de programación. Su nombre es un referencia a los lenguajes que fueron principales en el inicio el proyecto: JUlia, PYThon y R. Pero en la actulidad se han expandido a muchos otras más. Este proyecto también se conocio antes bajo el nombre de **IPython Notebooks**.  Los notebooks, en su formato \"crudo\" son un archivo [JSON](https://en.wikipedia.org/wiki/JSON) que es renderizado para permitir combinar tanto codigo, texto (Usando [Markdown](https://en.wikipedia.org/wiki/Markdown)), lenguaje matemático y graficas.\n",
        "\n",
        "Los notebooks pueden ser ejecutados en diferentes entornos. Estos entornos pueden ser locales (requieren instalación y configuración) o en la nube por medio de un navegador moderno (no requiere ninguna configuración).\n",
        "\n",
        "- Distribuición de [Anaconda](https://www.anaconda.com/). (Recomendado para Windows y macOs)\n",
        "- Administrador de paquetes pip. (Recomendado para Linux) [Tutorial](https://www.digitalocean.com/community/tutorials/how-to-set-up-jupyter-notebook-with-python-3-on-ubuntu-18-04)\n",
        "- Contenedor en docker\n",
        "- [Google Colab](https://colab.research.google.com/notebooks/intro.ipynb#scrollTo=5fCEDCU_qrC0)\n",
        "- [Binder](https://mybinder.org/)\n",
        "\n",
        "Como se ha mencionado, este notebook y el resto de nuestros sesiones están adaptados para usar Google Colab, pero con un muy pequeño esfuerzo también pueden ser adaptados para ser ejecutados en cualquier entorno mencionado. **Esto ultimo no es recomendado y no es objetivo del curso**,  y no se podrán revisar laboratorios que no sigan las instrucciones detalladas en la ultima sección de este documento.\n",
        "\n",
        "En la industria, los jupyter notebooks son un herramienta altamente adoptada y se considera un \"estandar\" para el desarrollo, documentación y comunicación de resultados de investigación en trabajos de ciencia de datos. \n",
        "\n",
        "Sin embargo también ha logrado una buena pouplaridad en otros entornos. inlcusive, se ha discuito que [pueden ser una buena alternativa para susbtituir el formato estandar del paper cientifico](https://www.theatlantic.com/science/archive/2018/04/the-scientific-paper-is-obsolete/556676/). \n",
        "\n",
        "De la misma manera los jupyter notebook son la base para productos comerciales de los principales proveedores de computación en la nube como lo son:\n",
        "- [AI Platform](https://cloud.google.com/ai-platform/?hl=es-419) De Google Computing Platform. O [VertexAI](https://cloud.google.com/vertex-ai)\n",
        "- [Amazon SageMaker](https://aws.amazon.com/es/sagemaker/) de Amazon Web Services\n",
        "- [Azure Notebooks](https://notebooks.azure.com/) de Microsoft Azure\n",
        "- Y otros servicios usados en entornos de Big Data como son [Databricks](https://databricks.com/), [Cloudera](https://www.cloudera.com/products/data-science-and-engineering/data-science-workbench.html) y [Apache Zepelin](https://zeppelin.apache.org/).\n",
        "\n",
        "\n",
        "Sin embargo es totalmente vital, aclarar que los notebooks son un entorno para exploración interactiva y presentar resultados que sean reproducibles. No es recomendado su uso para tareas de software engineering \"más puras\" (codigo de una aplicación,API, codigo de un sistema productivo, etc). \n",
        "\n",
        "Cada dia cobra mas fuerza la siguiente idea: **los notebooks son usados en las primeras etapas de desarollo de una aplicación de ML. Pero cuando el modelo cada vez esta más cerca a un entorno \"productivo\", el codigo de un notebook debe ser refactorizado a un codigo que sea mas sencillo de mantener y administrar** ([En este video se hace una discusión interesante y otras críticas](https://www.youtube.com/watch?v=7jiPeIFXb6U)). \n",
        "\n",
        "En las últimas sesiones de nuestro laboratorio, realizaremos una práctica donde ahondaremos un poco más en este tema."
      ]
    },
    {
      "cell_type": "markdown",
      "metadata": {
        "id": "VbU2eqv_aot8"
      },
      "source": [
        "### Manejo de Google Colab\n",
        "\n",
        "Colaboratory, o Colab, permite escribir y ejecutar código de Python en un navegador, con las siguentes ventajas:\n",
        "- Sin configuración requerida (Python, Jupyter)\n",
        "- Acceso gratuito a GPU\n",
        "- Facilidad para compartir y desarrollar los notebooks de manera interactiva\n",
        "\n",
        "Mira [este video introductorio sobre Colab](https://www.youtube.com/watch?v=inN8seMm7UI), para entender como Colab nos ayuda agilizar algunas tareas. El icono de *launch* en la parte superior derecha permite lanzar el notebook directamente Colab.\n",
        "\n",
        "En Colab, existen dos tipos de celdas:\n",
        "\n",
        "> Las celdas de texto: estan escrita con *Markdown*, un lenguaje de etiquetado más legible para la decoración de texto, se puede hacer desde encabezados, usar [LaTeX](http://www.latex-project.org/), símbolos matemáticos, listas enumeradas, entre otros.  \n",
        "\n",
        "> Las celdas de código: son ejecutables, es decir, se pueden correr individualmente.\n",
        "\n",
        "Recuerda que una vez abierto, Debes dar clic en \"Copiar en Drive\". De lo contrario no podras alamancenar tu progreso y ni compartirlo con tu profesor. \n",
        "\n",
        "Como se menciono, cada celda de codigo se ejecuta por separado. Esto implica que **la ejecución se realiza de arriba hacia abajo en orden**. Es así como evitamos problemas de importación de librerías o variables sin definir.\n",
        "\n",
        "Por ejemplo, esta es una celda de código con una secuencia de comandos Python corta que calcula un valor, lo almacena en una variable y devuelve el resultado:\n",
        "\n",
        "(A fin de ejecutar el código en la celda anterior, haz clic en él para seleccionarlo y, luego, presiona el botón de reproducción ubicado a la izquierda del código o usa la combinación de teclas \"Command/Ctrl + Intro\". )\n"
      ]
    },
    {
      "cell_type": "code",
      "metadata": {
        "id": "PnEzztjvaot8"
      },
      "source": [
        "seconds_in_a_day = 24 * 60 * 60\n",
        "seconds_in_a_day"
      ],
      "execution_count": null,
      "outputs": []
    },
    {
      "cell_type": "markdown",
      "metadata": {
        "id": "RCe8veMlaot_"
      },
      "source": [
        "Para editar el código, solo haz clic en la celda y comienza a editar. Las variables que defines en una celda pueden usarse en otras:"
      ]
    },
    {
      "cell_type": "code",
      "metadata": {
        "id": "N1X5P20paouA"
      },
      "source": [
        "seconds_in_a_week = 7 * seconds_in_a_day\n",
        "seconds_in_a_week"
      ],
      "execution_count": null,
      "outputs": []
    },
    {
      "cell_type": "markdown",
      "metadata": {
        "id": "GANDUx4baouC"
      },
      "source": [
        "**Ahora es tu turno**\n",
        "Haz click en la opción \"+ Texto\" (en la parte de arriba o al final de la celda, tambien te debe aparecer si dirijes el puntero en la parte inferior de la celda).  Añade una celda de texto y prueba escribir algo.\n",
        "\n",
        "Luego, añade una celda de código  en la opción \" + Codigo\"  (en la parte de arriba o al final de la celda, tambien te debe aparecer si dirijes el puntero en la parte inferior de la celda) y escribe las siguientes lineas y ejecutalas. \n",
        "\n",
        "``` python\n",
        "zero_to_nine = range(0,10)\n",
        "for n in zero_to_nine:\n",
        "    print(n)\n",
        "```\n",
        "\n",
        "¿cual es la salida?"
      ]
    },
    {
      "cell_type": "markdown",
      "metadata": {
        "id": "tWjfcaDIUUvV"
      },
      "source": [
        "Tambien es de utilidad conocer los shorcuts o accesos rapidos de colab, explora que combinaciones de teclas te pueden servir para agilizar el trabajo en Colab.\n",
        "\n",
        "![colabshortcuts](https://miro.medium.com/max/625/1*BmBIeAJrSl47_1j3TlxQUQ.png)"
      ]
    },
    {
      "cell_type": "markdown",
      "metadata": {
        "id": "lbfZQzKaHCbl"
      },
      "source": [
        "## Conceptos de Python\n",
        "\n",
        "En esta sección se hace una presentación de conceptos utiles de Python, si bien para el desarrollo del curso no es necesario y no se busca que las practicas esten enfocadas a desarrollar habilidades especificas de Python, si es de utilidad tener claras algunas capacidades de Python. \n",
        "\n",
        "Durante nuestra sesión "
      ]
    },
    {
      "cell_type": "markdown",
      "metadata": {
        "id": "RlpfrCRAfnNJ"
      },
      "source": [
        "### Básicos\n",
        "\n",
        "Aca solo veremos conceptos que van ser muy comunes en nuestro laboratorio. Se recomienda leer y praticas la siguiente subsección."
      ]
    },
    {
      "cell_type": "code",
      "metadata": {
        "id": "OWywORljVQqo"
      },
      "source": [
        "# Tuplas\n",
        "tup = (1, \"hola\", 3)\n",
        "print (tup[0])\n",
        "#tup[1] = 2    #Esto es un error\n"
      ],
      "execution_count": null,
      "outputs": []
    },
    {
      "cell_type": "code",
      "metadata": {
        "id": "kMvw2oJoHIPk"
      },
      "source": [
        "# Listas\n",
        "lista = [2, 3, 2.5, \"Hola\"]\n",
        "print (lista[2])\n",
        "lista[2] = \"nuevo\"\n",
        "print (lista[2])"
      ],
      "execution_count": null,
      "outputs": []
    },
    {
      "cell_type": "code",
      "metadata": {
        "id": "ZHx7W-cGVURt"
      },
      "source": [
        "# Diccionarios\n",
        "dic = {\"clave\": \"valor\", \"1\": 324, \"2\": \"Hola\"}\n",
        "print (dic[\"clave\"])"
      ],
      "execution_count": null,
      "outputs": []
    },
    {
      "cell_type": "code",
      "metadata": {
        "id": "3i0k_zCLcI2B"
      },
      "source": [
        "## Estrucutra if else\n",
        "age=17\n",
        "\n",
        "if age>18:\n",
        "    print(\"you can enter to concert\" )\n",
        "elif age==18:\n",
        "    print(\"You can enter after listen Pink Floyd\")\n",
        "else:\n",
        "    print(\"You cannot enter, instead you can listen Black pink / BTS\" )\n",
        "    \n",
        "\n",
        "print(\"move on\")"
      ],
      "execution_count": null,
      "outputs": []
    },
    {
      "cell_type": "code",
      "metadata": {
        "id": "RYs8HDsqd3ya"
      },
      "source": [
        "dates = [1982,1980,1973]\n",
        "N=len(dates)\n",
        "\n",
        "# iterar en el indice\n",
        "for i in range(N):\n",
        "    print(dates[i]) \n",
        "# iterar en los elementos\n",
        "for i in dates:\n",
        "    print(i) \n",
        "# usar enumerate\n",
        "for n,i in enumerate (dates):\n",
        "    print(n, i) \n"
      ],
      "execution_count": null,
      "outputs": []
    },
    {
      "cell_type": "code",
      "metadata": {
        "id": "x2AxZBr2edAW"
      },
      "source": [
        "# iterar en dos listas de igual tamaño\n",
        "a = [1, 2, 3]\n",
        "b = [\"one\", \"two\", \"three\"]\n",
        "for num, letra in zip(a,b):\n",
        "    print(num,letra)"
      ],
      "execution_count": null,
      "outputs": []
    },
    {
      "cell_type": "markdown",
      "metadata": {
        "id": "4P6Sf_Lsf_5b"
      },
      "source": [
        "### Profundización"
      ]
    },
    {
      "cell_type": "code",
      "metadata": {
        "id": "bCVmY5zWgDfR"
      },
      "source": [
        "#Conjuntos\n",
        "conjunto = {1, 3, \"hola\"}\n",
        "print(conjunto)"
      ],
      "execution_count": null,
      "outputs": []
    },
    {
      "cell_type": "code",
      "metadata": {
        "id": "pemLJjR5gEkQ"
      },
      "source": [
        "## Ciclos Whiles\n",
        "dates = [1982,1980,1973,2000]\n",
        "i=0;\n",
        "year=0\n",
        "while(year!=1973):\n",
        "    year=dates[i]\n",
        "    i=i+1\n",
        "    print(year)\n",
        "      \n",
        "print(\"it took \", i ,\"repetitions to get out of loop\")"
      ],
      "execution_count": null,
      "outputs": []
    },
    {
      "cell_type": "code",
      "metadata": {
        "id": "57RJuzBYhhSZ"
      },
      "source": [
        "# funciones\n",
        "def is_a_sum_with_bonus(a,b):\n",
        "    a = a +1\n",
        "    resultado = a + b\n",
        "    return (resultado)"
      ],
      "execution_count": null,
      "outputs": []
    },
    {
      "cell_type": "code",
      "metadata": {
        "id": "fbbSmfDXhyNS"
      },
      "source": [
        "is_a_sum_with_bonus (10, 5)"
      ],
      "execution_count": null,
      "outputs": []
    },
    {
      "cell_type": "code",
      "metadata": {
        "id": "-vVVRP1Nh0Oa"
      },
      "source": [
        "is_a_sum_with_bonus (0, 10)"
      ],
      "execution_count": null,
      "outputs": []
    },
    {
      "cell_type": "code",
      "metadata": {
        "id": "9AST0ugjh885"
      },
      "source": [
        "# manejo de strings\n",
        "string = \"welcome \" + \"to Python\"\n",
        "print (string)\n",
        "# multiplicacion de cadenas\n",
        "string = \"is Python!\" * 2\n",
        "\n",
        "print (string)\n",
        "\n",
        "# uso con otros tipos de datos\n",
        "string = \"This is test number \" + str(15)\n",
        "\n",
        "print (string)"
      ],
      "execution_count": null,
      "outputs": []
    },
    {
      "cell_type": "code",
      "metadata": {
        "id": "94qjBLmgjECx"
      },
      "source": [
        "# obtener subcadenas\n",
        "string = \"first second third\"\n",
        "\n",
        "print(string[:2])\n",
        "\n",
        "print(string[2:])\n",
        "\n",
        "print(string[3:5])\n",
        "\n",
        "print(string[-1])"
      ],
      "execution_count": null,
      "outputs": []
    },
    {
      "cell_type": "code",
      "metadata": {
        "id": "hVwyod-ujMdo"
      },
      "source": [
        "# cadenas a numeros\n",
        "string=\"10\"\n",
        "\n",
        "string2=\"20\"\n",
        "\n",
        "print(string+string2)\n",
        "\n",
        "print(int(string)+int(string2))\n",
        "\n",
        "# contar caracteres\n",
        "string=\"welcome to course of ML\"\n",
        "\n",
        "print(min(string))\n",
        "\n",
        "print(max(string))\n",
        "\n",
        "print(len(string))"
      ],
      "execution_count": null,
      "outputs": []
    },
    {
      "cell_type": "markdown",
      "metadata": {
        "id": "c7MGiwtRaouC"
      },
      "source": [
        "## Manejo vectores y matrices en NumPy\n",
        "\n",
        "NumPy es un paquete que proporciona herramientas y técnicas para manipular estructuras de datos con matrices, es mucho mejor que las listas de Python, tiene acceso y escritura más rápida. Posee una amplia colección de herramientas y técnicas que se pueden utilizar para resolver problemas mátematicos, además de que contiene todas las funciones para trabajar con matrices.\n",
        "\n",
        "A continuación encontrá algunas funciones muy útiles para los laboratorios, tales como:\n",
        "- Creación de matrices\n",
        "- Suma y resta de vectores\n",
        "- Producto de dos vectores\n",
        "- Producto de dos matrices\n",
        "- Multiplicación matricial\n",
        "- Indexación de matrices\n",
        "\n",
        "Y en la subsección Siguiente se da algunos ejemplos para profundizar en el manejo de numpy."
      ]
    },
    {
      "cell_type": "markdown",
      "metadata": {
        "id": "MAhJcg3XaouC"
      },
      "source": [
        "### Básicos\n",
        "\n",
        "El paquete NumPy introdujo los arrays N-dimensionales, acontinuación se mostrará las rutinas más utilizadas en los laboratorios. (Más rutinas [aquí](https://docs.scipy.org/doc/numpy/reference/routines.array-creation.html))"
      ]
    },
    {
      "cell_type": "code",
      "metadata": {
        "id": "vQuL9GvoaouD"
      },
      "source": [
        "#Creacion de array de ceros y unos\n",
        "zeros=np.zeros(10)\n",
        "print(\"Array de 10 ceros:\", zeros)\n",
        "ones=np.ones(10)\n",
        "print(\"Array de 10 unos:\", ones)\n",
        "array1 = np.arange(5)  # Array de 5 enteros contando el 0\n",
        "print(\"Array de 5 enteros: \",array1)\n",
        "line = np.linspace(0.0, 1.0, 5) #start, stop, num de puntos\n",
        "print(\"Array organizados unif.: \",line)\n",
        "v1 = np.array([8,6,-5,76,9.7]) #Array de una lista\n",
        "print(\"Array de una lista: \",v1)"
      ],
      "execution_count": null,
      "outputs": []
    },
    {
      "cell_type": "code",
      "metadata": {
        "id": "paS9lMaJaouF"
      },
      "source": [
        "## Ejercicio Crear array de ceros con dimension 3x2** \n",
        "### HINT: ¿como es el parametro a np.zeros?\n",
        "\n"
      ],
      "execution_count": null,
      "outputs": []
    },
    {
      "cell_type": "code",
      "metadata": {
        "id": "_9Pi0EzRaouH"
      },
      "source": [
        "# Inicializar un vector manualmente de 1D\n",
        "#Array de una lista\n",
        "v1 = np.array([3,-1,2]) \n",
        "v2= np.array([2,-1,3])\n",
        "print(\"v1: \",v1)\n",
        "print(\"v2: \",v2)"
      ],
      "execution_count": null,
      "outputs": []
    },
    {
      "cell_type": "code",
      "metadata": {
        "id": "rGGjEuw8aouJ"
      },
      "source": [
        "# Suma y resta de vectores\n",
        "#(para la resta usamos -)\n",
        "suma1 = v1 + v2 \n",
        "print(suma1)\n"
      ],
      "execution_count": null,
      "outputs": []
    },
    {
      "cell_type": "code",
      "metadata": {
        "id": "hUdu0eKgaouL"
      },
      "source": [
        "# producto elemento a elemento\n",
        "prod1 = v1*v2\n",
        "print (\"Producto elemeto a elemento\",prod1)\n",
        "\n",
        "#Producto matricial\n",
        "prod1 = np.dot(v1,v2)\n",
        "print (\"Producto matricial\",prod1)\n",
        "\n",
        "prod2 = v1 @ v2\n",
        "print(\"Producto matricial\",prod2)\n"
      ],
      "execution_count": null,
      "outputs": []
    },
    {
      "cell_type": "markdown",
      "metadata": {
        "id": "m5nU1Yaxqqiz"
      },
      "source": [
        "Escribe el codigo de Python usando numpy, para realizar la siguiente operacion, siendo $\\odot$ la representación de la multiplicación elemento a elmento, y $\\cdot$ el producto matricial.\n",
        "\n",
        "$r = (v_{1}\\odot v_{2}) + v_{1} - v_{2} + (v1 \\cdot v2) $\n",
        "\n",
        "Siendo v1 y v2 los vectores v1 y v2 ejecutadas en la celda anterior. Finalmente imprime el resultado `r`. \n",
        "En este  ejercicio tambien vas observar en funcionamiento un concepto de *numpy* llamado [Broadcasting](https://machinelearningmastery.com/broadcasting-with-numpy-arrays/)."
      ]
    },
    {
      "cell_type": "code",
      "metadata": {
        "id": "_uSM-V-sq4EL"
      },
      "source": [
        "## Ejercicio: Escribe aca la operación\n",
        "### El resultado debe ser [20, 14, 18]\n",
        "r = \n",
        "print (r)"
      ],
      "execution_count": null,
      "outputs": []
    },
    {
      "cell_type": "code",
      "metadata": {
        "id": "oRVynbWlaouN"
      },
      "source": [
        "# Indexar una matriz manualmente 2x3\n",
        "# la entrada en una lista de lista.\n",
        "# cada lista es un renglon de la matriz\n",
        "# cada renglon debe tener las mismas columnas \n",
        "# (el mismo tamaño de lista)\n",
        "\n",
        "m1 = np.array([[1,2,3],[0.5,0.3,2.1]])\n",
        "print (m1)\n"
      ],
      "execution_count": null,
      "outputs": []
    },
    {
      "cell_type": "markdown",
      "metadata": {
        "id": "O9F0PwfEaouO"
      },
      "source": [
        "¿Cuántas filas y columnas tiene la variable m1?"
      ]
    },
    {
      "cell_type": "code",
      "metadata": {
        "id": "CHWPHPzCaouP"
      },
      "source": [
        "print(\"Shape m1\", )"
      ],
      "execution_count": null,
      "outputs": []
    },
    {
      "cell_type": "code",
      "metadata": {
        "id": "0WA9C8n9aouQ"
      },
      "source": [
        "m2 = np.array([[1,2],[2,1],[3,1]]) # [3x2]\n",
        "print (\"dimensiones de m2\",np.shape(m2))\n",
        "print(m2)"
      ],
      "execution_count": null,
      "outputs": []
    },
    {
      "cell_type": "code",
      "metadata": {
        "id": "EA8gWGFmaouT"
      },
      "source": [
        "#Producto de dos matrices\n",
        "print (\"Productor de dos matrices \\n\",np.dot(m1,m2))\n",
        "print(\"Producto de dos matrices @\\n\",m1@m2)"
      ],
      "execution_count": null,
      "outputs": []
    },
    {
      "cell_type": "code",
      "metadata": {
        "id": "tdkYMTEXaouU"
      },
      "source": [
        "#Producto elemento a elemento\n",
        "m3 = np.array([[1,2],[2,1]]) # [3x2]\n",
        "print (\"ls dimensiones es de m3\", np.shape(m3))\n",
        "print(m3*m3)"
      ],
      "execution_count": null,
      "outputs": []
    },
    {
      "cell_type": "markdown",
      "metadata": {
        "id": "twF1lkaHaouW"
      },
      "source": [
        "¿Por qué el siguiente código produce error? "
      ]
    },
    {
      "cell_type": "code",
      "metadata": {
        "id": "cIg5kzl-aouW"
      },
      "source": [
        "print (m1*m2)"
      ],
      "execution_count": null,
      "outputs": []
    },
    {
      "cell_type": "markdown",
      "metadata": {
        "id": "gD_Vp2NOaouY"
      },
      "source": [
        "Se debe organizar las dimensiones de la matriz para hacer la multiplicación elemento a elemento correctamente. \n",
        "\n",
        "¿Cómo se puede solucionar?"
      ]
    },
    {
      "cell_type": "code",
      "metadata": {
        "id": "vjS_DRFUaouY"
      },
      "source": [
        "# usando la transpuesta!\n",
        "m1_new = m1.T\n",
        "print(\"New shape m1\", m1_new.shape)\n",
        "print(m1_new*m2)"
      ],
      "execution_count": null,
      "outputs": []
    },
    {
      "cell_type": "code",
      "metadata": {
        "id": "kRHH4GBSaoua"
      },
      "source": [
        "# pero también podria hacer re-shape?\n",
        "m1_new2 = m1.reshape((3,2))\n",
        "print(\"New shape m1\", m1_new2.shape)\n",
        "print(m1_new2*m2)"
      ],
      "execution_count": null,
      "outputs": []
    },
    {
      "cell_type": "code",
      "metadata": {
        "id": "gv5h8nDyaouc",
        "scrolled": true
      },
      "source": [
        "m1_new2 = m1.reshape((3,-1))\n",
        "print(\"New shape m1\", m1_new2.shape)\n",
        "print(m1_new2*m2)"
      ],
      "execution_count": null,
      "outputs": []
    },
    {
      "cell_type": "markdown",
      "metadata": {
        "id": "qy3Rw1lRaoue"
      },
      "source": [
        "¿Hay alguna diferencia con la matriz m1 después de hacer el reshape, los resultados son diferentes?\n",
        "\n",
        "_Reshape_: Asigna una nueva forma a la matriz ya sea un entero para una dimensión o una tupla para N-Dimensiones\n"
      ]
    },
    {
      "cell_type": "code",
      "metadata": {
        "id": "9QUXulyhaouf"
      },
      "source": [
        "a = np.arange(6).reshape((3, 2))\n",
        "a"
      ],
      "execution_count": null,
      "outputs": []
    },
    {
      "cell_type": "code",
      "metadata": {
        "id": "aB8svfVNaoug"
      },
      "source": [
        "b = np.arange(6).reshape((3,1,2))\n",
        "b"
      ],
      "execution_count": null,
      "outputs": []
    },
    {
      "cell_type": "code",
      "metadata": {
        "id": "W9ijZNDVaouk"
      },
      "source": [
        "b = b.reshape((6))\n",
        "b"
      ],
      "execution_count": null,
      "outputs": []
    },
    {
      "cell_type": "markdown",
      "metadata": {
        "id": "PNn1jqQpaoun"
      },
      "source": [
        "¡Cuidado con la asignación de variables! Python usa variables referenciadas. Si se requiere hacer una copia se debe usar el método \".copy\"."
      ]
    },
    {
      "cell_type": "code",
      "metadata": {
        "id": "qrn5HSNJ80Id"
      },
      "source": [
        "# si se usa = se crea una referencia\n",
        "print(\"m1 antes de hacer la referencia \\n\", m1)\n",
        "m4 = m1\n",
        "m4[0,1] = 9\n",
        "print (\"M1 se modifica aunque no se 'hizo' ninguna operacion a esta variable \"\"m1\\n\",m1)"
      ],
      "execution_count": null,
      "outputs": []
    },
    {
      "cell_type": "code",
      "metadata": {
        "id": "iYsEf5SCaoun"
      },
      "source": [
        "print (\"Ahora con el metodo copy\")\n",
        "print(\"m1 antes de hacer el copy \\n\", m1)\n",
        "m5 = np.copy(m1)\n",
        "m5[1,1] = 9\n",
        "print (\"m5 es m1 con el valor modificado \\n\",m5)\n",
        "print (\"Pero m1 esta vez no es modificado\")\n",
        "print (\"m1 \\n\",m1)"
      ],
      "execution_count": null,
      "outputs": []
    },
    {
      "cell_type": "markdown",
      "metadata": {
        "id": "MpWLQysEaouo"
      },
      "source": [
        "Para hacer una indexación en matrices se accede con los corchetes y siempre se define así: [filas,columnas]. Observa que la separación se realiza con una coma ( , )\n",
        "\n",
        "    x = matrix[filas, columnas]\n",
        "    \n",
        "Si deseo escoger entre la fila x hasta y debe ser separado por dos puntos **:**, de la siguiente forma:\n",
        "\n",
        "    x = matrix[x:y,]\n",
        "    \n",
        "\n",
        "De la misma forma aplica para las columnas, si quiero la primera columna:\n",
        "\n",
        "    x = matrix[0:2,0:1]\n",
        "    \n",
        "Acceder a los últimas posiciones:\n",
        "\n",
        "    x = matrix[0:-1,0:-1]\n",
        "    \n"
      ]
    },
    {
      "cell_type": "code",
      "metadata": {
        "id": "RQPHpNULaoup"
      },
      "source": [
        "print(\"Original m2\")\n",
        "print(m2)\n",
        "print(\"----\")\n",
        "new_m2 = m2[0:2,]\n",
        "print(\"Nuevo m2, dos primeras filas\")\n",
        "print(new_m2)\n",
        "new_m2 = m2[0:2,0:1]\n",
        "print(\"Nuevo m2, dos primeras filas y primera columna\")\n",
        "print(new_m2)"
      ],
      "execution_count": null,
      "outputs": []
    },
    {
      "cell_type": "code",
      "metadata": {
        "id": "kmwScE-Eaouq"
      },
      "source": [
        "m4 = np.arange(5,25).reshape((10,2))\n",
        "m4"
      ],
      "execution_count": null,
      "outputs": []
    },
    {
      "cell_type": "code",
      "metadata": {
        "id": "Xj9_Zf74aout"
      },
      "source": [
        "## Ejercicio: Obtener las últimas dos filas del anterior vector\n",
        "## Hint: debe retonar [[21, 22], [23, 24]]\n",
        "last_m2 =  m4[]\n",
        "last_m2"
      ],
      "execution_count": null,
      "outputs": []
    },
    {
      "cell_type": "markdown",
      "metadata": {
        "id": "wm5rVVATaouu"
      },
      "source": [
        "Concatenar vectores y matrices\n"
      ]
    },
    {
      "cell_type": "code",
      "metadata": {
        "id": "71Oi3lcAaouu"
      },
      "source": [
        "a = np.array([[1,5,9], [2,6,10]])\n",
        "b = np.array([[3,7,11], [4,8,12]])\n",
        "print(\"a:\\n \", a, \"\\n b: \\n\", b)"
      ],
      "execution_count": null,
      "outputs": []
    },
    {
      "cell_type": "code",
      "metadata": {
        "id": "iYLsjwglaouw"
      },
      "source": [
        "np.concatenate((a,b), axis=0)"
      ],
      "execution_count": null,
      "outputs": []
    },
    {
      "cell_type": "code",
      "metadata": {
        "id": "VCkTXWcVaoux"
      },
      "source": [
        "np.concatenate((a, b), axis=1)"
      ],
      "execution_count": null,
      "outputs": []
    },
    {
      "cell_type": "code",
      "metadata": {
        "id": "itnpf3Kbaouz"
      },
      "source": [
        "np.vstack((a, b))"
      ],
      "execution_count": null,
      "outputs": []
    },
    {
      "cell_type": "code",
      "metadata": {
        "id": "Hz2LUuo3as_q"
      },
      "source": [
        "## Algunas veces es util, obtener una lista\n",
        "## de los elementos que están la matriz\n",
        "## si bien el reshape puede ser usado\n",
        "## np.ravel() puede ser usado para ese objetivo\n",
        "a = np.array([[1,1, 1], [2,2,2], [3,3,3]])\n",
        "print(\"antes del ravel \\n \", a, \"\\n usando ravel \\n \", np.ravel(a))"
      ],
      "execution_count": null,
      "outputs": []
    },
    {
      "cell_type": "markdown",
      "metadata": {
        "id": "vS-RBDRL0dH_"
      },
      "source": [
        "Recordar que el uso de numpy es preferido para la implementación, de los algoritmos,  ya que al usar la libreria, los codigos son mas efecientes y se logran los beneficios de la **vectorización**, por ejemplo, al realizar la siguiente operación, es posible realizarla con ciclos **for**. pero al usar la representación matricial y las librerias de numpy tenemos algunos beneficios.\n",
        "\n",
        "$m = a \\cdot b $\n",
        "\n"
      ]
    },
    {
      "cell_type": "code",
      "metadata": {
        "id": "0DDQQara0b41"
      },
      "source": [
        "print(\"shape de a\", matriz_a_for.shape)\n",
        "print(\"shape de b\", matriz_b_for.shape)"
      ],
      "execution_count": null,
      "outputs": []
    },
    {
      "cell_type": "markdown",
      "metadata": {
        "id": "1Ba_lxO40kC_"
      },
      "source": [
        "Usando esta imagen entendemos, un poco mas la operación\n",
        "\n",
        "![vectorization](https://github.com/jdariasl/ML_2020/blob/master/Labs/commons/images/vectorization.png?raw=1)\n",
        "\n"
      ]
    },
    {
      "cell_type": "code",
      "metadata": {
        "id": "Erpvpn5G0rZi"
      },
      "source": [
        "# implementacion con numpy\n",
        "import time\n",
        "results = []\n",
        "for n in range(10):\n",
        "  s = time.time()\n",
        "  m = np.dot(matriz_a_for, matriz_b_for.T)\n",
        "  results.append(time.time() - s)\n",
        "print(\"time en ms\", np.mean(results)*1000, \"\\n results \\n \",m)"
      ],
      "execution_count": null,
      "outputs": []
    },
    {
      "cell_type": "code",
      "metadata": {
        "id": "1n-SPFaC0t_N"
      },
      "source": [
        "## Implementacion la operacion mediante ciclos for\n",
        "m = np.zeros(shape = (10,1))\n",
        "results = []\n",
        "for n in range(10):\n",
        "  s = time.time()\n",
        "  for i in range(m.shape[0]):\n",
        "      aa = np.sum(matriz_a_for[i, :]*matriz_b_for)\n",
        "      m[i,0] = aa\n",
        "  results.append(time.time() - s)\n",
        "print(\"time en ms\", np.mean(results)*1000, \"\\n results \\n \",m)"
      ],
      "execution_count": null,
      "outputs": []
    },
    {
      "cell_type": "markdown",
      "metadata": {
        "id": "KUhhoWOt0ySc"
      },
      "source": [
        "Con ciclos **for** tenemos una implementación que es casi 200 %  más lenta que la implementación \"vectorizada\"."
      ]
    },
    {
      "cell_type": "markdown",
      "metadata": {
        "id": "BjGvUEFLaou1"
      },
      "source": [
        "### Profundización en numpy\n"
      ]
    },
    {
      "cell_type": "code",
      "metadata": {
        "id": "_yRubmWVaou3"
      },
      "source": [
        "## Calculo del promedio\n",
        "a = np.array(range(5))\n",
        "print(\"vector\", a,  \"promedio\", np.mean(a))\n",
        "print(\"vector\", a,  \"promedio con axis = 1, es equivalante al anterior\", np.mean(a, axis = 0))"
      ],
      "execution_count": null,
      "outputs": []
    },
    {
      "cell_type": "code",
      "metadata": {
        "id": "AGODDyieWUWU"
      },
      "source": [
        "## el parametro axis es mas util en una matriz\n",
        "a = np.array(range(6)).reshape((3,2))\n",
        "print(\"vector \\n\", a,  \"\\n promedio con axis = 0\\n\", np.mean(a, axis = 0))\n",
        "print(\"vector \\n \", a,  \"\\n promedio con axis = 1\\n \" , np.mean(a, axis = 1))"
      ],
      "execution_count": null,
      "outputs": []
    },
    {
      "cell_type": "code",
      "metadata": {
        "id": "-kCUUdhqaou5"
      },
      "source": [
        "## equivalente  con min, max y sum\n",
        "print (\"extraer la suma: \", a.sum(), \"o de esta manera\", np.sum(a))\n",
        "\n",
        "print (\"igualmente el parametro axis es util, con axis = 0 \\n\", np.sum(a, axis = 0), \n",
        "       \"\\n y axis = 1 \\n \", np.sum(a, axis = 1))"
      ],
      "execution_count": null,
      "outputs": []
    },
    {
      "cell_type": "code",
      "metadata": {
        "id": "omB9eyk8aou6"
      },
      "source": [
        "# generar un valores aleatorio\n",
        "x = np.random.choice(2,size = 10)\n",
        "print(x)\n",
        "x = np.random.choice(10,size = 10)\n",
        "print(x)"
      ],
      "execution_count": null,
      "outputs": []
    },
    {
      "cell_type": "code",
      "metadata": {
        "id": "5HJY7IWQYD9T"
      },
      "source": [
        "## extrar los valores unicos y contar la frequencia de\n",
        "## de estos mismos\n",
        "uniq = np.unique(x)\n",
        "print(\"devuelve los valores unicos\", uniq)\n",
        "uniq = np.unique(x, return_counts=True)\n",
        "print(\"y con esta opciones devuelve una tupla \\n \", uniq, \n",
        "      \"\\nel primer elemento de la tupla son los valores\",\n",
        "      uniq[0], \n",
        "      \"\\n el segundo elemento el contador \\n\",\n",
        "      uniq[1])"
      ],
      "execution_count": null,
      "outputs": []
    },
    {
      "cell_type": "code",
      "metadata": {
        "id": "M9r3aqPlaou8"
      },
      "source": [
        "## Ejercicio: explorar la funcion de estos \n",
        "## y que parametros pueden recibir\n",
        "## metodos\n",
        "\n",
        "#ones : \n",
        "np.ones()\n",
        "\n",
        "#diag: \n",
        "np.diag()\n",
        "\n",
        "#linalg.inv #Inversa de matriz:\n",
        "np.linalg.inv()\n",
        "\n",
        "#linalg.svd #Descomposición en valores singulares:\n",
        "np.linalg.svd()\n",
        "\n",
        "#logical_and #Elemento a elmento:\n",
        "np.logical_and()\n",
        "\n",
        "#logical_or #Elemento a elelemto:\n",
        "np.logical_or()"
      ],
      "execution_count": null,
      "outputs": []
    },
    {
      "cell_type": "markdown",
      "metadata": {
        "id": "_xJ9i4-uaou9"
      },
      "source": [
        "## Manejo de estructuras de datos en Pandas. Graficos en matplotlib\n"
      ]
    },
    {
      "cell_type": "markdown",
      "metadata": {
        "id": "sLVSqHlz3d4h"
      },
      "source": [
        "### Básicos"
      ]
    },
    {
      "cell_type": "code",
      "metadata": {
        "id": "G7SpPHXnEp9_"
      },
      "source": [
        "# en la configuracion inical se hace import pandas as pd\n",
        "# lectura de un csv\n",
        "datos = pd.read_csv(\"bank.csv\", sep = \";\")"
      ],
      "execution_count": null,
      "outputs": []
    },
    {
      "cell_type": "code",
      "metadata": {
        "id": "sNyqiQO1O4VC"
      },
      "source": [
        "# esto crea un pandas dataframe\n",
        "# Pandas es una libreria muy popular para el manejo de datos\n",
        "# y se integra con los notebooks de manera muy sencilla\n",
        "datos.head()"
      ],
      "execution_count": null,
      "outputs": []
    },
    {
      "cell_type": "code",
      "metadata": {
        "id": "SmiO5FXcO4VD"
      },
      "source": [
        "# sample para explorar los datos de manera rapida\n",
        "datos.sample()"
      ],
      "execution_count": null,
      "outputs": []
    },
    {
      "cell_type": "code",
      "metadata": {
        "id": "YL_sY8blQ21l"
      },
      "source": [
        "# y se puede interpretar como una matriz de numpy:\n",
        "print (\"puedes ver los datos de shape \", datos.shape)\n",
        "\n",
        "# pero para acceder a ellos es más similar a una tabla\n",
        "print(\"en forma de renglon 10 todas las columnas, pero retorna una serie\")\n",
        "datos.loc[9, :]\n"
      ],
      "execution_count": null,
      "outputs": []
    },
    {
      "cell_type": "code",
      "metadata": {
        "id": "G8tO7WFLRGQQ"
      },
      "source": [
        "print(\"en forma de renglon 10 todas las columnas, pero retorna una df una tabla\")\n",
        "datos.loc[[9], :]"
      ],
      "execution_count": null,
      "outputs": []
    },
    {
      "cell_type": "code",
      "metadata": {
        "id": "lJk_ln3IO4VF"
      },
      "source": [
        "# puedes tambien filtrar columnas y mostrar multiples df con display\n",
        "print(\"primer filtro\")\n",
        "display(datos.loc[[9], ['age', 'job', 'marital']])\n",
        "print(\"segundo filtro\")\n",
        "# mostrar los rengloes de 10 al 15\n",
        "display(datos.loc[range(9,15), ['age', 'job', 'marital']])"
      ],
      "execution_count": null,
      "outputs": []
    },
    {
      "cell_type": "code",
      "metadata": {
        "id": "rfYpPXdrO4VG"
      },
      "source": [
        "# sin embargo esta soporta mas tipos de datos, pero se pueden seguir haciendo operaciones\n",
        "# similares con las columnas numericas\n",
        "# y puedes referenciar las columnas\n",
        "datos['day'] + datos['pdays']"
      ],
      "execution_count": null,
      "outputs": []
    },
    {
      "cell_type": "markdown",
      "metadata": {
        "id": "jCdUjEkcO4VI"
      },
      "source": [
        "Vamos aprovechar tambien los df, para hacer tablas para nuestros experimentos. Podemos ir agregando resultados a la tabla"
      ]
    },
    {
      "cell_type": "code",
      "metadata": {
        "id": "WWJ6_qx6O4VJ"
      },
      "source": [
        "# creacion de una tabla\n",
        "# con resultados\n",
        "errores = [0.1, 0.2,0.3, 0.01]\n",
        "parametros = [1,2,3,5]\n",
        "# se crea df vacio\n",
        "results = pd.DataFrame()\n",
        "i = 0\n",
        "for e,p in zip (errores, parametros):\n",
        "  results.loc[i, \"parametro\"] = p\n",
        "  results.loc[i, \"error\"] = e\n",
        "  results.loc[i, \"tipo\"] = \"entrenamiento\"\n",
        "  i+=1\n",
        "\n",
        "for e,p in zip (errores, parametros):\n",
        "  results.loc[i, \"parametro\"] = p\n",
        "  results.loc[i, \"error\"] = e\n",
        "  results.loc[i, \"tipo\"] = \"validacion\"\n",
        "  i+=1\n",
        "\n",
        "results"
      ],
      "execution_count": null,
      "outputs": []
    },
    {
      "cell_type": "markdown",
      "metadata": {
        "id": "Vzjudwzdaou-"
      },
      "source": [
        "Manejo de gráficas en matplotlib y pandas"
      ]
    },
    {
      "cell_type": "markdown",
      "metadata": {
        "id": "IXRGqjqFaou-"
      },
      "source": [
        "Ahora utilizaremos la librería matplotlib para hacer algunos ejemplos de gráficas básicas:\n",
        "\n",
        "$$ y = x $$\n",
        "\n",
        "$$ y = x^2 $$\n",
        "\n",
        "$$ y = x^3 $$\n",
        "\n",
        "Observemos que la variable x solo se carga en la primera celda de código. En adelante se puede usar sin necesidad de ser cargada de nuevo. En la gráfica de $y=x^3$ incluimos el título de la gráfica y los label para los ejes de la misma."
      ]
    },
    {
      "cell_type": "code",
      "metadata": {
        "id": "oma5k4wHaovA"
      },
      "source": [
        "#x = np.array([-2,-1,0,1,2])\n",
        "x = np.linspace(-10,10,100)\n",
        "\n",
        "#Función y = ax + b\n",
        "y = 0.5*x\n",
        "plt.plot(x,y)\n",
        "plt.ylim(0,10)\n",
        "plt.xlim(0,10)\n",
        "plt.ylabel('y = x')\n",
        "plt.xlabel('x')\n",
        "plt.title(u\"Gráfica de una función lineal\\n\")\n",
        "plt.show()"
      ],
      "execution_count": null,
      "outputs": []
    },
    {
      "cell_type": "code",
      "metadata": {
        "id": "nLjSnPwnaovB"
      },
      "source": [
        "y = x**2\n",
        "plt.plot(x,y, c='green')\n",
        "#plt.xlim(-150,150)\n",
        "plt.show()"
      ],
      "execution_count": null,
      "outputs": []
    },
    {
      "cell_type": "code",
      "metadata": {
        "id": "rqvS4mSeaovD"
      },
      "source": [
        "y = x**3\n",
        "plt.plot(y)\n",
        "plt.ylabel(r'$y = x^3$')\n",
        "plt.xlabel(u'x - 100 números entre -10 y 10')\n",
        "plt.title(u'Ejemplos de introducción para el curso de Simulación de Sistemas - UdeA\\n')\n",
        "plt.show()"
      ],
      "execution_count": null,
      "outputs": []
    },
    {
      "cell_type": "markdown",
      "metadata": {
        "id": "DFx5FylKaovF"
      },
      "source": [
        "Generando gráfica punteada"
      ]
    },
    {
      "cell_type": "code",
      "metadata": {
        "id": "nJN9eH-qaovI"
      },
      "source": [
        "y = np.sin(x)\n",
        "plt.plot(y, 'b-')\n",
        "plt.ylabel('y = seno(x)')\n",
        "plt.xlabel(u'x - 100 números entre -10 y 10')\n",
        "plt.title(r'$s(t) = \\mathcal{A}\\sin(2 \\omega t)$', fontsize=16, color='r')\n",
        "plt.show()"
      ],
      "execution_count": null,
      "outputs": []
    },
    {
      "cell_type": "markdown",
      "metadata": {
        "id": "Cw4nXoVpaovK"
      },
      "source": [
        "Dos gráficas en el mismo plano"
      ]
    },
    {
      "cell_type": "code",
      "metadata": {
        "id": "dsy3AsS6aovL"
      },
      "source": [
        "y2 = x\n",
        "y = np.sin(x)\n",
        "y1 = np.cos(x)\n",
        "plt.plot(y, 'r--', y1, 'b-')\n",
        "plt.ylabel('y = seno(x)')\n",
        "plt.xlabel(u'x - 100 números entre -10 y 10')\n",
        "plt.title(u'Ejemplos de introducción para el curso de Simulación de Sistemas - UdeA\\n')\n",
        "plt.show()"
      ],
      "execution_count": null,
      "outputs": []
    },
    {
      "cell_type": "markdown",
      "metadata": {
        "id": "A3jJCzcvaovN"
      },
      "source": [
        "Agregando el legend al gráfico"
      ]
    },
    {
      "cell_type": "code",
      "metadata": {
        "id": "384Lo8QdaovN"
      },
      "source": [
        "y = np.sin(x)\n",
        "y1 = np.cos(x)\n",
        "plt.plot(y, 'r-', label='Seno')\n",
        "plt.plot(y1, 'b-', label='Coseno')\n",
        "plt.ylabel('y = seno(x)')\n",
        "plt.xlabel(u'x - 100 números entre -10 y 10')\n",
        "plt.title(u'Ejemplos de introducción para el curso de Simulación de Sistemas - UdeA\\n')\n",
        "plt.legend()\n",
        "plt.show()"
      ],
      "execution_count": null,
      "outputs": []
    },
    {
      "cell_type": "markdown",
      "metadata": {
        "id": "NCCy9sdaIlFz"
      },
      "source": [
        "De igual manera, si tenemos un pandas dataframe, se puede simplificar nuestros codigos, y podemos hacer plots con menos lineas de codigo.\n",
        "\n"
      ]
    },
    {
      "cell_type": "code",
      "metadata": {
        "id": "lCEkUiHSO4Vb"
      },
      "source": [
        "datos.plot()"
      ],
      "execution_count": null,
      "outputs": []
    },
    {
      "cell_type": "code",
      "metadata": {
        "id": "nTkP4D3lO4Ve"
      },
      "source": [
        "results.plot.bar(x ='tipo', y='error')"
      ],
      "execution_count": null,
      "outputs": []
    },
    {
      "cell_type": "code",
      "metadata": {
        "id": "K2nTTPMMSST7"
      },
      "source": [
        "results.groupby(['tipo'])['error'].mean().plot.bar()"
      ],
      "execution_count": null,
      "outputs": []
    },
    {
      "cell_type": "markdown",
      "metadata": {
        "id": "t1uHu_nN222S"
      },
      "source": [
        "### Profundización\n"
      ]
    },
    {
      "cell_type": "markdown",
      "metadata": {
        "id": "I52iLsur3ZLu"
      },
      "source": [
        "\n",
        "Graficas de barras"
      ]
    },
    {
      "cell_type": "code",
      "metadata": {
        "id": "ZPj8vbrc21ct"
      },
      "source": [
        "values = np.array([1, 10, 100])\n",
        "ind = np.arange(3)\n",
        "plt.figure(1, figsize=(9, 3))\n",
        "\n",
        "plt.subplot(131)\n",
        "plt.bar(ind+1, values*np.random.rand(3))\n",
        "\n",
        "plt.subplot(132)\n",
        "plt.bar(ind+1, np.flipud(values))\n",
        "\n",
        "plt.subplot(133)\n",
        "plt.bar(ind+1, values)\n",
        "\n",
        "plt.suptitle(u'Ejemplos - Simulación de Sistemas y Lab.')\n",
        "plt.show()"
      ],
      "execution_count": null,
      "outputs": []
    },
    {
      "cell_type": "markdown",
      "metadata": {
        "id": "HnnZNFtw3CMg"
      },
      "source": [
        "Gráficos para problemas de clasificación en Machine learning. Scatter plots"
      ]
    },
    {
      "cell_type": "code",
      "metadata": {
        "id": "4iyRYQMa29w8"
      },
      "source": [
        "#Creamos los datos artificiales\n",
        "\n",
        "mu1, sigma1 = 1.5, 0.1\n",
        "mu2, sigma2 = 1, 0.1\n",
        "N = 100\n",
        "\n",
        "x1 = mu1 + sigma1 * np.random.randn(N)\n",
        "x1line = np.linspace(0,2,N)\n",
        "x2 = mu2 + sigma2 * np.random.randn(N)\n",
        "x2line = np.linspace(3,5,N)\n",
        "\n",
        "#Decision boundary\n",
        "b = -2\n",
        "m = 3.5\n",
        "v = np.linspace(0,100,100)\n",
        "t = v*m + b\n",
        "\n",
        "plt.scatter(x1, x1line, c='b')\n",
        "plt.scatter(x2, x2line, c='r')\n",
        "plt.plot(v, t, 'c-')\n",
        "plt.ylim(-0.5, 6, 1)\n",
        "plt.xlim(0.5, 1.8, 0.2)\n",
        "plt.show()\n"
      ],
      "execution_count": null,
      "outputs": []
    },
    {
      "cell_type": "markdown",
      "metadata": {
        "id": "hzr91sZ63Gui"
      },
      "source": [
        "También representar gráficas para visualizar relaciones matemáticas útiles\n",
        "\n",
        "$P(x; \\mu, \\sigma) = \\frac{1}{\\sqrt{2\\pi}\\sigma }exp-\\frac{1}{2}\\frac{(x-\\mu)^2}{\\sigma^2}$\n",
        "\n",
        "\n",
        "\n"
      ]
    },
    {
      "cell_type": "code",
      "metadata": {
        "id": "ga7Hn8ve3IML"
      },
      "source": [
        "mu, sigma = 0, 2\n",
        "#Generamos un conjunto de valores x\n",
        "x = np.linspace(-3,3,100)\n",
        "#los llevamos a la función de densidad de probabilidad normal\n",
        "p = ( 1/(np.sqrt(2*np.pi)*sigma) ) * np.exp( (-1/2) * ( ((x - mu) ** 2) / (sigma ** 2) ) )\n",
        "\n",
        "plt.plot(x, p, 'r--')\n",
        "plt.show()"
      ],
      "execution_count": null,
      "outputs": []
    },
    {
      "cell_type": "code",
      "metadata": {
        "id": "zEmLLXGh3QUF"
      },
      "source": [
        "p = np.random.randn(1000)\n",
        "plt.hist(p, color = 'b')\n",
        "plt.show()"
      ],
      "execution_count": null,
      "outputs": []
    },
    {
      "cell_type": "markdown",
      "metadata": {
        "id": "RuTZFXAkO4Vf"
      },
      "source": [
        "Ejercicio!\n",
        "\n",
        "[Explora un poco más la librería de pandas](https://pandas.pydata.org/)\n",
        "\n",
        "[Explora esta librería de visualizacion que se integra con pandas](https://seaborn.pydata.org/)"
      ]
    },
    {
      "cell_type": "markdown",
      "metadata": {
        "id": "-tjM4GmKaovS"
      },
      "source": [
        "## Estructura de los laboratorios\n",
        "\n",
        "\n"
      ]
    },
    {
      "cell_type": "markdown",
      "metadata": {
        "id": "UPJdwv0S7KGD"
      },
      "source": [
        "En los laboratorios van encontrar diferentes clases de ejercicios, estos se pueden resumir en los siguientes puntos\n",
        "\n",
        "1. Contextualización del problema y entedimiento de los datos\n",
        "\n",
        "Se busca que tenga un contexto del problema que se está abordando, de modo que les ayude a resolver los ejercicios. Es de suma importancia entender de fondo si es un problema de clasificación o regresión. En cuanto a los datos con los que trabajaremos, identificar el número de clases, muestras y carácteristicas. Esto les ayudará para entender los resultados una vez completen los algoritmos y hacer gráficas, responder preguntas abiertas entre otros."
      ]
    },
    {
      "cell_type": "markdown",
      "metadata": {
        "id": "jfup4nP7tBZZ"
      },
      "source": [
        "\n",
        "2. Completar el código\n",
        "\n",
        "Hacer la implemetación del algoritmo del modelo. Son modelos que se explicaron en la teoría vista en clase, una vez comprenda su funcionamiento se completa ya sea el algoritmo o la implementación correcta de las librerías usando los recursos que ya tiene el laboratorio.\n",
        "\n",
        "\n",
        "3. Entrenamiento y resultados\n",
        "\n",
        "En este punto debe hacer uso de las funciones escritas en el punto anterior para realizar el proceso de modelamiento y simulación de los datos de cargados en el punto 1. En escencia tambien es un ejercicio de completar código, pero usando funciones previas y/o completar código para generar una tabla de resultados y derivar conclusiones de estos mismos.\n",
        "\n",
        "Los ejercicios para completar parte del código, son similares al siguiente:\n"
      ]
    },
    {
      "cell_type": "code",
      "metadata": {
        "id": "NZPOBLhXO4Vf"
      },
      "source": [
        "#La celda comenzara con este aviso:\n",
        "## Ejercicio de Codigo ##\n",
        "# Se te requerira completar una función cuyas especificaciones\n",
        "# y desables se explicán, en la documentacion de la función\n",
        "# puedes agregar celdas de codigo para y verificando y testeando lo que necesites\n",
        "# cuando estes seguro comienza a escribir tu codigo\n",
        "# dentro de la función\n",
        "# NO MODIFIQUES el nombre de la funcion\n",
        "def mult_matrices (matriz_a, matriz_b):\n",
        "    \"\"\"Esta funcion debera devolver la multiplicacion de matrices entre las dos matrices entrantes\n",
        "    matriz_a, matriz_b: matrices en numpy\n",
        "    retorna: debe retornar el resultado de multiplicar las dos entradas\n",
        "    \"\"\"\n",
        "\n",
        "    # Aqui comienza a completar tu codigo\n",
        "    #res = np.dot(matriz_a, matriz_b, axis = 1)\n",
        "    #res = matriz_a + matriz_b\n",
        "    res = np.dot(matriz_a, matriz_b)\n",
        "    # debes retornar siempre lo requerido\n",
        "    return(res)\n"
      ],
      "execution_count": null,
      "outputs": []
    },
    {
      "cell_type": "code",
      "metadata": {
        "id": "te_0KZwvO4Vg",
        "tags": []
      },
      "source": [
        "# seguido de la celda siempre encontraras el codigo para testear si tu implementacion fue correcta\n",
        "## Es muy importante que esta celda de codigo NO la modifiques\n",
        "GRADER_INTRO_LAB.run_test(\"ejercicio1\", mult_matrices)"
      ],
      "execution_count": null,
      "outputs": []
    },
    {
      "cell_type": "code",
      "metadata": {
        "id": "t7ORCdAhaovW"
      },
      "source": [
        "## tambien vas a encontrar ejercicios similares a este\n",
        "# donde tu funcion debe ejecutar el codigo del modelo\n",
        "## y retornar el modelo entrenado\n",
        "## Ejercicio de Codigo ##\n",
        "def train_model(Xtrain, ytrain, param):\n",
        "    \"\"\" esta función debe entrenar un modelo de regression pero solo inicializando\n",
        "        aleatorimente\n",
        "    train_data: a matriz numpy con las muestras de entrenamiento \n",
        "    train_labels: a matriz numpy con labels de entrenamiento\n",
        "    param: este parametro es un dummy no debes hacer nada!\n",
        "    retorna: la matriz W inicializada, y el error de entrenamiento\n",
        "    \"\"\"\n",
        "    W = np.random.rand((Xtrain.shape[1])) # np.ones((Xtrain.shape[1])) # np.ones((Xtrain.shape[1]))\n",
        "    error = np.mean(np.dot(Xtrain, W) - ytrain)\n",
        "    return (W,error)\n",
        "    #return (None)\n",
        "    \n",
        "    "
      ],
      "execution_count": null,
      "outputs": []
    },
    {
      "cell_type": "code",
      "metadata": {
        "id": "af7kR1nBO4Vi",
        "tags": []
      },
      "source": [
        "## la funcion que prueba tu implementacion\n",
        "GRADER_INTRO_LAB.run_test(\"ejercicio2\", train_model)\n"
      ],
      "execution_count": null,
      "outputs": []
    },
    {
      "cell_type": "code",
      "metadata": {
        "id": "i9-UfS7sO4Vj"
      },
      "source": [
        "# y con las funciones debes usarla para completar los experimentos y llenar el dataframe\n",
        "# debes variar el parametro de 0 a 5\n",
        "## Ejercicio de Codigo ##\n",
        "def experimentar (Xtest, ytest, params):\n",
        "    \"\"\"Esta función debe realizar los experimentos, de manera programatica.}\n",
        "       Debe devolver un datarame con los errrores por cada parametro.\n",
        "    Xtest: matriz numpy con los valores del conjunto para test\n",
        "    ytest: los valores de etiqueta reales\n",
        "    retorna: un dataframe con dos columnas: el valor del parametro y el valor del error\n",
        "    \"\"\"\n",
        "    #params = range(5)\n",
        "    resultados = pd.DataFrame()\n",
        "    for i, param in enumerate (params):\n",
        "        W, err = train_model(Xtest, ytest, param)\n",
        "        resultados.loc[i,'param'] = param\n",
        "        resultados.loc[i,'err'] = err\n",
        "    \n",
        "    return (resultados)"
      ],
      "execution_count": null,
      "outputs": []
    },
    {
      "cell_type": "code",
      "metadata": {
        "id": "ePlL2pRWO4Vk",
        "tags": []
      },
      "source": [
        "## la funcion que prueba tu implementacion\n",
        "GRADER_INTRO_LAB.run_test(\"ejercicio3\", experimentar)"
      ],
      "execution_count": null,
      "outputs": []
    },
    {
      "cell_type": "markdown",
      "metadata": {
        "id": "qrcMQaYJO4Vl"
      },
      "source": [
        "\n",
        "\n",
        "De igual manera, en cada notebook van a encontrar **preguntas abiertas**, Que deberán ser respondidas con: \n",
        "- los resultados del laboratorio,  \n",
        "- información vista en clase  \n",
        "- pequeña investigación relacionada con la tematica de la sesión.\n"
      ]
    },
    {
      "cell_type": "code",
      "metadata": {
        "cellView": "form",
        "id": "1HC7IWBYO4Vm"
      },
      "source": [
        "#@title Pregunta Abierta\n",
        "#@markdown  ¿es necesario siempre una inicialización aleatoria de las variables? \n",
        "respuesta1_1 = \"\" #@param {type:\"string\"}"
      ],
      "execution_count": null,
      "outputs": []
    },
    {
      "cell_type": "markdown",
      "metadata": {
        "id": "7BenMrjt5kiq"
      },
      "source": [
        "Recuerda seguir el código del honor y responder concientemente:\n",
        "- son un es espacio de aprendizaje\n",
        "- sirven para afianzar tus conocimientos\n",
        "- sirve para validar como interpretas lo que haces\n",
        "- sirven para practicar la síntesis de tu entedimiento\n",
        "- son revisadas (hay algoritmos que me ayudan a detectar respuestas similares... ¡incluso de semestres pasados!)"
      ]
    },
    {
      "cell_type": "code",
      "metadata": {
        "id": "6kyNuUulO4Vn",
        "tags": []
      },
      "source": [
        "# en las ultimas  partes del laboratorio vas encontrar esta linea de codigo\n",
        "# sirve para verificar que todo esta completo\n",
        "GRADER_INTRO_LAB.check_tests()"
      ],
      "execution_count": null,
      "outputs": []
    },
    {
      "cell_type": "markdown",
      "metadata": {
        "id": "QTARSdop6C6e"
      },
      "source": [
        "**NOTA de test automaticos y preguntas abiertas**\n",
        "\n",
        "- Los test miden que tu código más que simplemente se ejecute se esté comportando como se debe. \n",
        "\n",
        "- Sin embargo debido a que podemos relizar varias soluciones que pueden no estar cubiertas en los tests (adicionado que estos test fueron escritos por un profersor que es humano) se hadn detectado algunos casos que el test no evalúa de manera totalmente correcta la función que se está pidiendo. Esto puede influenciar respuestas no validadas en las preguntas abiertas\n",
        "\n",
        "- En estos casos la calificación del código es correcta y se ganan los puntos. Pero en la pregunta abierta no aplicaría lo mismo. \n",
        "La idea de las preguntas abiertas es saber que  estamos entendiendo qué está haciendo el código no simplemente que se ejecute bien o que pase el test.\n",
        "si hay un error que no se detecta antes de iniciar nuestra sesión de laboratorio, si el test era exitoso los puntos son válidos\n",
        "\n",
        "- Ante la duda, de observar que un test este pasando pero los resultados no coinciden con lo que esperamos, **preguntar**."
      ]
    },
    {
      "cell_type": "markdown",
      "metadata": {
        "id": "cBU-DUHXsj5m"
      },
      "source": [
        "Finalmente al final de cada notebook, encontrarán un formulario que debe ser diligenciado con la información correspondiente.\n",
        "\n",
        "**USAR LAS CEDULAS**"
      ]
    },
    {
      "cell_type": "code",
      "metadata": {
        "cellView": "form",
        "id": "cOTrL4flr-P8"
      },
      "source": [
        "#@title Integrantes\n",
        "codigo_integrante_1 ='' #@param {type:\"string\"}\n",
        "codigo_integrante_2 = ''  #@param {type:\"string\"}"
      ],
      "execution_count": null,
      "outputs": []
    },
    {
      "cell_type": "markdown",
      "metadata": {
        "id": "twOZCHnWO4Vr"
      },
      "source": [
        "**¿como se considera un laboratorio entregado?**\n",
        "\n",
        "1. Debes descargar el archivo .ipynb\n",
        "2. Entrar al formulario, subir el archivo y **enviar el formulario**\n",
        "3. Se tomara en cuenta el ultimo envio del formulario. (esto tambien aplica si envian desde diferentes usuarios)\n",
        "4. El formulario sera cerrado despues del limite establecido."
      ]
    },
    {
      "cell_type": "markdown",
      "metadata": {
        "id": "hzWMRPpqaovc"
      },
      "source": [
        "## Recomendaciones Finales para la entrega de los laboratorios\n",
        "\n"
      ]
    },
    {
      "cell_type": "markdown",
      "metadata": {
        "id": "d3PyfMFw7PGU"
      },
      "source": [
        "1. Los espacios para laboratorio son para **ustedes**, traten de aprovecharlos al máximo.\n",
        "\n",
        "2. Es invalido enviar los laboratorios vía correo electronico y otro medio que no haya sido especificado. Se debe seguir el proceso descrito en la anterior sección.\n",
        "\n",
        "3. Muy buena práctica: cuando se confirma que todos los tests están correctos, reiniciar el kernel, y dar en ejecutar todas las líneas de código. De esta manera te aseguras que todo está correcto para el envío del laboratorio.\n",
        "\n",
        "3. Tener en cuenta, que si bien hay tests automáticos, los notebooks serán revisados (**manera manual** preguntas abiertas) y van a ser ejecutados (In notebook con errores pueden determinar una mala calficación) . Hagan los ejercicios a **conciencia y con toda la dispocisión para aprender y generar habilidades**.\n",
        "\n",
        "4. Es muy importante revisar las guias de laboratorio con anterioridad. Es muy factible que si el primer vistazo que le hacen a la guia es durante la sesión conjunta, el tiempo no sera un aliado. \n",
        "\n",
        "5. Las fechas/horas limites de entrega estan definidas. Debemos respetar las  reglas para el grupo. **De antemano se entienden que todos podemos tener condiciones/situaciones diferentes, sin embargo no habrá excepciones si no se siguen las pautas descritas en el estatuto estudiantíl**."
      ]
    },
    {
      "cell_type": "markdown",
      "metadata": {
        "id": "0fKYHqFNO4Vr"
      },
      "source": [
        "---------"
      ]
    },
    {
      "cell_type": "code",
      "metadata": {
        "id": "nelXCTRFO4Vr"
      },
      "source": [
        "# esta linea de codigo va fallar, es de uso exclusivo del los profesores\n",
        "GRADER_INTRO_LAB.grade()"
      ],
      "execution_count": null,
      "outputs": []
    }
  ]
}