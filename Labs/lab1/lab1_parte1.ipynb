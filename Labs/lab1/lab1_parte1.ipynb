{
  "nbformat": 4,
  "nbformat_minor": 0,
  "metadata": {
    "colab": {
      "name": "lab1_parte1_solved.ipynb",
      "provenance": []
    },
    "kernelspec": {
      "display_name": "Python 3",
      "language": "python",
      "name": "python3"
    },
    "language_info": {
      "codemirror_mode": {
        "name": "ipython",
        "version": 3
      },
      "file_extension": ".py",
      "mimetype": "text/x-python",
      "name": "python",
      "nbconvert_exporter": "python",
      "pygments_lexer": "ipython3",
      "version": "3.6.9"
    }
  },
  "cells": [
    {
      "cell_type": "markdown",
      "metadata": {
        "id": "zE8l20T-t-DR"
      },
      "source": [
        "**Recuerda que una vez abierto, Da clic en \"Copiar en Drive\", de lo contrario no podras alamancenar tu progreso**\n",
        "\n",
        "Nota: no olvide ir ejecutando las celdas de código de arriba hacia abajo para que no tenga errores de importación de librerías o por falta de definición de variables.\n"
      ]
    },
    {
      "cell_type": "code",
      "metadata": {
        "id": "19BFks1nt-DR",
        "tags": []
      },
      "source": [
        "#configuración del laboratorio\n",
        "# Ejecuta esta celda!\n",
        "%load_ext autoreload\n",
        "%autoreload 2\n",
        "#for local\n",
        "#import sys ; sys.path.append('../commons/utils/'); sys.path.append('../commons/utils/data')\n",
        "!wget https://raw.githubusercontent.com/jdariasl/ML_2020/master/Labs/commons/utils/general.py -O general.py\n",
        "from general import configure_lab1_p1\n",
        "configure_lab1_p1()\n",
        "from lab1 import *\n",
        "GRADER_LAB_1_P1, db, x, y = part_1()\n",
        "y = y.reshape(np.size(y), 1)"
      ],
      "execution_count": null,
      "outputs": []
    },
    {
      "cell_type": "markdown",
      "metadata": {
        "id": "1DGtR6cMt-DU"
      },
      "source": [
        "# Laboratorio 1 - Parte 1 Regresión polinomial múltiple\n"
      ]
    },
    {
      "cell_type": "markdown",
      "metadata": {
        "id": "0MJDEwjht-DV"
      },
      "source": [
        "### Ejercicio 1: Contextualización del problema\n",
        "\n",
        "El problema de regresión que abordaremos consiste en predecir el valor de la humedad absoluta en el aire, a partir de varias variables sensadas en el aire (Para más información sobre la base de datos y la contextualización del problema, consulte: http://archive.ics.uci.edu/ml/datasets/air+quality)."
      ]
    },
    {
      "cell_type": "code",
      "metadata": {
        "id": "HeVKE-aot-DV",
        "tags": []
      },
      "source": [
        "# tienes ya cargadas las siguientes variables:\n",
        "print(\"conjunto de datos\", x)\n",
        "print(\"variable a predecir\", y)"
      ],
      "execution_count": null,
      "outputs": []
    },
    {
      "cell_type": "code",
      "metadata": {
        "id": "-sSUDTQOt-DZ",
        "tags": []
      },
      "source": [
        "#Ejercicio de Codigo\n",
        "def num_muestras_carac(X):\n",
        "    \"\"\"Esta funcion es encargada retornar el numero de muestras\n",
        "        y caracteristicas del conjunto de datos X\n",
        "\n",
        "        X: matriz numpy\n",
        "        retorna:\n",
        "            numero de caracteristicas (int/float)\n",
        "            numero de muestras (int/float)\n",
        "    \"\"\"\n",
        "    \n",
        "    return ()"
      ],
      "execution_count": null,
      "outputs": []
    },
    {
      "cell_type": "code",
      "metadata": {
        "id": "E3p3FE_Jt-Da",
        "tags": []
      },
      "source": [
        "## la funcion que prueba tu implementacion\n",
        "GRADER_LAB_1_P1.run_test(\"ejercicio1\", num_muestras_carac)"
      ],
      "execution_count": null,
      "outputs": []
    },
    {
      "cell_type": "code",
      "metadata": {
        "cellView": "form",
        "id": "WjDP5hKtt-Dc"
      },
      "source": [
        "#@title Pregunta Abierta\n",
        "#@markdown  ¿Explique en sus palabras que es un problema de regresión?\n",
        "respuesta_1 = \"\" #@param {type:\"string\"}"
      ],
      "execution_count": null,
      "outputs": []
    },
    {
      "cell_type": "markdown",
      "metadata": {
        "id": "IsCCj-RFt-De"
      },
      "source": [
        "### Ejercicio 2\n",
        "\n",
        "Analice los siguientes métodos de la teoría  de modelos de  *regresión polinomial múltiple*:\n",
        "\n",
        "1. error cuadrático medio (**ECM**)\n",
        "2. modelo de regresión múltiple (**regression**)\n",
        "3. calculo del costo de la regresión (**cost**)\n",
        "4. extension de matriz (**extension_matriz**)\n",
        "\n",
        "La siguiente celda contiene la implementación de estas 4 funciones. Analizar y entender su funcionamiento"
      ]
    },
    {
      "cell_type": "code",
      "metadata": {
        "id": "uautFfy5t-De"
      },
      "source": [
        "def ECM(Y_est,Y):\n",
        "    \"\"\"funcion para calcular el error cuadratico medio\n",
        "    Y_est: debe contener los valores predichos por el modelo evaluar\n",
        "    Y: debe contener los valores reales\n",
        "    retorna: error cuadratico medio\n",
        "    \"\"\"\n",
        "    N = np.size(Y)\n",
        "    ecm = np.sum((Y_est.reshape(N,1) - Y.reshape(N,1))**2)/(N)\n",
        "    return ecm \n",
        "\n",
        "def regression(X, W):\n",
        "    \"\"\"calcula la regresión multiple\n",
        "    X: los valores que corresponden a las caractersiticas\n",
        "    W: son los pesos usadados para realizar la regresión\n",
        "    retorna: valor estimado\n",
        "    \"\"\"    \n",
        "    Yest = np.dot(X,W)    #con np.dot se realiza el producto matricial. Aquí X es dim [Nxd] y W es dim [dx1]\n",
        "    return Yest           #Esta variable contiene la salida de f(X,W)\n",
        "\n",
        "\n",
        "def cost(W,X,Y):\n",
        "    \"\"\"calcula el costo de la regresion\n",
        "    W: son los pesos usadados para realizar la regresión\n",
        "    X: los valores que corresponden a las caractersiticas\n",
        "    Y: el valor de salida esperadas\n",
        "\n",
        "    retorna: valor de costo\n",
        "    \"\"\"    \n",
        "    \n",
        "    m = len(Y)\n",
        "    y_est = regression(X,W)\n",
        "    cost = (1/2*m) * np.sum(np.square(y_est-Y))\n",
        "    return cost\n",
        "\n",
        "def extension_matriz(X):\n",
        "    \"\"\"funcion que realiza la extension de la matriz X\n",
        "    X: los valores que corresponden a las caractersiticas sin extender\n",
        "    Y: el valor de salida esperadas\n",
        "    \n",
        "    retorna: X_ext: matriz con unos extendidos, Y: maitrz con dimensiones ajustadas\n",
        "    \"\"\"\n",
        "    #Obtenemos las dimensiones antes de exteneder la matriz\n",
        "    caracterisitcas, muestras = num_muestras_carac(X)\n",
        "    #Extendemos la matriz X\n",
        "    unos = np.array([np.ones(muestras)])\n",
        "    X_ext = np.concatenate((unos.T, X), axis=1)\n",
        "    X_ext = X_ext.reshape(muestras, caracterisitcas+1)\n",
        "    return (X_ext)\n"
      ],
      "execution_count": null,
      "outputs": []
    },
    {
      "cell_type": "code",
      "metadata": {
        "cellView": "form",
        "id": "L8_MgMs8sBn3"
      },
      "source": [
        "#@title Pregunta Abierta\n",
        "#@markdown  ¿cual es el objetivo de la extension_matriz? recordar que estamos \"ajustando\" en una regresión\n",
        "respuesta_2 = \"\" #@param {type:\"string\"}"
      ],
      "execution_count": null,
      "outputs": []
    },
    {
      "cell_type": "markdown",
      "metadata": {
        "id": "792kf6-pt-Dk"
      },
      "source": [
        "Ahora vamos a completar el código de la regla de actualización de los parámetros del algoritmo de <font color='blue'>gradiente_descedente</font>: \n",
        "\n",
        "$$w_j(iter) = w_j(iter-1) - \\eta \\frac{\\partial E(w)}{\\partial w_j}$$ \n",
        "\n",
        "recordar que \n",
        "\n",
        "$$ \\frac{\\partial E(w)}{\\partial w_j} = \\frac{\\partial E({\\bf{w}})}{\\partial w_j} = \\frac{1}{N}\\sum_{i=1}^{N}\\left( f({\\bf{x}}_i,{\\bf{w}}) - y_i\\right) \\frac{\\partial }{\\partial w_j} f({\\bf{x}}_i, {\\bf{w}})$$\n",
        "\n",
        "recuerda que debe usar las funciones ya implementadas y no usar **ninguna otra libreria**, adicional a las librerias ya pre-cargadas como numpy (la puedes llamar con np.)"
      ]
    },
    {
      "cell_type": "code",
      "metadata": {
        "id": "LTh-Fn3Ft-Dl"
      },
      "source": [
        "## Ejercicio de codigo\n",
        "def gradiente_descendente(X, Y, eta, iteraciones):\n",
        "    \"\"\"Gradiente descendente para regresión lineal múltiple\n",
        "    X: Matriz de datos\n",
        "    Y: vector con los valores a predecir\n",
        "    W: Vector de parámetros del modelo\n",
        "    eta: Taza de aprendizaje\n",
        "\n",
        "    retorna: W el valor de de los parametros de regresión polinomica\n",
        "             costos: array con el costo por iteracion\n",
        "    \"\"\"\n",
        "    # nuevamente usamos la función\n",
        "    # para saber el numero de muestras y caractersiticas\n",
        "    X_ext = extension_matriz(X)\n",
        "    caracterisitcas, N = num_muestras_carac(X_ext)\n",
        "    #Inicializamos el vector de parámetros con ceros y\n",
        "    W = np.zeros((1,caracterisitcas))\n",
        "    W = W.reshape(np.size(W), 1)    \n",
        "    # incializamos vector para almacenar costos\n",
        "    costos = np.zeros(iteraciones)\n",
        "\n",
        "    for i in range(iteraciones):\n",
        "        ## Aca debes completar la funcion! recuerda que solo debes usar numpy (np.funcion_a_usar)\n",
        "        # o las funciones definidas anteriormente\n",
        "        # usa la funcion que hace la regresion y que definimos antes\n",
        "        y_est = \n",
        "        f_xw_min_yi = \n",
        "        temp =\n",
        "        # acutaliza\n",
        "        W = \n",
        "        costos[i] = cost(W,X_ext,Y)\n",
        "        \n",
        "    return W, costos"
      ],
      "execution_count": null,
      "outputs": []
    },
    {
      "cell_type": "code",
      "metadata": {
        "id": "JhwNveWct-Dm",
        "tags": []
      },
      "source": [
        "## la funcion que prueba tu implementacion\n",
        "GRADER_LAB_1_P1.run_test(\"ejercicio2\", gradiente_descendente)"
      ],
      "execution_count": null,
      "outputs": []
    },
    {
      "cell_type": "markdown",
      "metadata": {
        "id": "SKjx_cyit-Do"
      },
      "source": [
        "### Ejercicio 3: Entrenamiento\n",
        "\n",
        "Con la función implementada vamos a entrenar un modelo y calcular su error de entrenamiento. Antes de realizar esto, debemos separar nuestro conjunto de datos."
      ]
    },
    {
      "cell_type": "code",
      "metadata": {
        "id": "jlbnCB7qsBn4"
      },
      "source": [
        "# esto para lograr reproductibilidad\n",
        "# de nuestro modelo\n",
        "random.seed(1)\n",
        "# usamos nuestra funcion para obtener el numero de muestras\n",
        "_, N = num_muestras_carac(x)\n",
        "ind=np.random.permutation(N)\n",
        "Xtrain = x[ind[0:int(math.ceil(0.7*N))],:]\n",
        "Xtest = x[ind[int(math.ceil(0.7*N)):N],:]\n",
        "Ytrain = y[ind[0:int(math.ceil(0.7*N))]]\n",
        "Ytest = y[ind[int(math.ceil(0.7*N)):N]]"
      ],
      "execution_count": null,
      "outputs": []
    },
    {
      "cell_type": "code",
      "metadata": {
        "cellView": "form",
        "id": "FN-97HegsBn4"
      },
      "source": [
        "#@title Pregunta Abierta\n",
        "#@markdown  ¿que representa Xtrain, que diferencia hay con Xtest? Explicar en terminos teoricos(no usar el código como justificación)\n",
        "respuesta_3 = \"\" #@param {type:\"string\"}"
      ],
      "execution_count": null,
      "outputs": []
    },
    {
      "cell_type": "markdown",
      "metadata": {
        "id": "WirOVVB3t-Dq"
      },
      "source": [
        "Ahora entrena ejecutando la siguiente linea de codigo y verifiquemos el comportamiento del costo"
      ]
    },
    {
      "cell_type": "code",
      "metadata": {
        "id": "0yZA7wcCt-Dr",
        "tags": []
      },
      "source": [
        "W, costo = gradiente_descendente(Xtrain, Ytrain, eta = 0.0001, iteraciones=5)\n",
        "# graficar iteraciones y el costo\n",
        "plt.plot(range(5), costo)"
      ],
      "execution_count": null,
      "outputs": []
    },
    {
      "cell_type": "markdown",
      "metadata": {
        "id": "FaJMlrKvsBn5"
      },
      "source": [
        "El costo es la medida interna de nuestro algoritmo de optimización sin embargo, para este tipo de problemas al final debemos evaluar que tan bien estamos modelando nuestra salida. Vamos a evaluar nuestro modelo calculando el error cuadrático medio. Para ello vamos crear a una función. Recuerda usar las funciones definidas anteriormente."
      ]
    },
    {
      "cell_type": "code",
      "metadata": {
        "id": "oi2YMyITt-Du"
      },
      "source": [
        "## Ejercicio de Código\n",
        "def evaluar_modelo (W, X_to_test, Y_True):\n",
        "    \"\"\" funcion que evalua un modelo de regresión usando el error cuadratico medio\n",
        "\n",
        "    W: es un matriz con los parametros del modelo entrenados\n",
        "    X_to_test: conjunto de datos para usar en el evaluamiento del modelo\n",
        "    Y_True: valores reales para usar en el evaluamiento del modelo\n",
        "\n",
        "    retorna: el error cuadratico medio\n",
        "    \"\"\"\n",
        "    ## Comienza a completar tu codigo. recuerda usar la funciones ya definidas\n",
        "    X_to_test_ext = extension_matriz(X_to_test)\n",
        "    y_est =\n",
        "    error =\n",
        "\n",
        "    return(error)"
      ],
      "execution_count": null,
      "outputs": []
    },
    {
      "cell_type": "code",
      "metadata": {
        "id": "5J2Y2CR0t-Dw",
        "tags": []
      },
      "source": [
        "## la funcion que prueba tu implementacion\n",
        "GRADER_LAB_1_P1.run_test(\"ejercicio3\", evaluar_modelo)"
      ],
      "execution_count": null,
      "outputs": []
    },
    {
      "cell_type": "code",
      "metadata": {
        "id": "SkVgkc_5t-Dy",
        "tags": []
      },
      "source": [
        "# y ahora usala para calcular el error, para evaluar el modelo\n",
        "error_train = evaluar_modelo(W, X_to_test = Xtrain,  Y_True = Ytrain)\n",
        "print(\"error en entrenamiento del modelo\", error_train)\n",
        "error_test = evaluar_modelo(W, X_to_test = Xtest,  Y_True = Ytest)\n",
        "print(\"error en la evaluación del modelo\", error_test)"
      ],
      "execution_count": null,
      "outputs": []
    },
    {
      "cell_type": "code",
      "metadata": {
        "cellView": "form",
        "id": "Dy9Ft9cJt-D0"
      },
      "source": [
        "#@title Pregunta Abierta\n",
        "#@markdown  ¿Que tan bueno es tu modelo? Justifica tu respuesta. Nota si el error tiene notación cientifica\n",
        "respuesta_4 = \"\" #@param {type:\"string\"}"
      ],
      "execution_count": null,
      "outputs": []
    },
    {
      "cell_type": "markdown",
      "metadata": {
        "id": "pq729RWGt-D3"
      },
      "source": [
        "Hasta ahora lo que hemos realizado es un regresión lineal no polinómica. Nuestro siguiente objetivo es tomar esta regresión y transformarla en polinómica. Comprenda el funcionamiento de la función propuesta"
      ]
    },
    {
      "cell_type": "code",
      "metadata": {
        "id": "3OU0ZVLut-D3"
      },
      "source": [
        "#Potencia de polinomio\n",
        "def potenciaPolinomio(X,grado):\n",
        "    \"\"\"calcula la potencia del polinomio\n",
        "    X: los valores que corresponden a las caractersiticas\n",
        "    grado: esl grado para realizar la potencia al polinomio\n",
        "    retorna: el valor de X despues elevarlo al grado del polinimoo indicado\n",
        "    \"\"\"\n",
        "    X2 = X.copy()\n",
        "    \n",
        "    if grado != 1:\n",
        "        for i in range(2,grado+1):\n",
        "            Xadd = X**i\n",
        "            X2 = np.concatenate((X2, Xadd), axis=1)\n",
        "    \n",
        "    return X2"
      ],
      "execution_count": null,
      "outputs": []
    },
    {
      "cell_type": "markdown",
      "metadata": {
        "id": "N37UeA5mt-D5"
      },
      "source": [
        "ahora debemos usar esta función para completar la siguiente.\n",
        "**PISTAS**\n",
        "- Usa las funciones previamente construidas\n",
        "- Para completar `gradiente_descendente_poly` Tener presente que buscamos realizar este proceso: aplicar la `potenciaPolinomio` ->  aplicar gradiente descendente\n",
        "- Para completar `evaluar_modelo_poly` Tener presente que buscamos realizar este proceso: aplicar la `potenciaPolinomio`  -> evaluar el modelo"
      ]
    },
    {
      "cell_type": "code",
      "metadata": {
        "id": "lJd2w7ezt-D5"
      },
      "source": [
        "## Ejercicio de codigo\n",
        "def gradiente_descendente_poly (X, Y, eta, iteraciones, grado):\n",
        "    \"\"\"Gradiente descendente para regresión lineal múltiple\n",
        "    X: Matriz de datos extendida\n",
        "    Y: vector con los valores a predecir\n",
        "    W: Vector de parámetros del modelo\n",
        "    eta: Taza de aprendizaje\n",
        "    iteraciones: numero de iteraciones maximo para el gradiente\n",
        "    grado: el valor del polinomio a usar\n",
        "    \n",
        "    retorna: W el valor de de los parametros de regresión polinomica\n",
        "             costo: array con el valor del costo por cada iteracion\n",
        "            \n",
        "    \"\"\"\n",
        "    ## completa el codigo\n",
        "    X2 = \n",
        "    W, costo =\n",
        "    return (W, costo)\n",
        "\n",
        "def evaluar_modelo_poly (W, X_to_test, Y_True, grado):\n",
        "    \"\"\" funcion que evalua un modelo de regresión usando el error cuadratico medio\n",
        "\n",
        "    W: es un matriz con los parametros del modelo entrenados\n",
        "    X_to_test: conjunto de datos para usar en el evaluamiento del modelo\n",
        "    Y_True: valores reales para usar en el evaluamiento del modelo\n",
        "    grado: grado del polinimio a usar\n",
        "\n",
        "    retorna: el error cuadratico medio\n",
        "    \"\"\"\n",
        "    ## Comienza a completar tu codigo. recuerda usar la funciones ya definidas\n",
        "    X2 = \n",
        "    error = \n",
        "    \n",
        "    return(error)"
      ],
      "execution_count": null,
      "outputs": []
    },
    {
      "cell_type": "code",
      "metadata": {
        "id": "ji7q97o1t-D7",
        "tags": []
      },
      "source": [
        "## la funcion que prueba tu implementacion\n",
        "GRADER_LAB_1_P1.run_test(\"ejercicio4\", gradiente_descendente_poly)"
      ],
      "execution_count": null,
      "outputs": []
    },
    {
      "cell_type": "code",
      "metadata": {
        "id": "RNsDxiFZsBn8"
      },
      "source": [
        "## la funcion que prueba tu implementacion\n",
        "GRADER_LAB_1_P1.run_test(\"ejercicio5\", evaluar_modelo_poly)"
      ],
      "execution_count": null,
      "outputs": []
    },
    {
      "cell_type": "markdown",
      "metadata": {
        "id": "0yGe9d6ysBn8"
      },
      "source": [
        "Entrenemos y evaluemos el comportamiento del costo con la regresion polinomica ¿El cambio fue bueno?"
      ]
    },
    {
      "cell_type": "code",
      "metadata": {
        "id": "FYhz7MRIt-D8",
        "tags": []
      },
      "source": [
        "# entrenamos\n",
        "W, costo_poly = gradiente_descendente_poly(Xtrain, Ytrain, eta = 0.0001, iteraciones=5, grado = 2)\n",
        "plt.plot(range(5), costo_poly)"
      ],
      "execution_count": null,
      "outputs": []
    },
    {
      "cell_type": "code",
      "metadata": {
        "id": "CYMnh6n7t-EA",
        "tags": []
      },
      "source": [
        "# completa los parametros para evaluar el modelo\n",
        "error_test = evaluar_modelo_poly(W, X_to_test = Xtest,  Y_True = Ytest, grado = 2)\n",
        "print(\"error en la evaluación del modelo\", error_test)"
      ],
      "execution_count": null,
      "outputs": []
    },
    {
      "cell_type": "markdown",
      "metadata": {
        "id": "5pBn_Tt6t-EC"
      },
      "source": [
        "### Ejercicio 4: Experimentar\n",
        "\n",
        "En nuestro primer experimento vamos a evaluar el rendimiento del modelo usando varias tasas de aprendizaje y grados de polinimios. Vamos a dejar por ahora un numero de iteraciones fijas = 5. Para ello completa la siguiente función.\n",
        "\n"
      ]
    },
    {
      "cell_type": "code",
      "metadata": {
        "id": "ALxnYTFTt-EC"
      },
      "source": [
        "## ejercicio de codigo\n",
        "def experimentar (Xtrain, Xtest, Ytrain, Ytest, tasas, grados):\n",
        "    \"\"\" funcion para realizar experimentos.\n",
        "    Xtrain: conjunto de datos\n",
        "    Xtest:\n",
        "    Ytrain:\n",
        "    Ytest:\n",
        "    tasas: Es una lista con los valores númericos de tasas de aprendizaje \n",
        "        para realizar los experimentos\n",
        "    grados: Es una lista con los valores númericos de grados \n",
        "        para realizar los experimentos\n",
        "    retorna: un dataframe con el resultados de los experimentos\n",
        "    \"\"\"\n",
        "    numero_iter = 5\n",
        "\n",
        "    resultados = pd.DataFrame()\n",
        "    idx = 0 # indice\n",
        "    for eta in tasas:\n",
        "        for grado in grados:\n",
        "            \n",
        "            # ignorar el costo\n",
        "            W, _ =\n",
        "            error = \n",
        "        \n",
        "            resultados.loc[idx,'grado'] = grado\n",
        "            resultados.loc[idx,'tasa de aprendizaje'] = eta\n",
        "            resultados.loc[idx,'ecm'] = error\n",
        "            idx = idx+1\n",
        "\n",
        "    return (resultados)"
      ],
      "execution_count": null,
      "outputs": []
    },
    {
      "cell_type": "code",
      "metadata": {
        "id": "dKC_CnY1t-EE",
        "tags": []
      },
      "source": [
        "## la funcion que prueba tu implementacion\n",
        "GRADER_LAB_1_P1.run_test(\"ejercicio6\", experimentar)"
      ],
      "execution_count": null,
      "outputs": []
    },
    {
      "cell_type": "code",
      "metadata": {
        "id": "8oxa-XkKt-EF",
        "tags": []
      },
      "source": [
        "## Ahora usa para verlos los resultados\n",
        "tasas_aprendizaje = [1e-6, 1e-5, 1e-3, 1e-2]\n",
        "grados_polinomio = [1,2]\n",
        "resultados_ex1 = experimentar(Xtrain, Xtest, Ytrain, Ytest, tasas_aprendizaje, grados_polinomio)"
      ],
      "execution_count": null,
      "outputs": []
    },
    {
      "cell_type": "code",
      "metadata": {
        "id": "zAOcZfoRt-EG",
        "tags": []
      },
      "source": [
        "#para ver los resultados\n",
        "resultados_ex1"
      ],
      "execution_count": null,
      "outputs": []
    },
    {
      "cell_type": "markdown",
      "metadata": {
        "id": "yoDS2e-gt-EI"
      },
      "source": [
        "Si has implementado todo correctamente, parecieria que nuestros entrenamientos no esta logrando buenos resultados (hasta parece haber errores infinitos! o no determinados!). Ahora Entiende la siguiente función. \n"
      ]
    },
    {
      "cell_type": "code",
      "metadata": {
        "id": "IhHXjgOmt-EI"
      },
      "source": [
        "#Normalizamos los datos\n",
        "def normalizar(Xtrain, Xtest):\n",
        "    \"\"\" función que se usa para normalizar los datos con\n",
        "    un metodo especifico\n",
        "    Xtrain: matriz de datos entrenamiento a normalizar\n",
        "    Xtest: matriz de datos evaluación a normalizar\n",
        "    retorna: matrices normalizadas\n",
        "    \"\"\"\n",
        "    \n",
        "    media = np.mean(Xtrain, axis = 0)\n",
        "    desvia = np.std(Xtrain, axis = 0)\n",
        "    Xtrain_n = stats.stats.zscore(Xtrain)\n",
        "    Xtest_n = (Xtest - media )/desvia\n",
        "    # si hay una desviacion por cero, reemplazamos los nan\n",
        "    Xtrain_n = np.nan_to_num(Xtrain_n)\n",
        "    Xtest_n = np.nan_to_num(Xtest_n)\n",
        "    return (Xtrain_n, Xtest_n)"
      ],
      "execution_count": null,
      "outputs": []
    },
    {
      "cell_type": "markdown",
      "metadata": {
        "id": "PzsHpPk1t-EK"
      },
      "source": [
        "Ahora vuelve a realizar los mismos experimentos pero esta vez usa los valores de salida de la función anterior."
      ]
    },
    {
      "cell_type": "code",
      "metadata": {
        "id": "ZZedE9Qdt-EK",
        "tags": []
      },
      "source": [
        "Xtrain_n, Xtest_n = normalizar(Xtrain, Xtest)"
      ],
      "execution_count": null,
      "outputs": []
    },
    {
      "cell_type": "code",
      "metadata": {
        "id": "j2a8O7c7t-EM",
        "tags": []
      },
      "source": [
        "resultados_ex2 = experimentar(Xtrain_n, Xtest_n, Ytrain, Ytest, tasas_aprendizaje, grados_polinomio)\n",
        "#para ver los resultados\n",
        "resultados_ex2"
      ],
      "execution_count": null,
      "outputs": []
    },
    {
      "cell_type": "code",
      "metadata": {
        "id": "CANS0MVut-EO"
      },
      "source": [
        "# ejecuta esta linea de codigo para graficar tus resultados\n",
        "# aca usamos una libreria llamada seaborn\n",
        "import seaborn as sns\n",
        "s = sns.catplot(data = resultados_ex2, x = 'tasa de aprendizaje',\n",
        "            y = 'ecm',hue ='grado', kind = 'bar', )"
      ],
      "execution_count": null,
      "outputs": []
    },
    {
      "cell_type": "markdown",
      "metadata": {
        "id": "LLvDR6k5t-EQ"
      },
      "source": [
        "Ten en cuenta el resutaldo de los  dos experimentos y  responde la  siguiente pregunta abierta"
      ]
    },
    {
      "cell_type": "code",
      "metadata": {
        "cellView": "form",
        "id": "aVFbsu0wt-EQ"
      },
      "source": [
        "#@title Pregunta Abierta\n",
        "#@markdown  ¿Qué proceso hace la normalización sobre los datos? Consulte por qué es necesaria la normalización en el modelo de regresión\n",
        "respuesta_5 = \"\" #@param {type:\"string\"}"
      ],
      "execution_count": null,
      "outputs": []
    },
    {
      "cell_type": "code",
      "metadata": {
        "cellView": "form",
        "id": "ZHmRIxrTdbuM"
      },
      "source": [
        "#@title Pregunta Abierta\n",
        "#@markdown  ¿cuáles son los tipos de normalización más comunes. ¿Cuál de ellos se aplicó en el laboratorio?\n",
        "respuesta_6 = \"\" #@param {type:\"string\"}"
      ],
      "execution_count": null,
      "outputs": []
    },
    {
      "cell_type": "markdown",
      "metadata": {
        "id": "1Z3nka5at-ES"
      },
      "source": [
        "Finalmente, en nuestro tercer experimento, vamos ver el efecto de las iteraciones sobre el error. completa la siguiente función. Esta vez la tasa de aprendizaje es constante"
      ]
    },
    {
      "cell_type": "code",
      "metadata": {
        "id": "i2eHfZC9t-ES",
        "tags": []
      },
      "source": [
        "## ejercicio de codigo\n",
        "def experimentar_2 (Xtrain, Xtest, Ytrain, Ytest, iteraciones, grados):\n",
        "    \"\"\" funcion para realizar experimentos.\n",
        "    Xtrain: conjunto de datos\n",
        "    Xtest:\n",
        "    Ytrain:\n",
        "    Ytest:\n",
        "    tasas: Es una lista con los valores númericos de tasas de aprendizaje \n",
        "        para realizar los experimentos\n",
        "    rangos: Es una lista con los valores númericos de grados \n",
        "        para realizar los experimentos\n",
        "    retorna: un dataframe con el resultados de los experimentos\n",
        "    \"\"\"\n",
        "    eta = 1e-2\n",
        "    resultados = pd.DataFrame()\n",
        "    idx = 0 # indice\n",
        "    for iter in iteraciones:\n",
        "        for grado in grados:\n",
        "            # ignora el costo\n",
        "            W , _= \n",
        "            error =\n",
        "        \n",
        "            resultados.loc[idx,'iteraciones'] = iter\n",
        "            resultados.loc[idx,'grado'] = grado\n",
        "            resultados.loc[idx,'ecm'] = error\n",
        "            idx = idx+1\n",
        "    return (resultados)"
      ],
      "execution_count": null,
      "outputs": []
    },
    {
      "cell_type": "code",
      "metadata": {
        "id": "1Q3TALf8t-ET",
        "tags": []
      },
      "source": [
        "## la funcion que prueba tu implementacion\n",
        "GRADER_LAB_1_P1.run_test(\"ejercicio7\", experimentar_2)"
      ],
      "execution_count": null,
      "outputs": []
    },
    {
      "cell_type": "code",
      "metadata": {
        "id": "GZIKf7PIt-EV",
        "tags": []
      },
      "source": [
        "num_iters = [1,5,10,50, 100,200, 1000, 2000]\n",
        "grados_polinomio = [1,2]\n",
        "# usamos la funcion para evaliar los resultados\n",
        "resultados_ex3 = experimentar_2(Xtrain_n, Xtest_n, Ytrain, Ytest, num_iters, grados_polinomio )"
      ],
      "execution_count": null,
      "outputs": []
    },
    {
      "cell_type": "code",
      "metadata": {
        "id": "E5ekonH6t-EW"
      },
      "source": [
        "# ejecuta esta linea de codigo para ver raficamente tus resultados\n",
        "# aca usamos una libreria llamada seaborn\n",
        "import seaborn as sns\n",
        "sns.relplot(data = resultados_ex3, x = 'iteraciones',\n",
        "            y = 'ecm',col ='grado', kind = 'line')"
      ],
      "execution_count": null,
      "outputs": []
    },
    {
      "cell_type": "code",
      "metadata": {
        "cellView": "form",
        "id": "Y0-BAqdgt-EY"
      },
      "source": [
        "#@title Pregunta Abierta\n",
        "#@markdown  ¿con base a los resultados anteriores, qué efecto tiene el numero de iteraciones en el error?\n",
        "respuesta_7 = \"\" #@param {type:\"string\"}"
      ],
      "execution_count": null,
      "outputs": []
    },
    {
      "cell_type": "code",
      "metadata": {
        "id": "gkLeD-pMuk_g"
      },
      "source": [
        "GRADER_LAB_1_P1.check_tests()"
      ],
      "execution_count": null,
      "outputs": []
    },
    {
      "cell_type": "code",
      "metadata": {
        "cellView": "form",
        "id": "Xz0gLt5At-Ec"
      },
      "source": [
        "#@title Integrantes\n",
        "codigo_integrante_1 ='' #@param {type:\"string\"}\n",
        "codigo_integrante_2 = ''  #@param {type:\"string\"}"
      ],
      "execution_count": null,
      "outputs": []
    },
    {
      "cell_type": "markdown",
      "metadata": {
        "id": "C_jp0Yjot-Ee"
      },
      "source": [
        "----\n",
        "esta linea de codigo va fallar, es de uso exclusivo del los profesores\n"
      ]
    },
    {
      "cell_type": "code",
      "metadata": {
        "id": "OxiTM5g7t-Ef"
      },
      "source": [
        "GRADER_LAB_1_P1.grade()"
      ],
      "execution_count": null,
      "outputs": []
    }
  ]
}