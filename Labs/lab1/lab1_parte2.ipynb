{
  "nbformat": 4,
  "nbformat_minor": 0,
  "metadata": {
    "colab": {
      "name": "lab1_parte2_solved.ipynb",
      "provenance": [],
      "collapsed_sections": []
    },
    "kernelspec": {
      "display_name": "Python 3.6.9 64-bit",
      "language": "python",
      "name": "python36964bite6e4b44aef15498b8e6b096ea0e41af2"
    },
    "language_info": {
      "codemirror_mode": {
        "name": "ipython",
        "version": 3
      },
      "file_extension": ".py",
      "mimetype": "text/x-python",
      "name": "python",
      "nbconvert_exporter": "python",
      "pygments_lexer": "ipython3",
      "version": "3.6.9"
    }
  },
  "cells": [
    {
      "cell_type": "markdown",
      "metadata": {
        "id": "DyhyA0EkYySm"
      },
      "source": [
        "**Recuerda que una vez abierto, Da clic en \"Copiar en Drive\", de lo contrario no podras alamancenar tu progreso**\n",
        "\n",
        "Nota: no olvide ir ejecutando las celdas de código de arriba hacia abajo para que no tenga errores de importación de librerías o por falta de definición de variables.\n"
      ]
    },
    {
      "cell_type": "code",
      "metadata": {
        "id": "fYhyYxyrYySm",
        "tags": []
      },
      "source": [
        "#configuración del laboratorio\n",
        "# Ejecuta esta celda!\n",
        "%load_ext autoreload\n",
        "%autoreload 2\n",
        "#for local\n",
        "#import sys ; sys.path.append('../commons/utils/'); sys.path.append('../commons/utils/data')\n",
        "!wget https://raw.githubusercontent.com/jdariasl/ML_2020/master/Labs/commons/utils/general.py -O general.py\n",
        "from general import configure_lab1_p2\n",
        "configure_lab1_p2()\n",
        "from lab1 import *\n",
        "GRADER, x, y = part_2()\n",
        "y = y.reshape(np.size(y), 1)"
      ],
      "execution_count": null,
      "outputs": []
    },
    {
      "cell_type": "markdown",
      "metadata": {
        "id": "X0kgAjuBYySp"
      },
      "source": [
        "# Laboratorio 1 - Parte 2. Regresión logística\n",
        "\n"
      ]
    },
    {
      "cell_type": "markdown",
      "metadata": {
        "id": "e0gwFeCnYySq"
      },
      "source": [
        "### Ejercicio 1: Contextualización del problema\n",
        "\n",
        "En esta sesión de laboratorio, vamos a resolver un problema de clasificación. Los variables que vamos a usar ya se encuentran cargadas:\n",
        "\n"
      ]
    },
    {
      "cell_type": "code",
      "metadata": {
        "id": "A-jBTrc4YySq",
        "tags": []
      },
      "source": [
        "# tienes ya cargadas las siguientes variables:\n",
        "print(\"conjunto de datos, muestra \\n\",x[range(10), :] )\n",
        "print(\"\")\n",
        "print(\" muestra de etiquetas a predecir \\n\", y[range(10)])"
      ],
      "execution_count": null,
      "outputs": []
    },
    {
      "cell_type": "code",
      "metadata": {
        "id": "5lvqd4i0YySs"
      },
      "source": [
        "#Ejercicio de Codigo\n",
        "def clases_muestras_carac(X, Y):\n",
        "    \"\"\"Esta funcion es encargada retornar el numero clases, muestras \n",
        "        y caracteristicas del conjunto de datos X y Y\n",
        "\n",
        "        X: matriz numpy con el conjunto de datos para entrenamiento\n",
        "        Y: matriz numpy con el conjunto de etiquetas\n",
        "        retorna:\n",
        "            numero de clases (int/float)\n",
        "            numero de muestras (int/float)\n",
        "            numero de caracteristicas (int/float)\n",
        "    \"\"\"\n",
        "    ##Pista: es de utilidad el metodo np.unique ?\n",
        "    N,nf = \n",
        "    clases = \n",
        "    \n",
        "    return (clases,N,nf)"
      ],
      "execution_count": null,
      "outputs": []
    },
    {
      "cell_type": "code",
      "metadata": {
        "id": "jBS6kWmkYySu",
        "tags": []
      },
      "source": [
        "## la funcion que prueba tu implementacion\n",
        "GRADER.run_test(\"ejercicio1\", clases_muestras_carac)"
      ],
      "execution_count": null,
      "outputs": []
    },
    {
      "cell_type": "markdown",
      "metadata": {
        "id": "I8zabv6IYySw"
      },
      "source": [
        "En los problemas de clasificación, que lo permiten, es de utilidad visualizar los datos. De esta manera se puede determinar que modelos o algortimos pueden tener mejor rendimiento. En la siguiente función, se debe: \n",
        "1. graficar los datos usando la función [scatter](https://matplotlib.org/gallery/shapes_and_collections/scatter.html) de matplotlib. [Recuerda consultar la documentación de la función](https://matplotlib.org/stable/api/_as_gen/matplotlib.pyplot.scatter.html#matplotlib.pyplot.scatter)\n",
        "2. Asginar un color Map diferente al de defecto. [Aca pueder los valores posibles](https://matplotlib.org/stable/tutorials/colors/colormaps.html)."
      ]
    },
    {
      "cell_type": "code",
      "metadata": {
        "id": "xjiRibSVYySw"
      },
      "source": [
        "#Ejercicio de Codigo\n",
        "def scatter_plot(X, Y):\n",
        "    \"\"\"Esta funcion es encargada de graficar usando un scatter plot\n",
        "       un problema de clasificacion.\n",
        "\n",
        "        X: matriz numpy con el conjunto de datos para entrenamiento.\n",
        "           esta debera ser usada para los ejes del grafico. puede asumir\n",
        "           que solo va tener dos columnas\n",
        "        Y: matriz numpy con el conjunto de etiquetas. Debera se usada\n",
        "           para mostrar en diferentes colores, las etiquetas de cada una\n",
        "           de las muestras\n",
        "        retorna:\n",
        "            No retorna nada, el grafico debe aparecer\n",
        "    \"\"\"\n",
        "    ## puedes acceder con plt a la funcion adecuacada\n",
        "    ## Pista: recuerda como indexar matrices\n",
        "    ## Consulta como pasar el Color Map\n",
        "    plt.\n",
        "    # para mostrar el grafico\n",
        "    plt.show()\n",
        "   \n",
        "    return (None)"
      ],
      "execution_count": null,
      "outputs": []
    },
    {
      "cell_type": "code",
      "metadata": {
        "id": "5fdDHIH0YyS0",
        "tags": []
      },
      "source": [
        "## la funcion que prueba tu implementacion\n",
        "# ignora los graficos que se muestran \n",
        "GRADER.run_test(\"ejercicio2\", scatter_plot)"
      ],
      "execution_count": null,
      "outputs": []
    },
    {
      "cell_type": "code",
      "metadata": {
        "id": "1lV4cGVlkjCk"
      },
      "source": [
        "# usarla para ver el grafico\n",
        "# se debe ver dos nubes de puntos diferenciadas\n",
        "scatter_plot(x,y)"
      ],
      "execution_count": null,
      "outputs": []
    },
    {
      "cell_type": "code",
      "metadata": {
        "cellView": "form",
        "id": "sq2e7UwwYyS2"
      },
      "source": [
        "#@title Pregunta Abierta\n",
        "#@markdown  ¿El problema es linealmente separable? justifique su respuesta \n",
        "respuesta_1 = \"\" #@param {type:\"string\"}"
      ],
      "execution_count": null,
      "outputs": []
    },
    {
      "cell_type": "markdown",
      "metadata": {
        "id": "UYCpYnI0YyS4"
      },
      "source": [
        "### Ejercicio 2: entrenamiento\n",
        "\n",
        "En este laboratorio se va a realizar un procedimiento análogo al laboratorio anterior, pero con el modelo de *regresión logística* que sirve para resolver problemas de clasificación (en principio biclase).\n",
        "\n",
        "¿Cómo se relacionan los siguientes conceptos a la luz del modelo de regresión logística? \n",
        "\n",
        "1. Función de activación \n",
        "2. Extensión de matriz\n",
        "2. Modelo de regresión logística\n",
        "3. Potencia del polinomio \n",
        "4. El cálculo del error en clasificación \n",
        "5. El gradiente descendente\n",
        "\n",
        "Vamos a completar la función del sigmoide:"
      ]
    },
    {
      "cell_type": "code",
      "metadata": {
        "id": "WAQAglStYyS4"
      },
      "source": [
        "#Ejercicio de Código\n",
        "def sigmoidal(z):\n",
        "    \"\"\"Función de activación Sigmoidal\n",
        "\n",
        "    z: es la varible a la que se le va aplicar el sigmoide.\n",
        "       es un array numpy de uan sola dimension\n",
        "    retorna: el valor del sigmiode\n",
        "\n",
        "    \"\"\"\n",
        "    #Complete la siguiente línea con el código para calcular la salida de la función sigmoidal\n",
        "    # ¿Que metodo de np...{} es de utilidad?\n",
        "    s = np.\n",
        "    \n",
        "    return s"
      ],
      "execution_count": null,
      "outputs": []
    },
    {
      "cell_type": "code",
      "metadata": {
        "id": "hiui_rfgYyS6",
        "tags": []
      },
      "source": [
        "## la funcion que prueba tu implementacion\n",
        "GRADER.run_test(\"ejercicio3\", sigmoidal)"
      ],
      "execution_count": null,
      "outputs": []
    },
    {
      "cell_type": "markdown",
      "metadata": {
        "id": "6t8dJoLfYyS7"
      },
      "source": [
        "La siguiente celda se sugiere la implementación de 3 métodos que nos ayudaran a implementar los otros conceptos. \n",
        "\n",
        "1. Modelo de regresión logística(Esta función usa nuestra `sigmoidal`)\n",
        "2. Extensión de matriz\n",
        "2. Potencia del polinomio \n",
        "4. Cálculo del error en clasificación\n",
        "\n",
        "Debemos comprender que hacen estas funciones para determinar donde poder usarlas mas adelante. Luego de ellos, ejecuta la celda para cargarlas."
      ]
    },
    {
      "cell_type": "code",
      "metadata": {
        "id": "u-yCVeVQYyS8"
      },
      "source": [
        "def logistic_regression(X, W):\n",
        "    \"\"\"calcula la regresión logistica\n",
        "    X: los valores que corresponden a las caractersiticas\n",
        "    W: son los pesos usadados para realizar la regresión\n",
        "    retorna: valor estimado por la regresion\n",
        "    \"\"\"\n",
        "    #Con np.dot se realiza el producto matricial. Aquí X (extendida) tiene dim [Nxd] y W es dim [dx1]\n",
        "    Yest = np.dot(X,W)\n",
        "    Y_lest = sigmoidal(Yest)\n",
        "   \n",
        "    return Y_lest    #Y estimado: Esta variable contiene ya tiene la salida de sigm(f(X,W))\n",
        "\n",
        "def extension_matriz(X):\n",
        "    \"\"\"funcion que realiza la extension de la matriz X\n",
        "    X: los valores que corresponden a las caractersiticas sin extender\n",
        "    retorna: X_ext: matriz con unos extendidos\n",
        "    \"\"\"\n",
        "    #Obtenemos las dimensiones antes de exteneder la matriz\n",
        "    muestras,caracterisitcas =X.shape\n",
        "    #Extendemos la matriz X\n",
        "    unos = np.array([np.ones(muestras)])\n",
        "    X_ext = np.concatenate((unos.T, X), axis=1)\n",
        "    X_ext = X_ext.reshape(muestras, caracterisitcas+1)\n",
        "    return (X_ext)\n",
        "\n",
        "\n",
        "def potenciaPolinomio(X,grado):\n",
        "    \"\"\"calcula la potencia del polinomio\n",
        "    X: los valores que corresponden a las caractersiticas\n",
        "    grado: esl grado para realizar la potencia al polinomio\n",
        "    retorna: el valor de X despues elevarlo al grado del polinimoo indicado\n",
        "    \"\"\"\n",
        "    X2 = X.copy()\n",
        "    \n",
        "    if grado != 1:\n",
        "        for i in range(2,grado+1):\n",
        "            Xadd = X**i\n",
        "            X2 = np.concatenate((X2, Xadd), axis=1)\n",
        "    \n",
        "    return X2\n",
        "\n",
        "def cost_logistic(Y_lest, Y):\n",
        "    \"\"\"calculo del error logistico\n",
        "       Si es diferente el Y_estimado con el Y_real cuenta como un error\n",
        "       Y_lest: numpy array con los valores reales estimados\n",
        "       Y:  numpy array  valor con los valores reales de las etiquetas\n",
        "       retorna: costo logistico  -- numpy array\n",
        "    \"\"\"\n",
        "    f1 = Y*np.log(Y_lest)\n",
        "    f2 = (1-Y)*np.log(1-Y_lest)\n",
        "    error = -np.sum(f1+f2)/Y.shape[0]\n",
        "    return error"
      ],
      "execution_count": null,
      "outputs": []
    },
    {
      "cell_type": "code",
      "metadata": {
        "id": "qZ-3olu-sQyM"
      },
      "source": [
        "# ten en cuenta la salida de esta prueba para responder la pregunta abierta siguiente\n",
        "vector = np.array([[1,4]])\n",
        "print(vector)\n",
        "potenciaPolinomio(vector, 3)"
      ],
      "execution_count": null,
      "outputs": []
    },
    {
      "cell_type": "code",
      "metadata": {
        "cellView": "form",
        "id": "Z8waNHm0YyTT"
      },
      "source": [
        "#@title Pregunta Abierta\n",
        "#@markdown  Analizando lo anterior y asumiendo que el vector es representado como [x1, x2] ¿Cual seria la representación de `potenciaPolinomio(vector, 3)`? (usa ** para representar potencia, i.e x1**2 simboliza x1 elevado al cuadrado)\n",
        "respuesta_2 = \"\" #@param {type:\"string\"}"
      ],
      "execution_count": null,
      "outputs": []
    },
    {
      "cell_type": "markdown",
      "metadata": {
        "id": "P6rbFHQxYyS_"
      },
      "source": [
        "recordando lo aprendido anteriormente, dividimos nuestro cojunto de datos y normalizamos.\n",
        "**SOLO EJECUTAR UNA VEZ**"
      ]
    },
    {
      "cell_type": "code",
      "metadata": {
        "id": "8F2NBNVwYyTA"
      },
      "source": [
        "#Dejamos algunas muestras para el proceso de entrenamiento y otras para evaluar qué tan bueno fue el aprendizaje del modelo\n",
        "random.seed(1)\n",
        "N = x.shape[0]\n",
        "ind=np.random.permutation(N)\n",
        "Xtrain = x[ind[0:int(math.ceil(0.7*N))],:]\n",
        "Xtest = x[ind[int(math.ceil(0.7*N)):N],:]\n",
        "Ytrain = y[ind[0:int(math.ceil(0.7*N))]]\n",
        "Ytest = y[ind[int(math.ceil(0.7*N)):N]]\n",
        "# normalizamos\n",
        "Xtrain, Xtest = normalizar(Xtrain, Xtest)"
      ],
      "execution_count": null,
      "outputs": []
    },
    {
      "cell_type": "markdown",
      "metadata": {
        "id": "NX9X-ocwYyTC"
      },
      "source": [
        "Ahora vamos a completar el código de la regla de actualización de los parámetros del algoritmo de **gradiente_descedente** \n",
        "\n",
        "\n",
        "$$w_j(iter) = w_j(iter-1) - \\eta \\frac{\\partial E(w)}{\\partial w_j}$$ \n",
        "\n",
        "recordar que aca queremos reducir el costo logistico, pero la actualización de los pesos sigue siendo equivalente a la regresión vista anteriormente, solo que agregando la función $g$ que corresponde al sigmoide.\n",
        "\n",
        "$$ \\frac{\\partial E(w)}{\\partial w_j} = \\frac{\\partial J({\\bf{w}})}{\\partial w_j} = \\frac{1}{N} \\sum_{i=1}^{N}\\left( g(f({\\bf{x}}_i,{\\bf{w}})) - t_i\\right)x_{ij}$$\n",
        "\n",
        "Debemos tener presente:\n",
        "- Usar las funciones ya implementadas y no usar **ninguna otra libreria** adicional a las librerias ya pre-cargadas como numpy.\n",
        "- Dentro de nuestra función **vamos incluir una transformación polinómica**, por lo tanto el proceso a implementar puede ser descrito en los siguientes pasos:\n",
        "    - Aplicar la transformación polinómica\n",
        "    - Extender la matriz\n",
        "    - Inicializar $w$\n",
        "    - Y por cada iteración realizar el cálculo para actualizar $w$"
      ]
    },
    {
      "cell_type": "code",
      "metadata": {
        "id": "zLtR3kdKYyTC"
      },
      "source": [
        "#ejercicio de codigo\n",
        "def gradiente_descendente_logistic_poly(X,Y,grado,eta, iteraciones):\n",
        "    \"\"\"Gradiente descendente para regresión lineal múltiple\n",
        "    X: Matriz de datos extendida\n",
        "    Y: vector con los valores a predecir\n",
        "    W: Vector de parámetros del modelo\n",
        "    eta: Taza de aprendizaje\n",
        "    grado: grado para usar en la transformacion polinomica\n",
        "    iteraciones: numero de iteraciones maxima\n",
        "\n",
        "    retorna: W el valor de de los parametros de regresión polinomica\n",
        "    \"\"\"\n",
        "    # aplicamos la transformación\n",
        "    X2 = potenciaPolinomio(X,grado)\n",
        "    \n",
        "    # realizamos la extensión\n",
        "    X2_ext = \n",
        "    \n",
        "    #Tomamos el número de variables del problema leugo de la transformacion\n",
        "    d = X2_ext.shape[1]\n",
        "    #Tomamos el número de muestras de la base de datos\n",
        "    N = X2_ext.shape[0]\n",
        "    #Inicializamos w\n",
        "    W = np.zeros(d)\n",
        "    W = W.reshape(np.size(W),1)\n",
        "    costos = np.zeros(iteraciones)\n",
        "      \n",
        "    for iter in range(iteraciones):\n",
        "       \n",
        "        #Aquí debe completar el código con la regla de actualización de los parámetros W para regresión\n",
        "        #logística. Tenga en cuenta los nombres de las variables ya creadas: W, X, Y\n",
        " \n",
        "        costo = cost_logistic(,)\n",
        "        W =  \n",
        "        #adicionamos el costo por cada iteracion\n",
        "        costos[iter] = costo\n",
        "\n",
        "\n",
        "    print(\"costo despues de finalizar las iteraciones\", costo)\n",
        "    return W, costos"
      ],
      "execution_count": null,
      "outputs": []
    },
    {
      "cell_type": "code",
      "metadata": {
        "id": "lhrk1KyYYyTE",
        "tags": []
      },
      "source": [
        "## la funcion que prueba tu implementacion\n",
        "# ignorar los print que se ejecutan\n",
        "GRADER.run_test(\"ejercicio4\", gradiente_descendente_logistic_poly)"
      ],
      "execution_count": null,
      "outputs": []
    },
    {
      "cell_type": "markdown",
      "metadata": {
        "id": "MgFhLoPPkjCp"
      },
      "source": [
        "Veamos de manera preliminar, si nuestro algortimo de gradiente esta optimizando el costo. \n",
        "Vamos entrenar con 100 iteraciones y vamos a graficar el costo logistico y verificar como cambia de acuerdo a las iteraciones.\n",
        "¿Que pasa si cambias el grado?"
      ]
    },
    {
      "cell_type": "code",
      "metadata": {
        "id": "1c-0Dau4kjCp"
      },
      "source": [
        "iteraciones = 100\n",
        "w, costos_logistico = gradiente_descendente_logistic_poly(Xtrain,Ytrain,grado = 1, eta = 10, iteraciones = iteraciones)\n",
        "print(\"este las dimensiones de w son:\", w.shape)\n",
        "plt.plot(range(iteraciones), costos_logistico)"
      ],
      "execution_count": null,
      "outputs": []
    },
    {
      "cell_type": "code",
      "metadata": {
        "cellView": "form",
        "id": "Ar8jAgc5sQyO"
      },
      "source": [
        "#@title Pregunta Abierta\n",
        "#@markdown  ¿con base a los resultados anteriores, qué efecto tiene el grado en el comportamiento del costo? justifique\n",
        "respuesta_3 = \"\" #@param {type:\"string\"}"
      ],
      "execution_count": null,
      "outputs": []
    },
    {
      "cell_type": "markdown",
      "metadata": {
        "id": "pjpTN71aYyTF"
      },
      "source": [
        "Como habiamos visto antes, el costo es nuestra medida de optimización, pero al final debemos evaluar que tambien esta realizando la tarea de clasificar. Entiende la siguiente función. Prestemos especial atención al bloque `if-else`. "
      ]
    },
    {
      "cell_type": "code",
      "metadata": {
        "id": "DhbCT0H0YyTG"
      },
      "source": [
        "def evaluar_modelo (W, X_to_test, Y_True, grado):\n",
        "    \"\"\" funcion que evalua un modelo de clasificación\n",
        "\n",
        "W: es un matriz con los parametros del modelo entrenados\n",
        "    X_to_test: conjunto de datos para usar en el evaluamiento del modelo\n",
        "    Y_True: valores reales para usar en el evaluamiento del modelo\n",
        "    grado: valor del polinomio a usar\n",
        "\n",
        "    retorna: el error de clasificación.\n",
        "    \"\"\"\n",
        "    X2 = potenciaPolinomio(X_to_test,grado)\n",
        "    # realizamos la extensión\n",
        "    X2_ext = extension_matriz(X2)\n",
        "    Y_EST = logistic_regression(X2_ext,W)\n",
        "    #Se asignan los valores a 1 o 0 según el modelo de regresión logística definido\n",
        "    for pos, tag in enumerate (Y_EST):\n",
        "        \n",
        "        if tag >= 0.5:\n",
        "            Y_EST[pos] = 1\n",
        "        else:\n",
        "            Y_EST[pos] = 0\n",
        "            \n",
        "    error = 0\n",
        "    \n",
        "    for ye, y in zip(Y_EST, Y_True):\n",
        "        if ye != y:\n",
        "            error += 1\n",
        "    error_clasificacion =  error/np.size(Y_True)\n",
        "    return(error_clasificacion)\n"
      ],
      "execution_count": null,
      "outputs": []
    },
    {
      "cell_type": "markdown",
      "metadata": {
        "id": "IhmZJmD-kjCq"
      },
      "source": [
        "Probemos la función al evaluar el w obtenido. Tener presente que para la evaluación usamos el X y Y adecuado. Recuerda usar el grado de acuerdo a la ultima ejecución."
      ]
    },
    {
      "cell_type": "code",
      "metadata": {
        "id": "DzIDU8CYkjCq"
      },
      "source": [
        "# recuerda que si entrenaste con grado = 2 debes asignar el mismo valor.\n",
        "error_test = evaluar_modelo(w, Xtest, Ytest, grado = 1)\n",
        "print(\"error en el conjunto de pruebas\", error_test)"
      ],
      "execution_count": null,
      "outputs": []
    },
    {
      "cell_type": "markdown",
      "metadata": {
        "id": "EhaV3W7IYyTH"
      },
      "source": [
        "### Ejercicio 3: Experimentar"
      ]
    },
    {
      "cell_type": "markdown",
      "metadata": {
        "id": "bH00WKqYYyTJ"
      },
      "source": [
        "En nuestro primer experimento vamos a evaluar el rendimiento del modelo usando varias tasas de aprendizaje y grados de polinimios. Vamos a dejar por ahora un numero de iteraciones fijas = 30. Para ello completa la siguiente función. Recuerda usar las funciones anteriores."
      ]
    },
    {
      "cell_type": "code",
      "metadata": {
        "id": "2L4aHWL4YyTK"
      },
      "source": [
        "## ejercicio de codigo\n",
        "def experimentar (Xtrain, Xtest, Ytrain, Ytest, tasas, grados):\n",
        "    \"\"\" funcion para realizar experimentos.\n",
        "    Xtrain: conjunto de datos\n",
        "    Xtest:\n",
        "    Ytrain:\n",
        "    Ytest:\n",
        "    tasas: Es una lista con los valores númericos de tasas de aprendizaje \n",
        "        para realizar los experimentos\n",
        "    grados: Es una lista con los valores númericos de grados \n",
        "        para realizar los experimentos\n",
        "    retorna: un dataframe con el resultados de los experimentos\n",
        "    \"\"\"\n",
        "    numero_iter = 30\n",
        "\n",
        "    resultados = pd.DataFrame()\n",
        "    idx = 0 # indice\n",
        "    for eta in tasas:\n",
        "        for grado in grados:\n",
        "            # ignorar el costo\n",
        "            W, _ = \n",
        "            error_entrenamiento = \n",
        "            error_prueba = \n",
        "            resultados.loc[idx,'grado'] = grado\n",
        "            resultados.loc[idx,'tasa de aprendizaje'] = eta\n",
        "            resultados.loc[idx,'error_entreamiento'] = error_entrenamiento\n",
        "            resultados.loc[idx,'error_prueba'] = error_prueba\n",
        "            idx = idx+1\n",
        "\n",
        "    return (resultados)"
      ],
      "execution_count": null,
      "outputs": []
    },
    {
      "cell_type": "code",
      "metadata": {
        "id": "n4Y2qwvnYyTL",
        "tags": []
      },
      "source": [
        "## la funcion que prueba tu implementacion\n",
        "# ignorar los prints de \"costo despues de finalizar\"!\n",
        "GRADER.run_test(\"ejercicio5\", experimentar)"
      ],
      "execution_count": null,
      "outputs": []
    },
    {
      "cell_type": "code",
      "metadata": {
        "id": "PNZ702IVYyTN",
        "tags": []
      },
      "source": [
        "tasas = [10.0, 1.0, 0.1, 0.001]\n",
        "grados = [1,2,3]\n",
        "resultados = experimentar (Xtrain, Xtest, Ytrain, Ytest, tasas, grados)"
      ],
      "execution_count": null,
      "outputs": []
    },
    {
      "cell_type": "code",
      "metadata": {
        "id": "i0S18dT2YyTO"
      },
      "source": [
        "# para ver los resultados\n",
        "resultados"
      ],
      "execution_count": null,
      "outputs": []
    },
    {
      "cell_type": "code",
      "metadata": {
        "cellView": "form",
        "id": "2o0zE_e7YyTS"
      },
      "source": [
        "#@title Pregunta Abierta\n",
        "#@markdown  ¿con base a los resultados anteriores, qué efecto tiene la  tasa de aprendizaje en los errores de entrenamiento y de prueba? justifique\n",
        "respuesta_4 = \"\" #@param {type:\"string\"}"
      ],
      "execution_count": null,
      "outputs": []
    },
    {
      "cell_type": "markdown",
      "metadata": {
        "id": "T-bRi6p6YyTY"
      },
      "source": [
        "Vamos entrenar nuevamente pero solo con los mejores parámetros. Si hay parametros empatados, el modelo que tenga menos parámetros deberia ser el mejor (recuerda que cuando aumentamos el grado del polinomio aumentamos el número de parametros del modelo)."
      ]
    },
    {
      "cell_type": "code",
      "metadata": {
        "id": "v-LG4-DhYyTY"
      },
      "source": [
        "# puedes usar el siguiente código para ordenar los resultados y ver los 3 primeros\n",
        "# resultados, usa esta salida, para ver cuales fueron los mejores parámetros\n",
        "resultados.sort_values(by = ['error_prueba', 'grado'], ascending = True).head(3)"
      ],
      "execution_count": null,
      "outputs": []
    },
    {
      "cell_type": "code",
      "metadata": {
        "cellView": "form",
        "id": "ZnGyv4JtYyTd"
      },
      "source": [
        "#@title Pregunta Abierta\n",
        "#@markdown ¿por qué se uso el error de prueba para ordenar la tabla de resultados en lugar del error de entrenamiento?\n",
        "respuesta_5 = \"\" #@param {type:\"string\"}"
      ],
      "execution_count": null,
      "outputs": []
    },
    {
      "cell_type": "markdown",
      "metadata": {
        "id": "XGMsmcCtkjCs"
      },
      "source": [
        "Entrenemos con los mejores parámetros"
      ]
    },
    {
      "cell_type": "code",
      "metadata": {
        "id": "q81OIPYJYyTa",
        "tags": []
      },
      "source": [
        "# ignoramos el costo!\n",
        "W,_= gradiente_descendente_logistic_poly(Xtrain,Ytrain,grado =  ,eta =  , iteraciones = 20)\n",
        "print(\"estos son los pesos para el modelo entrenando \\n\", W)"
      ],
      "execution_count": null,
      "outputs": []
    },
    {
      "cell_type": "markdown",
      "metadata": {
        "id": "SVRyPRaBkjCs"
      },
      "source": [
        "Debemos recordar que el modelo creado se puede resumir en una ecuación usando los pesos de $w$. En el  siguiente ejemplo la ecuación estaria dada como: 2.0 + 3.0*x1 + 4.0*x2, para el caso del polinomio grado 1.\n",
        "\n",
        "![vectorization](https://raw.githubusercontent.com/jdariasl/ML_2020/master/Labs/commons/images/frontera_logistic.jpg)\n",
        "\n",
        "\n",
        "Usando los valores del ultimo $w$ entrenado podriamos construir la función que define nuestra frontera.\n"
      ]
    },
    {
      "cell_type": "code",
      "metadata": {
        "cellView": "form",
        "id": "2FZeWG54YyTg"
      },
      "source": [
        "#@title Pregunta Abierta\n",
        "#@markdown Escribe el modelo completo con sus variables y coeficientes de f(**x**,**w**) con la mejor frontera de decisión que encontró. Recuerda tener presente el grado del polinomio.\n",
        "respuesta_6 = \"0.0x1...\" #@param {type:\"string\"}"
      ],
      "execution_count": null,
      "outputs": []
    },
    {
      "cell_type": "code",
      "metadata": {
        "id": "qdlLAktOYyTh",
        "tags": []
      },
      "source": [
        "GRADER.check_tests()"
      ],
      "execution_count": null,
      "outputs": []
    },
    {
      "cell_type": "code",
      "metadata": {
        "cellView": "form",
        "id": "U0DWcBDcYyTj"
      },
      "source": [
        "#@title Integrantes\n",
        "codigo_integrante_1 ='' #@param {type:\"string\"}\n",
        "codigo_integrante_2 = ''  #@param {type:\"string\"}"
      ],
      "execution_count": null,
      "outputs": []
    },
    {
      "cell_type": "markdown",
      "metadata": {
        "id": "19FgbUXzYyTl"
      },
      "source": [
        "----\n",
        "esta linea de codigo va fallar, es de uso exclusivo del los profesores\n"
      ]
    },
    {
      "cell_type": "code",
      "metadata": {
        "id": "KepG_JTvYyTl"
      },
      "source": [
        "GRADER.grade()"
      ],
      "execution_count": null,
      "outputs": []
    }
  ]
}