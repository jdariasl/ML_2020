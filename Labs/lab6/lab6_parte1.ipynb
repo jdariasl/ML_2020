{
 "cells": [
  {
   "cell_type": "markdown",
   "metadata": {
    "id": "2XrHhhIO3dxk"
   },
   "source": [
    "<a href=\"https://colab.research.google.com/github/jdariasl/ML_2020/blob/master/Labs/lab6/lab6_parte1.ipynb\">\n",
    "    <img src=\"https://colab.research.google.com/assets/colab-badge.svg\" alt=\"Open In Colab\"/></a>\n",
    "\n",
    "**Recuerda que una vez abierto, Da clic en \"Copiar en Drive\", de lo contrario no podras almacenar tu progreso**\n",
    "\n",
    "Nota: no olvide ir ejecutando las celdas de código de arriba hacia abajo para que no tenga errores de importación de librerías o por falta de definición de variables."
   ]
  },
  {
   "cell_type": "code",
   "execution_count": null,
   "metadata": {
    "id": "YII73eZN3dxl"
   },
   "outputs": [],
   "source": [
    "#configuración del laboratorio\n",
    "# Ejecuta esta celda!\n",
    "%load_ext autoreload\n",
    "%autoreload 2\n",
    "#for local \n",
    "#import sys ; sys.path.append('../commons/utils/')\n",
    "!wget https://raw.githubusercontent.com/jdariasl/ML_2020/master/Labs/commons/utils/general.py -O general.py --no-cache\n",
    "from general import configure_lab6\n",
    "configure_lab6()\n",
    "from lab6 import *\n",
    "GRADER, x,y = part_1()"
   ]
  },
  {
   "cell_type": "markdown",
   "metadata": {
    "id": "4dp4MJ4GJjH3"
   },
   "source": [
    "# Laboratorio 6 - Parte 1: Reducción de dimensión y Selección de características"
   ]
  },
  {
   "cell_type": "markdown",
   "metadata": {
    "id": "2JuDVBmqJ0Mu"
   },
   "source": [
    "Este ejercicio tiene como objetivo implementar varias técnicas de selección de características y usar SVM para resolver un problema de clasificación multiclase."
   ]
  },
  {
   "cell_type": "markdown",
   "metadata": {
    "id": "XYcG4YJY3dxp"
   },
   "source": [
    "Para el problema de clasificación usaremos la siguiente base de datos: https://archive.ics.uci.edu/ml/datasets/Cardiotocography\n",
    "\n",
    "Analice la base de datos, sus características, su variable de salida y el contexto del problema."
   ]
  },
  {
   "cell_type": "code",
   "execution_count": null,
   "metadata": {
    "id": "-9_ncZq53dxp"
   },
   "outputs": [],
   "source": [
    "print('Dimensiones de la base de datos de entrenamiento. dim de x: ' + str(np.shape(x)) + '\\tdim de y: ' + str(np.shape(y)))"
   ]
  },
  {
   "cell_type": "markdown",
   "metadata": {
    "id": "b7hVspnq3dxr"
   },
   "source": [
    "**observación para las librerias sklearn **\n",
    "\n",
    "Llamar explicitamente los parametros de las librerias de sklearn (e.j. si se quiere usar el parametro `kernel` del `SVC`, se debe llamar `SVC(kernel='rbf'`)"
   ]
  },
  {
   "cell_type": "markdown",
   "metadata": {
    "id": "S-ohZuu_lC3p"
   },
   "source": [
    "## Ejercicio 1: Entrenamiento sin selección de características\n",
    "\n",
    "En nuestro primer ejercicio debemos completar la función para entrenar una SVM para resolver un problema de clasificación. Debemos completar siguiendo las recomendaciones:\n",
    "\n",
    "1. Mantener los parámetros sugeridos del SVC. \n",
    "2. Asignar el parametro de Kfold a los splits\n",
    "3. Usar la exactitud como medida de error del modulo [metrics de sklearn](https://scikit-learn.org/stable/modules/classes.html#module-sklearn.metrics)\n",
    "4. Esta función la vamos a usar como base para comparar nuestros metodos de selección de características."
   ]
  },
  {
   "cell_type": "code",
   "execution_count": null,
   "metadata": {
    "id": "r5bglRNYlDD3"
   },
   "outputs": [],
   "source": [
    "#ejercicio de código\n",
    "def entrenamiento_sin_seleccion_caracteristicas(splits, X, Y):\n",
    "    \"\"\"\n",
    "    Función que ejecuta el entrenamiento del modelo sin una selección particular\n",
    "    de las características\n",
    "\n",
    "      Parámetros:splits : numero de particiones  a realizar\n",
    "      Retorna:\n",
    "      1. El modelo entreando\n",
    "      2. El vector de errores\n",
    "      3. El Intervalo de confianza\n",
    "      4. El tiempo de procesamiento\n",
    "    \"\"\"\n",
    "    #Implemetamos la metodología de validación\n",
    "    Errores = np.ones(splits)\n",
    "    Score = np.ones(splits)\n",
    "    times = np.ones(splits)\n",
    "    j = 0\n",
    "    kf = KFold(...)\n",
    "    for train_index, test_index in kf.split(X):\n",
    "        X_train, X_test = X[train_index], X[test_index]\n",
    "        y_train, y_test = Y[train_index], Y[test_index]\n",
    "        scaler = StandardScaler()\n",
    "        X_train = scaler.fit_transform(X_train)\n",
    "        X_test = scaler.transform(X_test)\n",
    "        #Creamos el clasificador SVM.\n",
    "        clf = SVC(kernel=\"linear\", C=1)\n",
    "        #Aquí se entran y se valida el modelo sin hacer selección de características\n",
    "        ######\n",
    "        # Entrenamiento el modelo.\n",
    "        #Para calcular el costo computacional\n",
    "        tiempo_i = time.time()\n",
    "        clf.fit(X_train,y_train)\n",
    "        # Validación del modelo\n",
    "        Errores[j] = ...(y_true=..., y_pred=clf.predict(...))\n",
    "        times[j] = time.time()-tiempo_i\n",
    "        j+=1\n",
    "\n",
    "    return clf, np.mean(Errores), np.std(Errores), np.mean(times)"
   ]
  },
  {
   "cell_type": "code",
   "execution_count": null,
   "metadata": {
    "id": "1khu7XRL3dxu"
   },
   "outputs": [],
   "source": [
    "## la funcion que prueba tu implementacion\n",
    "GRADER.run_test(\"ejercicio1\", entrenamiento_sin_seleccion_caracteristicas)"
   ]
  },
  {
   "cell_type": "code",
   "execution_count": null,
   "metadata": {
    "cellView": "form",
    "id": "8dSyfJct3dxw"
   },
   "outputs": [],
   "source": [
    "#@title Pregunta Abierta\n",
    "#@markdown ¿Cuáles son los parámetros establecidos para el modelo?\n",
    "respuesta_1 = '' #@param {type:\"string\"}"
   ]
  },
  {
   "cell_type": "markdown",
   "metadata": {
    "id": "dzdeZ05pmOTX"
   },
   "source": [
    "## Ejercicio 2: Entrenamiento con selección de características\n",
    "\n",
    "La siguiente función \"wrapper\" nos permite hacer una selección de características utilizando la [librería recursive feature elimination de Sci-kit Learn](https://scikit-learn.org/stable/modules/generated/sklearn.feature_selection.RFE.html).\n",
    "\n",
    "Esta libreria es un metodo de seleccion carcterisitcas wrapper, que usa los coeficientes derivados de  un estimador entrenado para estimar que caracteristicas tienen mayor poder predictivo.\n",
    "\n",
    "Para completar debemos tener en cuenta lo siguiente:\n",
    "\n",
    "1. Para el número de caractersiticas usar el parametro feature_numbers\n",
    "2. Establecer el paso = 1 para ir eliminando las caracteristicas\n",
    "3. Asumir que el estimador se crea externamente de la función\n",
    "4. Entender los campos del RFE disponibles despues de entrenarlo, para obtener:\n",
    "    1. La mascara para saber que características fueron seleccionadas\n",
    "    2. El ranking de las caracteristicas"
   ]
  },
  {
   "cell_type": "code",
   "execution_count": null,
   "metadata": {
    "id": "vXBPDF57npM2"
   },
   "outputs": [],
   "source": [
    "#ejercicio de código\n",
    "def recursive_feature_elimination_wrapper(estimator, feature_numbers, X,Y):\n",
    "    \"\"\"\n",
    "    Esta función es un envoltorio del objeto RFE de sklearn\n",
    "\n",
    "    Parámetros:\n",
    "    estimator(sklearn.svm.SVC), El estimador SVM\n",
    "    feature_numbers(int), El número de características a considerar\n",
    "    X (numpy.array), El arreglo numpy de características\n",
    "    Y (numpy.array), El vector de etiquetas\n",
    "\n",
    "    Retorna:\n",
    "    El modelo entrenado ()\n",
    "    La máscara de características seleccionada, array [longitud de caracterisitcas de X]\n",
    "    El rankeo de características, array [longitud de caracterisitcas de X]\n",
    "    El objeto RFE entrenado sobre el set reducido de características\n",
    "    El tiempo de ejecución\n",
    "    \"\"\"\n",
    "    rfe = RFE(estimator=estimator, ...)\n",
    "    tiempo_i = time.time()\n",
    "    rfe.fit(...)\n",
    "    time_o = time.time()-tiempo_i\n",
    "    feature_mask = rfe...\n",
    "    features_rank = rfe...\n",
    "    estimator = rfe...\n",
    "\n",
    "    return rfe, feature_mask, features_rank, estimator, time_o"
   ]
  },
  {
   "cell_type": "code",
   "execution_count": null,
   "metadata": {
    "id": "UgAPU3Ww3dx1"
   },
   "outputs": [],
   "source": [
    "## la funcion que prueba tu implementacion\n",
    "GRADER.run_test(\"ejercicio2\", recursive_feature_elimination_wrapper)"
   ]
  },
  {
   "cell_type": "code",
   "execution_count": null,
   "metadata": {
    "cellView": "form",
    "id": "NDKQGGIv3dx3"
   },
   "outputs": [],
   "source": [
    "#@title Preguntas Abierta\n",
    "#@markdown ¿Que diferencia tiene el metodo implementado con un metodo de filtro? explicar\n",
    "respuesta_2 = '' #@param {type:\"string\"}"
   ]
  },
  {
   "cell_type": "markdown",
   "metadata": {
    "id": "NzD_kp5SyZDb"
   },
   "source": [
    "## Ejercicio 3:  Comparación de los resultados del modelo\n",
    "\n",
    "Ahora en la siguiente función, vamos a usar la función planteada para realizar experimentos con la selección de características. Para ello:\n",
    "1. Utilizar una metodología cross-validation.\n",
    "2. Usar como parametros para los experimentos el número de características y el número de splits/particiones\n",
    "3. Usar la función `recursive_feature_elimination_wrapper` para realizar la selección de características.\n",
    "3. Vamos a retornar un DataFrame con las siguientes columnas:\n",
    "    - CON_SEL (indicando si se uso selección de caracteristicas)\n",
    "    - NUM_VAR (número de selección de caracteristicas)\n",
    "    - NUM_SPLITS  (número de particiones realizadas)\n",
    "    - ERROR_VALIDACION\n",
    "    - IC_STD_VALIDACION\n",
    "    - T_EJECUCION: tiempo de ejecucción\n",
    "4. En las primeras filas del dataframe vamos a incluir la evaluación del modelo SVM sin selección de características (usando la función creada en el primer ejercicio). "
   ]
  },
  {
   "cell_type": "code",
   "execution_count": null,
   "metadata": {
    "id": "of3uVe6y3dx5"
   },
   "outputs": [],
   "source": [
    "#ejercicio de código\n",
    "def experimentar(n_feats, n_sets, X, Y):\n",
    "    \"\"\"\n",
    "    Esta función realiza la comparación del desempeño de RFE utilizando diferente \n",
    "    número de feats y particionando el conjunto de datos en diferente número de \n",
    "    subconjuntos\n",
    "\n",
    "    Parámetros:\n",
    "    X (numpy.array), El arreglo numpy de características\n",
    "    Y (numpy.array), El vector de etiquetas\n",
    "    n_feats, Vector de números enteros que indica el número de características\n",
    "              que debe utilizar el modelo\n",
    "    n_sets, Vector de números enteros que indica el número de particiones\n",
    "\n",
    "    Retorna:  \n",
    "    - DataFrame con las columnas: CON_SEL, NUM_VAR, NUM_SPLITS, ERROR_VALIDACION, IC_STD_VALIDACION, \n",
    "    y T_EJECUCION. \n",
    "\n",
    "    \"\"\"\n",
    "    df = pd.DataFrame()\n",
    "    idx = 0\n",
    "    for split_number in n_sets: \n",
    "    #Sin selección de características\n",
    "        # se ignorar las otras salidas\n",
    "        _,err,ic,t_ex = ...(split_number, X,Y)  \n",
    "        df.loc[idx,'CON_SEL'] = 'NO'\n",
    "        df.loc[idx,'NUM_VAR'] = X.shape[1]\n",
    "        df.loc[idx,'NUM_SPLITS'] = ...\n",
    "        df.loc[idx,'ERROR_VALIDACION'] = ...\n",
    "        df.loc[idx,'IC_STD_VALIDACION'] = ...\n",
    "        df.loc[idx,'T_EJECUCION'] = ...\n",
    "        idx+=1\n",
    "    print(\"termina experimentos sin selección\")\n",
    "    #Con selección de características\n",
    "    for f in n_feats:\n",
    "        for split_number in n_sets:\n",
    "            #Implemetamos la metodología de validación \n",
    "            Errores = np.ones(split_number)\n",
    "            Score = np.ones(split_number)\n",
    "            times = np.ones(split_number)\n",
    "            kf = ...(n_splits=split_number)\n",
    "            j = 0\n",
    "            for train_index, test_index in kf.split(X):\n",
    "                \n",
    "                X_train, X_test = X[train_index], X[test_index]\n",
    "                y_train, y_test = Y[train_index], Y[test_index]\n",
    "                scaler = StandardScaler()\n",
    "                X_train = scaler.fit_transform(X_train)\n",
    "                X_test = scaler.transform(X_test)\n",
    "                \n",
    "                svc =  SVC(kernel=\"linear\", C=1)\n",
    "                \n",
    "                # se ignorar las otras salidas\n",
    "                rfe, _, _, _, t = ...(estimator=svc,feature_numbers=..., X=...,Y=...)\n",
    "            \n",
    "                Errores[j]=accuracy_score(y_true = y_test,  y_pred=rfe...)\n",
    "                times[j] = t\n",
    "                j+=1\n",
    "\n",
    "            df.loc[idx,'CON_SEL'] = 'SI'\n",
    "            df.loc[idx,'NUM_VAR'] = f\n",
    "            df.loc[idx,'NUM_SPLITS'] = split_number\n",
    "            df.loc[idx,'ERROR_VALIDACION'] = np.mean(Errores)\n",
    "            df.loc[idx, 'IC_STD_VALIDACION'] = np.std(Errores)\n",
    "            df.loc[idx, 'T_EJECUCION'] = np.mean(times)\n",
    "            idx+=1\n",
    "    return df\n"
   ]
  },
  {
   "cell_type": "code",
   "execution_count": null,
   "metadata": {
    "id": "1s6zm-_v3dx7"
   },
   "outputs": [],
   "source": [
    "## la funcion que prueba tu implementacion\n",
    "GRADER.run_test(\"ejercicio3\", experimentar)"
   ]
  },
  {
   "cell_type": "code",
   "execution_count": null,
   "metadata": {
    "cellView": "form",
    "id": "-QuKwNFt3dx-"
   },
   "outputs": [],
   "source": [
    "#@title Preguntas Abierta\n",
    "#@markdown ¿Con qué modelo base se está resolviendo la selección de características?\n",
    "respuesta_3 = '' #@param {type:\"string\"}"
   ]
  },
  {
   "cell_type": "markdown",
   "metadata": {
    "id": "WgdADU023dyA"
   },
   "source": [
    "Ejecuta la celda de codigo para realizar los experimentos"
   ]
  },
  {
   "cell_type": "code",
   "execution_count": null,
   "metadata": {
    "id": "GgajzZNG3dyB"
   },
   "outputs": [],
   "source": [
    "dfr = experimentar(n_feats = [3, 5, 10,15,20], n_sets = [5, 10], X= x, Y=y)"
   ]
  },
  {
   "cell_type": "markdown",
   "metadata": {
    "id": "Fz0DUJdWXQME"
   },
   "source": [
    "En la siguiente celda vamos a ordenar los resultados con base a el error de validación y el tiempo de ejecucción."
   ]
  },
  {
   "cell_type": "code",
   "execution_count": null,
   "metadata": {
    "id": "kJE6Wcj33dyD"
   },
   "outputs": [],
   "source": [
    "dfr.sort_values(['ERROR_VALIDACION','T_EJECUCION'], ascending=[False, True])"
   ]
  },
  {
   "cell_type": "markdown",
   "metadata": {
    "id": "tCYxXwn63dyF"
   },
   "source": [
    "Y ahora vamos a ver como se relaciona el tiempo de ejecución con los splits, la selección de caracteristicas y le rendimiento del modelo"
   ]
  },
  {
   "cell_type": "code",
   "execution_count": null,
   "metadata": {
    "id": "aICJy37t3dyF"
   },
   "outputs": [],
   "source": [
    "import seaborn as sns\n",
    "d_toplot = pd.melt(dfr,id_vars=['CON_SEL', 'NUM_VAR', 'NUM_SPLITS'], value_vars=['ERROR_VALIDACION', 'T_EJECUCION'])\n",
    "sns.relplot(data = d_toplot, x = 'NUM_VAR', y = 'value', hue = 'CON_SEL', style = 'NUM_SPLITS', col = 'variable', kind='scatter', facet_kws = {'sharey' : False}, aspect=1.2,s=150)"
   ]
  },
  {
   "cell_type": "code",
   "execution_count": null,
   "metadata": {
    "cellView": "form",
    "id": "xrpLG8233dyH"
   },
   "outputs": [],
   "source": [
    "#@title Pregunta Abierta\n",
    "#@markdown ¿Que relación observa entre tiempo de ejecución, el desempeño del modelo y el número de caracteristicas? Explicar con base a los resultados\n",
    "respuesta_4 = '' #@param {type:\"string\"}"
   ]
  },
  {
   "cell_type": "markdown",
   "metadata": {
    "id": "ZJy4UX-d3dyJ"
   },
   "source": [
    "Ahora use el número de características que lograron el mejor desempeño para entrenar nuevamente un modelo y saber que características tienen el mejor poder predictivo."
   ]
  },
  {
   "cell_type": "code",
   "execution_count": null,
   "metadata": {
    "id": "ywXmu0yH3dyJ"
   },
   "outputs": [],
   "source": [
    "svc =  SVC(kernel=\"linear\", C=1)\n",
    "rfe, feature_mask, _, _, _ = recursive_feature_elimination_wrapper(svc, ..., x,y)\n",
    "print(\"esta es la mascara (deberia ser solo valores True y False) \\n\", feature_mask)"
   ]
  },
  {
   "cell_type": "code",
   "execution_count": null,
   "metadata": {
    "cellView": "form",
    "id": "HAI-9lx-X8EG"
   },
   "outputs": [],
   "source": [
    "#@title Pregunta Abierta\n",
    "#@markdown Utilizando los resultados obtenidos ¿cuál sería su sugerencia de apoyo diagnóstico para un médico que esté trabajando en un caso enmarcado en esta base de datos?\n",
    "respuesta_5 = '' #@param {type:\"string\"}"
   ]
  },
  {
   "cell_type": "code",
   "execution_count": null,
   "metadata": {
    "id": "MjCSjpNM2yiA"
   },
   "outputs": [],
   "source": [
    "GRADER.check_tests()"
   ]
  },
  {
   "cell_type": "code",
   "execution_count": null,
   "metadata": {
    "id": "lthm0tYr3dyO"
   },
   "outputs": [],
   "source": [
    "#@title Integrantes\n",
    "codigo_integrante_1 ='' #@param {type:\"string\"}\n",
    "codigo_integrante_2 = ''  #@param {type:\"string\"}"
   ]
  },
  {
   "cell_type": "markdown",
   "metadata": {
    "id": "df-X7bYE3dyP"
   },
   "source": [
    "----\n",
    "esta linea de codigo va fallar, es de uso exclusivo de los profesores\n"
   ]
  },
  {
   "cell_type": "code",
   "execution_count": null,
   "metadata": {
    "id": "gBWgsJT83dyQ"
   },
   "outputs": [],
   "source": [
    "GRADER.grade()"
   ]
  }
 ],
 "metadata": {
  "colab": {
   "collapsed_sections": [],
   "name": "Lab6_parte1.ipynb",
   "provenance": [],
   "toc_visible": true
  },
  "kernelspec": {
   "display_name": "Python 3",
   "language": "python",
   "name": "python3"
  },
  "language_info": {
   "codemirror_mode": {
    "name": "ipython",
    "version": 3
   },
   "file_extension": ".py",
   "mimetype": "text/x-python",
   "name": "python",
   "nbconvert_exporter": "python",
   "pygments_lexer": "ipython3",
   "version": "3.6.9"
  }
 },
 "nbformat": 4,
 "nbformat_minor": 2
}
