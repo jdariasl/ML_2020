{
 "cells": [
  {
   "cell_type": "markdown",
   "source": [
    "**Recuerda que una vez abierto, Da clic en \"Copiar en Drive\", de lo contrario no podras almacenar tu progreso**\n",
    "\n",
    "Nota: no olvide ir ejecutando las celdas de código de arriba hacia abajo para que no tenga errores de importación de librerías o por falta de definición de variables."
   ],
   "metadata": {
    "id": "P1tb9xQfodtj"
   }
  },
  {
   "cell_type": "code",
   "execution_count": null,
   "source": [
    "#configuración del laboratorio\n",
    "# Ejecuta esta celda!\n",
    "%load_ext autoreload\n",
    "%autoreload 2\n",
    "#for local \n",
    "#import sys ; sys.path.append('../commons/utils/')\n",
    "!wget https://raw.githubusercontent.com/jdariasl/ML_2020/master/Labs/commons/utils/general.py -O general.py --no-cache\n",
    "from general import configure_lab4\n",
    "configure_lab4()\n",
    "from lab4 import *\n",
    "GRADER = part_1()"
   ],
   "outputs": [],
   "metadata": {
    "id": "zZt2JG85odtj"
   }
  },
  {
   "cell_type": "markdown",
   "source": [
    "# Laboratorio 4 - Parte 1. Redes neuronales - perceptrón multicapa"
   ],
   "metadata": {
    "id": "bEFZ1bNsodtm"
   }
  },
  {
   "cell_type": "markdown",
   "source": [
    "Este ejercicio tiene como objetivo implementar una red neuronal artificial de tipo perceptrón multicapa (MLP) para resolver un problema de regresión. Usaremos la librería sklearn. Consulte todo lo relacionado con la definición de hiperparámetros, los métodos para el entrenamiento y la predicción de nuevas muestras en el siguiente enlace: http://scikit-learn.org/stable/modules/generated/sklearn.neural_network.MLPRegressor.html#sklearn.neural_network.MLPRegressor"
   ],
   "metadata": {
    "id": "SIyPCtR3odtm"
   }
  },
  {
   "cell_type": "markdown",
   "source": [
    "Para este ejercicio usaremos la base de datos sobre calidad del aire, que ha sido usada en laboratorios previos, pero en este caso trataremos de predecir dos variables en lugar de una, es decir, abordaremos **un problema de múltiples salidas**."
   ],
   "metadata": {
    "id": "dAVPFqINodtn"
   }
  },
  {
   "cell_type": "code",
   "execution_count": null,
   "source": [
    "#cargamos la bd que está en un archivo .data y ahora la podemos manejar de forma matricial\n",
    "db = np.loadtxt('AirQuality.data',delimiter='\\t')  # Assuming tab-delimiter\n",
    "\n",
    "#Esta es la base de datos AirQuality del UCI Machine Learning Repository. En la siguiente URL se encuentra toda\n",
    "#la descripción de la base de datos y la contextualización del problema.\n",
    "#https://archive.ics.uci.edu/ml/datasets/Air+Quality#\n",
    "\n",
    "x = db[:,0:11]\n",
    "y = db[:,11:13]"
   ],
   "outputs": [],
   "metadata": {
    "id": "S1ILV7RModtn"
   }
  },
  {
   "cell_type": "markdown",
   "source": [
    "Para calcular los errores, vamos a explorar y usar el [modulo de metricas den sklearn](https://scikit-learn.org/stable/modules/classes.html#module-sklearn.metrics).\n",
    "\n",
    "Podemos observar que el modulo tiene metricas para regresión y clasificación."
   ],
   "metadata": {
    "id": "qKlFuQyRodtp"
   }
  },
  {
   "cell_type": "markdown",
   "source": [
    "### Ejercicio 1 - Experimentar con MLP para regresión\n",
    "\n",
    "Para porder implementar nuestra función, lo primero que debemos entender la estrucutra de la red. \n",
    "\n",
    "Como mencionamos, vamos a solucionar un problema de multiples salidas. Estas salidas con valores continuos. Por lo tanto debemos garantizar que la capa de salida de nuestra red tenga la capacidad de modelar. este tipo de datos.\n"
   ],
   "metadata": {
    "id": "EFIUq69Modtp"
   }
  },
  {
   "cell_type": "code",
   "execution_count": null,
   "source": [
    "#@title Pregunta Abierta\n",
    "#@markdown ¿De acuerdo al problema planteado, que función de activación debe usar el MLP para un problema de regresión?\n",
    "respuesta_1 = \"\" #@param {type:\"string\"}"
   ],
   "outputs": [],
   "metadata": {
    "cellView": "form",
    "id": "xjF6liTmodtp"
   }
  },
  {
   "cell_type": "markdown",
   "source": [
    "Una caracteristica de los modelos de sklearn, es que ciertos tipos de atributos, solo pueden ser accedidos cuanto se entrena el modelo. Vamos a realizar un pequeña función para comprobar cual es la capa de activación de los modelos MLP para regresión de sklearn."
   ],
   "metadata": {
    "id": "-G_bSsYcodtr"
   }
  },
  {
   "cell_type": "code",
   "execution_count": null,
   "source": [
    "# ejercicio de código\n",
    "def output_activation():\n",
    "    \"\"\"funcion que entrena un modelo\n",
    "    con data aleatoria para confirmar la funcion\n",
    "    de activacion de la ultima capa\n",
    "    \"\"\"\n",
    "    mlp = MLPRegressor()\n",
    "    # fit with some random data\n",
    "    xrandom = np.random.rand(10,2)\n",
    "    yrandom = np.zeros(10)\n",
    "    # llamar el metodo adecuado para entrenar\n",
    "    # el mlp con los x y 'y' random\n",
    "    mlp.fit(, )\n",
    "    # retornar el atributo de mlp adecuado\n",
    "    return (mlp.)"
   ],
   "outputs": [],
   "metadata": {
    "id": "M0Rd2sBnodts"
   }
  },
  {
   "cell_type": "code",
   "execution_count": null,
   "source": [
    "## la funcion que prueba tu implementacion\n",
    "#ignora las graficas!!\n",
    "GRADER.run_test(\"ejercicio1\", output_activation)"
   ],
   "outputs": [],
   "metadata": {
    "id": "mzJDEC1Bodtt"
   }
  },
  {
   "cell_type": "code",
   "execution_count": null,
   "source": [
    "print(\"la función de activación para un problema de regresion es:\", output_activation())"
   ],
   "outputs": [],
   "metadata": {
    "id": "p0ybj-1vodtv"
   }
  },
  {
   "cell_type": "markdown",
   "source": [
    "Una vez comprobado que sklearn usa la función de activación correcta, vamos crear la función para realizar los experimentos.\n",
    "\n",
    "Vamos completar la función con el código necesario para usar una red neuronal tipo MLP para solucionar el problema de regresión propuesto.\n",
    "1. Como función de activación en las capas ocultas use la función 'tanh'. \n",
    "2. Ajuste el número máximo de épocas a 400.\n",
    "3. Dejamos como variables el número de capas ocultas y el número de neuronas por capa\n",
    "5. debemos seleccionar la función adecuada del [modulo de sklearn para calcular el Error Porcentual Absoluto Medio (MAPE en sigla en ingles)](https://scikit-learn.org/stable/modules/classes.html?highlight=metrics#module-sklearn.metrics). Tener en cuenta que parametros usar.\n",
    "6. Debemos usar los nombres explicitos, por ejemplo si para el MLP es necesario usar el parametro `activation`, debe ser llamado: `MLPRegressor(activation=...)`\n",
    "7. Explorar que hace la siguiente linea de codigo `tuple(2*[100])`\n",
    "\n",
    "**NOTA**: cuando observe el el parametro `random_state=1` por favor conservarlo, ya que esto hace que los resultados sean similares a lo largo de las ejecucciones."
   ],
   "metadata": {
    "id": "udcddNBiodtz"
   }
  },
  {
   "cell_type": "code",
   "execution_count": null,
   "source": [
    "# ejercicio de código\n",
    "\n",
    "def experimetar_mlp(X,Y, num_hidden_layers, num_neurons):\n",
    "    \"\"\" función para realizar experimentos con el MLP\n",
    "    x: matriz de numpy con caracteristicas\n",
    "    y: vector numpy con las variables a predecir\n",
    "    num_hidden_layers: list de enteros con el numero de capdas\n",
    "        ocultas a usar\n",
    "    num_neurons: list de enteros con el numero de neuronas a usar\n",
    "    \n",
    "    Retorna: dataframe con 6 columnas:\n",
    "        - numero de capas, numero de neuronas\n",
    "        - promedio de error prueba variable 1 y desviación estandar\n",
    "        - promedio de error prueba variable 2 y desviación estandar\n",
    "        \n",
    "    \"\"\"\n",
    "    #Validamos el modelo\n",
    "    Folds = 4\n",
    "    ss = ShuffleSplit(n_splits=Folds, test_size=0.2, random_state=1)\n",
    "    resultados = pd.DataFrame()\n",
    "    idx = 0\n",
    "    for hidden_layers in num_hidden_layers:\n",
    "        for neurons in num_neurons:\n",
    "            for j, (train, test) in enumerate(ss.split(X)):\n",
    "                # para almacenar errores intermedios\n",
    "                ErrorY1 = np.zeros(Folds)\n",
    "                ErrorY2 = np.zeros(Folds)\n",
    "                Xtrain= X[train,:]\n",
    "                Ytrain = Y[train,:]\n",
    "                Xtest = X[test,:]\n",
    "                Ytest = Y[test,:]\n",
    "                #Normalizamos los datos\n",
    "                scaler = StandardScaler().fit(X= Xtrain)       \n",
    "                Xtrain = scaler.transform(Xtrain)\n",
    "                Xtest = scaler.transform(Xtest)\n",
    "                #Haga el llamado a la función para crear y entrenar el modelo usando los datos de entrenamiento\n",
    "                # prestar atención a los parametros, correctos.\n",
    "                hidden_layer_sizes = tuple()\n",
    "                mlp = MLPRegressor(hidden_layer_sizes= hidden_layer_sizes, random_state=1)\n",
    "                # entrena el MLP\n",
    "                mlp\n",
    "                #Use para el modelo para hacer predicciones sobre el conjunto Xtest\n",
    "                Yest = mlp\n",
    "                # Mida el MAPE para cada una de las dos salidas\n",
    "                # Observe bien la documentación. recordar que esta resolviendo\n",
    "                # un problema de multiples salidas\n",
    "                errors = (Ytest, Yest, ...)\n",
    "                ErrorY1[j] = ...\n",
    "                ErrorY2[j] =...\n",
    "        \n",
    "            print('error para salida 1 = ' + str(np.mean(ErrorY1)) + '+-' + str(np.std(ErrorY1)))\n",
    "            print('error para salida 2 = ' + str(np.mean(ErrorY2)) + '+-' + str(np.std(ErrorY2)))\n",
    "        \n",
    "            resultados.loc[idx,'capas ocultas'] = hidden_layers\n",
    "            resultados.loc[idx,'neuronas en capas ocultas'] = neurons \n",
    "            resultados.loc[idx,'error de prueba y1(media)'] = np.mean(ErrorY1)\n",
    "            resultados.loc[idx,'intervalo de confianza y1'] = np.std(ErrorY1)\n",
    "            resultados.loc[idx,'error de prueba y2(media)'] = np.mean(ErrorY2)\n",
    "            resultados.loc[idx,'intervalo de confianza y2'] = np.std(ErrorY2)\n",
    "            idx+=1\n",
    "    return (resultados)"
   ],
   "outputs": [],
   "metadata": {
    "id": "y-SdZ9H_odt0"
   }
  },
  {
   "cell_type": "code",
   "execution_count": null,
   "source": [
    "## la funcion que prueba tu implementacion\n",
    "# ignorar los prints\n",
    "GRADER.run_test(\"ejercicio2\", experimetar_mlp)"
   ],
   "outputs": [],
   "metadata": {
    "id": "TBVxxl25odt1"
   }
  },
  {
   "cell_type": "code",
   "execution_count": null,
   "source": [
    "# tarda unos minutos!!\n",
    "resultados_mlpr = experimetar_mlp(x,y, [1,2], [8,12,16,20])"
   ],
   "outputs": [],
   "metadata": {
    "id": "hV-ka-ukodt3"
   }
  },
  {
   "cell_type": "code",
   "execution_count": null,
   "source": [
    "# ver los resultados.\n",
    "import seaborn as sns\n",
    "sns.relplot(data = resultados_mlpr,  x='neuronas en capas ocultas', y = 'error de prueba y1(media)', style= 'capas ocultas', kind = 'line')\n",
    "sns.relplot(data = resultados_mlpr,  x='neuronas en capas ocultas', y = 'error de prueba y2(media)', style= 'capas ocultas', kind = 'line')"
   ],
   "outputs": [],
   "metadata": {
    "id": "7insQmbOodt5"
   }
  },
  {
   "cell_type": "code",
   "execution_count": null,
   "source": [
    "#@title Pregunta Abierta\n",
    "#@markdown  ¿como influencian los parametros de numero de capas y el numero de neuronas? explique de acuerdo a los resultados, recuerde concentrarse en los patrones no en valores especificos\n",
    "respuesta_2 = \"\" #@param {type:\"string\"}"
   ],
   "outputs": [],
   "metadata": {
    "cellView": "form",
    "id": "CpSvl_I4odt7"
   }
  },
  {
   "cell_type": "markdown",
   "source": [
    "### Ejercicio 2 Experimentar con MLP para clasificación\n",
    "\n",
    "A continuación se leen los datos de un problema de clasificación. El problema corresponde a la clasifiación de dígitos escritos a mano. Usaremos únicamente 4 de las 10 clases disponibles. Los datos fueron preprocesados para reducir el número de características. La técnica usada será analizada más adelante en el curso."
   ],
   "metadata": {
    "id": "hY2yg06Nodt8"
   }
  },
  {
   "cell_type": "code",
   "execution_count": null,
   "source": [
    "digits = load_digits(n_class=4)\n",
    "#--------- preprocesamiento--------------------\n",
    "pca = PCA(0.99, whiten=True)\n",
    "data = pca.fit_transform(digits.data)\n",
    "#---------- Datos a usar ----------------------\n",
    "Xd = data\n",
    "Yd = digits.target"
   ],
   "outputs": [],
   "metadata": {
    "id": "rQQrTIcZodt9"
   }
  },
  {
   "cell_type": "code",
   "execution_count": null,
   "source": [
    "#@title Pregunta Abierta\n",
    "#@markdown  ¿Qué tipo de función de activación usa el modelo en la capa de salida para un problema de clasificación? \n",
    "respuesta_3 = \"\" #@param {type:\"string\"}"
   ],
   "outputs": [],
   "metadata": {
    "cellView": "form",
    "id": "AAZkhxDjodt_"
   }
  },
  {
   "cell_type": "markdown",
   "source": [
    "como lo hicmos antes, vamos a comprobar con la libreria la función de activación"
   ],
   "metadata": {
    "id": "q6VwPK9RoduA"
   }
  },
  {
   "cell_type": "code",
   "execution_count": null,
   "source": [
    "# ejercicio de código\n",
    "def output_activation_MPC():\n",
    "    \"\"\"funcion que entrena un modelo\n",
    "    con data aleatoria para confirmar la funcion\n",
    "    de activacion de la ultima capa\n",
    "    \"\"\"\n",
    "    mlp = MLPClassifier()\n",
    "    # fit with some random data\n",
    "    xrandom = np.random.rand(10,2)\n",
    "    yrandom = np.zeros(10)\n",
    "    # llamar el metodo adecuado para entrenar\n",
    "    # el mlp con los x y 'y' random\n",
    "    mlp.fit(, )\n",
    "    # retornar el atributo de mlp adecuado\n",
    "    return (mlp)"
   ],
   "outputs": [],
   "metadata": {
    "id": "10TRJf1SoduB"
   }
  },
  {
   "cell_type": "code",
   "execution_count": null,
   "source": [
    "## la funcion que prueba tu implementacion\n",
    "GRADER.run_test(\"ejercicio3\", output_activation_MPC)"
   ],
   "outputs": [],
   "metadata": {
    "id": "l-JlGyNsoduC"
   }
  },
  {
   "cell_type": "code",
   "execution_count": null,
   "source": [
    "print(\"la función de activación para un problema de clasificación es:\", output_activation_MPC())"
   ],
   "outputs": [],
   "metadata": {
    "id": "LR1AWh6doduE"
   }
  },
  {
   "cell_type": "markdown",
   "source": [
    "Ahora en nuestro siguiente ejercicio vamos a implementar una red neuronal artificial de tipo perceptrón multicapa (MLP) para resolver un problema de clasificación. Usaremos la librería sklearn. Consulte todo lo relacionado con la definición de hiperparámetros, los métodos para el entrenamiento y la predicción de nuevas muestras en el siguiente enlace: http://scikit-learn.org/stable/modules/generated/sklearn.neural_network.MLPClassifier.html#sklearn.neural_network.MLPClassifier"
   ],
   "metadata": {
    "id": "nUrb8sX1oduG"
   }
  },
  {
   "cell_type": "markdown",
   "source": [
    "\n",
    "Vamos completar la función con el código necesario para usar una red neuronal tipo MLP para solucionar el problema de clasificación propuesto.\n",
    "1. Como función de activación en las capas ocultas use la función tangencial hiperbólica. \n",
    "2. Ajuste el número máximo de épocas a 400.\n",
    "3. Dejamos como variables el número de capas ocultas y el número de neuronas por capa\n",
    "5. Selecciones la función adecuada del [modulo de sklearn para calcular la exactitud del clasificador](https://scikit-learn.org/stable/modules/classes.html?highlight=metrics#module-sklearn.metrics). Tener en cuenta que parametros usar.\n",
    "6. Debemos usar los nombres explicitos, por ejemplo si para el MLP es necesario usar el parametro `activation`, debe ser llamado: `MLPClassifier(activation=...)`\n",
    "\n",
    "**NOTA**: cuando observe el el parametro `random_state=1` por favor conservarlo, ya que esto hace que los resultados sean similares a lo largo de las ejecucciones."
   ],
   "metadata": {
    "id": "RPXRYrtnoduG"
   }
  },
  {
   "cell_type": "code",
   "execution_count": null,
   "source": [
    "# ejercicio de código\n",
    "def experimetar_mlpc(X,Y, num_hidden_layers, num_neurons):\n",
    "    \"\"\" función para realizar experimentos con el MLP\n",
    "    x: matriz de numpy con caracteristicas\n",
    "    y: vector numpy con las variables a predecir\n",
    "    num_hidden_layers: list de enteros con el numero de capdas\n",
    "        ocultas a usar\n",
    "    num_neurons: list de enteros con el numero de neuronas a usar\n",
    "    \n",
    "    Retorna: dataframe con 4 columnas:\n",
    "        - numero de capas, numero de neuronas\n",
    "        - promedio de error prueba (exactitud/eficiencia) de claisficacion y desviación estandar        \n",
    "    \"\"\"\n",
    "    #Validamos el modelo\n",
    "    Folds = 4\n",
    "    skf = StratifiedKFold(n_splits=Folds) \n",
    "    resultados = pd.DataFrame()\n",
    "    idx = 0\n",
    "    for hidden_layers in num_hidden_layers:\n",
    "        for neurons in num_neurons:\n",
    "            for j, (train, test) in enumerate(skf.split(X, Y)):\n",
    "                # para almacenar errores intermedios\n",
    "                Error = np.zeros(Folds)\n",
    "                Xtrain= X[train,:]\n",
    "                Ytrain = Y[train]\n",
    "                Xtest = X[test, :]\n",
    "                Ytest = Y[test]\n",
    "                #Normalizamos los datos\n",
    "                scaler = StandardScaler().fit(X= Xtrain)       \n",
    "                Xtrain = scaler.transform(Xtrain)\n",
    "                Xtest = scaler.transform(Xtest)\n",
    "                #Haga el llamado a la función para crear y entrenar el modelo usando los datos de entrenamiento\n",
    "                # prestar atención a los parametros, correctos.\n",
    "                hidden_layer_sizes = tuple(...)\n",
    "                #print(hidden_layer_sizes)\n",
    "                mlp = MLPClassifier(hidden_layer_sizes = hidden_layer_sizes, ... random_state = 1)\n",
    "                # entrenar el MLP\n",
    "                mlp...\n",
    "                #Use para el modelo para hacer predicciones sobre el conjunto Xtest\n",
    "                Yest = mlp.\n",
    "                # recordar usar la medida adecuada de acuerdo a las instrucciones\n",
    "                Error[j] = ...(Ytest, Yest)\n",
    "        \n",
    "            print('error para configuracion de params = ' + str(np.mean(Error)) + '+-' + str(np.std(Error)))\n",
    "        \n",
    "            resultados.loc[idx,'capas ocultas'] = hidden_layers\n",
    "            resultados.loc[idx,'neuronas en capas ocultas'] = neurons \n",
    "            resultados.loc[idx,'error de prueba(media)'] = np.mean(Error)\n",
    "            resultados.loc[idx,'intervalo de confianza'] = np.std(Error)\n",
    "            idx+=1\n",
    "    return (resultados)"
   ],
   "outputs": [],
   "metadata": {
    "id": "pO3RLo4JoduG"
   }
  },
  {
   "cell_type": "code",
   "execution_count": null,
   "source": [
    "## la funcion que prueba tu implementacion\n",
    "GRADER.run_test(\"ejercicio4\", experimetar_mlpc)"
   ],
   "outputs": [],
   "metadata": {
    "id": "kcMLaM4coduI"
   }
  },
  {
   "cell_type": "code",
   "execution_count": null,
   "source": [
    "# tarda unos minutos!!\n",
    "resultados_mlpc = experimetar_mlpc(Xd,Yd, [1,2], [12,16,20,24])"
   ],
   "outputs": [],
   "metadata": {
    "id": "iCyR-W0RoduJ"
   }
  },
  {
   "cell_type": "code",
   "execution_count": null,
   "source": [
    "# ver los resultados\n",
    "# notar como las capas ocultas y el # de neuronas influyen\n",
    "import seaborn as sns\n",
    "sns.relplot(data = resultados_mlpc,  x='neuronas en capas ocultas', y = 'error de prueba(media)', style= 'capas ocultas', kind = 'line')"
   ],
   "outputs": [],
   "metadata": {
    "id": "_FwrY7LFoduL"
   }
  },
  {
   "cell_type": "code",
   "execution_count": null,
   "source": [
    "#@title Pregunta Abierta\n",
    "#@markdown ¿Cuántas neuronas en la capa de salida tiene el modelo? ¿Porqué debe tener ese número?\n",
    "respuesta_4 = \"\" #@param {type:\"string\"}"
   ],
   "outputs": [],
   "metadata": {
    "cellView": "form",
    "id": "IZJGmEnZoduO"
   }
  },
  {
   "cell_type": "markdown",
   "source": [
    "**nota rapida** En la practica sklearn no es una la libreria indicada para desarollar redes neuronales, para practicas mas avanzadas y realizar modelos en el \"mundo real\" [se deben usar conceptos de deep learning y una libreria llamada Keras](https://colab.research.google.com/github/lexfridman/mit-deep-learning/blob/master/tutorial_deep_learning_basics/deep_learning_basics.ipynb)."
   ],
   "metadata": {
    "id": "MGfDfjGkoduP"
   }
  },
  {
   "cell_type": "code",
   "execution_count": null,
   "source": [
    "GRADER.check_tests()"
   ],
   "outputs": [],
   "metadata": {
    "id": "1aRu5586oduP"
   }
  },
  {
   "cell_type": "code",
   "execution_count": null,
   "source": [
    "#@title Integrantes\n",
    "codigo_integrante_1 ='' #@param {type:\"string\"}\n",
    "codigo_integrante_2 = ''  #@param {type:\"string\"}"
   ],
   "outputs": [],
   "metadata": {
    "cellView": "form",
    "id": "wL-i0zZyoduR"
   }
  },
  {
   "cell_type": "markdown",
   "source": [
    "----\n",
    "esta linea de codigo va fallar, es de uso exclusivo de los profesores\n"
   ],
   "metadata": {
    "id": "fOcAojtRoduT"
   }
  },
  {
   "cell_type": "code",
   "execution_count": null,
   "source": [
    "GRADER.grade()"
   ],
   "outputs": [],
   "metadata": {
    "id": "6M_nkZ_DoduT"
   }
  }
 ],
 "metadata": {
  "colab": {
   "name": "lab4_parte1.ipynb",
   "provenance": []
  },
  "kernelspec": {
   "display_name": "Python 3",
   "language": "python",
   "name": "python3"
  },
  "language_info": {
   "codemirror_mode": {
    "name": "ipython",
    "version": 3
   },
   "file_extension": ".py",
   "mimetype": "text/x-python",
   "name": "python",
   "nbconvert_exporter": "python",
   "pygments_lexer": "ipython3",
   "version": "3.6.9"
  }
 },
 "nbformat": 4,
 "nbformat_minor": 4
}