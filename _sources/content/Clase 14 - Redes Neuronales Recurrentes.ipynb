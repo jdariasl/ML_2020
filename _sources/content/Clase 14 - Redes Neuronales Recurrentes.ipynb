{
 "cells": [
  {
   "cell_type": "markdown",
   "metadata": {},
   "source": [
    "# Redes Neuronales Recurrentes"
   ]
  },
  {
   "cell_type": "markdown",
   "metadata": {},
   "source": [
    "### Julián D. Arias Londoño\n",
    "\n",
    "Profesor Asociado  \n",
    "Departamento de Ingeniería de Sistemas  \n",
    "Universidad de Antioquia, Medellín, Colombia  \n",
    "julian.ariasl@udea.edu.co"
   ]
  },
  {
   "cell_type": "code",
   "execution_count": 11,
   "metadata": {},
   "outputs": [],
   "source": [
    "%matplotlib inline"
   ]
  },
  {
   "cell_type": "markdown",
   "metadata": {},
   "source": [
    "Las redes neuronales recurrentes (En inglés Recurrent Neural Networks - RNN) son una familia de redes neuronales para procesar datos secuenciales, las cuales se basan en el principio de compartir parámetros a lo largo de diferentes partes del modelo, lo que permite aplicar el modelo a datos con estructuras diferentes (por ejemplo diferentes longitudes) y generalizar sobre ellos. Si por el contrario se tuviera un párametro para cada índice de tiempo, no se podría generalizar a longitudes de secuencias no vistas durante el entrenamiento, o compartir patrones detectados por el modelo a lo largo de diferentes longitudes de secuencias y posiciones en el tiempo; dicha propiedad es particularmente importante cuando una pieza de información específica puede ocurrir en múltiples posiciones dentro de una secuencia [1]."
   ]
  },
  {
   "cell_type": "markdown",
   "metadata": {},
   "source": [
    "La red permanece Feed-forward pero mantiene el estado interno a través de nodos de contexto los cuales influencian la capa oculta en entradas subsecuentes. Existen diferentes arquitecturas de RNN, las más conocidas son (Figura tomada de <a href=\"https://www.ibm.com/developerworks/library/cc-cognitive-recurrent-neural-networks/index.html\">Link</a>.):"
   ]
  },
  {
   "cell_type": "markdown",
   "metadata": {},
   "source": [
    "![alt text](Images/RNN2.png \"Neuronas\")"
   ]
  },
  {
   "cell_type": "markdown",
   "metadata": {},
   "source": [
    "Las RNN pueden resolver diferentes paradigmas de aprendizaje, es decir, tienen la capacidad de ajustarse a diferentes configuraciones en los datos. El diagrama construido por <a href=\"http://karpathy.github.io/2015/05/21/rnn-effectiveness/\">Andrej Karpathy</a> representa muy bien dicha capacidad:"
   ]
  },
  {
   "cell_type": "markdown",
   "metadata": {},
   "source": [
    "![alt text](Images/RNN-Topol.jpeg \"Neuronas\")"
   ]
  },
  {
   "cell_type": "markdown",
   "metadata": {},
   "source": [
    "El primer caso corresponde a una MLP convencional en la cual se tiene una salida por cada entrada y no existe información compartida a través de las capas ocultas. El segundo caso corresponde a un problema en el que a una entrada, el modelo debe producir una salida compuesta de varios elementos, como por ejemplo un sistema al cual se le presente una imágen y proporcione como salida una descripción o listado de los objetos en la imágen (problema conocido como caption generation). La tercera opción corresponde a un problema en el que al sistema se le presenta una secuencia y el modelo debe proporcionar una única salida para toda la secuencia, por ejemplo en el problema de <em>Sentiment Analysis</em>, usualmente el objetivo es que el sistema catalogue un texto como positivo o negativo. El cuarto caso corresponde a problemas en los que la entrada es una secuencia y la salida otra, sin que necesariamente ambas secuencias deban tener la misma longitud (esta configuración también se conoce como sequence-to-sequence). Un ejemplo de este tipo de paradigmas se presenta en la traducción automática de textos en la que la oración en el lenguaje original puede tener un número mayor o menor de palabras que en el lenguaje objetivo. El quinto caso corresponde a un problema en el que para cada entrada el sistema debe proporcionar una salida (la longitud de las secuencias entrada y salida es la misma), a este tipo de paradigmas corresponde la predicción de series de tiempo, el etiquetado morfosintáctico, varias tareas en Bioinformática, entre otros."
   ]
  },
  {
   "cell_type": "markdown",
   "metadata": {},
   "source": [
    "La arquitectura Elman de las RNN es la más comunmente usada. De acuerdo con la notación definida en la primera figura, la descripción matemática de una red de este tipo con una sola capa oculta y una capa de salida estaría dada por:"
   ]
  },
  {
   "cell_type": "markdown",
   "metadata": {},
   "source": [
    "$${\\bf{a}}^{(t)} = {\\bf{b}} + {\\bf{V}}{\\bf{h}}^{(t-1)} + {\\bf{U}}{\\bf{x}}^{(t)},\\\\ {\\bf{h}}^{(t)} = \\tanh({\\bf{a}}^{(t)}), \\\\ {\\bf{o}}^{(t)} = {\\bf{c}} + {\\bf{W}}{\\bf{h}}^{(t)}$$"
   ]
  },
  {
   "cell_type": "markdown",
   "metadata": {},
   "source": [
    "donde $\\bf{V}$ corresponde a la matriz de pesos que conectan la salida de una neurona en el tiempo anterior para usarla como entrada en el tiempo actual. $\\bf{U}$ es la matriz de pesos para las entradas de la red y $\\bf{W}$ es la matriz de pesos que conecta el estado de la neurona interna con la neurona de la capa de salida. $\\bf{b}$ y $\\bf{c}$ son vectores con los términos independientes de la capa oculta y la capa de salida respectivamente. La salida ${\\bf{y}}^{(t)}$ de la red estará determinada por la función de activación aplicada sobre los valores ${\\bf{o}}^{(t)}$."
   ]
  },
  {
   "cell_type": "markdown",
   "metadata": {},
   "source": [
    "### Backpropagation through time (BPTT)"
   ]
  },
  {
   "cell_type": "markdown",
   "metadata": {},
   "source": [
    "Para incorporar las habilidades descritas, una RNN incluye la capacidad de mantener memoria interna y usar la información almacenada a través de lazos de realimentación y de esa manera darle soporte al modelamiento temporal, es decir, a la condición de dependencia estadística de observaciones consecutivas. Como se puede observar en la siguiente figura, la salida de las neuronas en la capa oculta, es usada nuevamente como entrada a la misma capa. Figura tomada de <a href=\"https://future-tech-association.org/2018/01/16/kotoba_kioku_tech/\">Link</a>.\n"
   ]
  },
  {
   "cell_type": "markdown",
   "metadata": {},
   "source": [
    "![alt text](Images/RNN3.png \"Neuronas\")"
   ]
  },
  {
   "cell_type": "markdown",
   "metadata": {},
   "source": [
    "El entrenamiento de una RNN puede realizarse usando el algoritmo Backpropagation descrito en clases anteriores, teniendo en cuenta  el modelo desdoblado mostrado en la primera figura. Es decir, es necesario propagar la red hacia adelante, almacenar todas las salidas parciales de las diferentes neuronas en cada una de las capas y tiempos $t$, y a partir de la función de costo definida, propagar el error hacia atrás. La pérdida total para una secuencia de valores $\\bf{x}$ y su correspondiente secuencia de salida $\\bf{y}$ (tenga en cuenta que la red puede tener múltiples salidas, entonces cada salida corresponde a un vector), corresponderá entonces a la suma de las pérdidas para cada uno de los tiempos en la secuencia. La función de costo de la red será entonces:"
   ]
  },
  {
   "cell_type": "markdown",
   "metadata": {},
   "source": [
    "$$L(\\{ {\\bf{x}}^{(1)},{\\bf{x}}^{(2)},\\cdots,{\\bf{x}}^{(\\tau)} \\}, \\{ {\\bf{y}}^{(1)},{\\bf{y}}^{(2)},\\cdots,{\\bf{y}}^{(\\tau)} \\}) \\\\\n",
    "L = \\sum_t L^{(t)}$$"
   ]
  },
  {
   "cell_type": "markdown",
   "metadata": {},
   "source": [
    "Dependiendo del tipo de problema a resolver, la función de pérdida puede ser el error cuadrático medio, o en problemas de clasificación el negativo de la verosimilitud $L^{(t)} = -\\log Pmodel (\\hat{y}^{(t)} |\\{{\\bf{x}}^{(1)},\\cdots,{\\bf{x}}^{(t)}  \\})$, donde $Pmodel(\\cdot)$ corresponde a la probabilidad asignada por el modelo a la salida de la red que para el tiempo $(t)$ debería estar en uno. Se asume en este caso que la función de actividación de la capa salida corresponde a una función softmax, la cual garantiza que la salida de la red pueda ser interpretada como una probablidad. Uno de los problemas del algoritmo BPTT es que las operaciones de forward y backward del algoritmo no son paralelizables por su interdepedencia, lo que hace al algoritmo completamente secuencial."
   ]
  },
  {
   "cell_type": "markdown",
   "metadata": {},
   "source": [
    "En primer lugar debemos estimar el gradiente de la función de costo con respecto a las salidas de la red en un tiempo cualquiera $(t)$:"
   ]
  },
  {
   "cell_type": "markdown",
   "metadata": {},
   "source": [
    "$$(\\nabla_{{\\bf{o}}^{(t)}}L)_i = \\frac{\\partial L}{\\partial o_i^{(t)}} = \\frac{\\partial L}{\\partial L^{(t)}} \\frac{\\partial L^{(t)}}{\\partial o_i^{(t)}} = \\hat{y}_i^{(t)} - 1 \\\\ \\nabla_{{\\bf{o}}^{(t)}}L = {\\bf{y}}^{(t)} \\odot ({\\bf{\\hat{y}}}^{(t)} - {\\bf{1}} )$$"
   ]
  },
  {
   "cell_type": "markdown",
   "metadata": {},
   "source": [
    "En la expresión anterior $\\odot$ representa el producto Hadamard, es decir el producto punto a punto entre los vectores. Note que el único objetivo es mostrar que el gradiente es un vector que sólo puede tomar valor diferente de cero en la posición que corresponde a la salida deseada en el tiempo $(t)$, los demás valores son cero. A partir de la expresión anterior, podemos comenzar entonces el ciclo de propagación hacia atrás a partir del final de la secuencia. En el tiempo final $\\tau$, ${\\bf{h}}^{(\\tau)}$ sólo tiene a ${\\bf{o}}^{(\\tau)}$ como descendiente, por lo tanto su gradiente es simple:"
   ]
  },
  {
   "cell_type": "markdown",
   "metadata": {},
   "source": [
    "$$ \\nabla_{{\\bf{h}}^{(\\tau)}} L = {\\bf{W}}^T\\nabla_{{\\bf{o}}^{(\\tau)}}L$$"
   ]
  },
  {
   "cell_type": "markdown",
   "metadata": {},
   "source": [
    "A partir de este punto se puede comenzar a iterar hacia atrás para propagar los gradientes a través del tiempo, desde $t=\\tau-1$ hasta $t = 1$. Hay que tener en cuenta que ahora ${\\bf{h}}^{(t)}$ (para $t < \\tau$) tiene dos descendientes ${\\bf{o}}^{(t)}$ y ${\\bf{h}}^{(t+1)}$. Su gradiente está dado por:"
   ]
  },
  {
   "cell_type": "markdown",
   "metadata": {},
   "source": [
    "$$ \\nabla_{{\\bf{h}}^{(t)}}L = \\left( \\frac{\\partial {\\bf{h}}^{(t+1)}}{\\partial {\\bf{h}}^{(t)}}\\right)^T(\\nabla_{{\\bf{h}}^{(t+1)}} L) + \\left(\\frac{\\partial {\\bf{o}}^{(t)}}{\\partial {\\bf{h}}^{(t)}}\\right)^T(\\nabla_{{\\bf{o}}^{(t)}}L) \\\\\n",
    "\\nabla_{{\\bf{h}}^{(t)}}L = {\\bf{V}}^T(\\nabla_{{\\bf{h}}^{(t+1)}} L)\\text{diag} \\left( 1 - \\left( {\\bf{h}}^{(t+1)} \\right)^2\\right) + {\\bf{W}}^T(\\nabla_{{\\bf{o}}^{(t)}}L)$$"
   ]
  },
  {
   "cell_type": "markdown",
   "metadata": {},
   "source": [
    "Una vez se obtienen los gradientes de los nodos internos, se pueden obtener los gradientes de los parámetros, teniendo en cuenta que estos se comparten a lo largo del tiempo:"
   ]
  },
  {
   "cell_type": "markdown",
   "metadata": {},
   "source": [
    "$$ \\nabla_{\\bf{c}} L = \\sum_t \\left(\\frac{\\partial {\\bf{o}}^{t}}{\\partial {\\bf{c}}}\\right)^T \\nabla_{{\\bf{o}}^{(t)}}L$$"
   ]
  },
  {
   "cell_type": "markdown",
   "metadata": {},
   "source": [
    "$$ \\nabla_{\\bf{b}} L = \\sum_t \\left(\\frac{\\partial {\\bf{h}}^{t}}{\\partial {\\bf{b}}}\\right)^T \\nabla_{{\\bf{h}}^{(t)}}L = \\sum_t \\text{diag}\\left( 1 - \\left( {\\bf{h}}^{(t)} \\right)^2\\right)\\nabla_{{\\bf{h}}^{(t)}} L $$"
   ]
  },
  {
   "cell_type": "markdown",
   "metadata": {},
   "source": [
    "$$\\nabla_{{\\bf W}}L = \\sum_t \\sum_i \\left(  \\frac{\\partial L}{\\partial o_i^{(t)}} \\right)^T \\nabla_{{\\bf W}} o_i^{(t)} = \\sum_t (\\nabla_{{\\bf{o}}^{(t)}}L){\\bf{h}}^{(t)^T}$$"
   ]
  },
  {
   "cell_type": "markdown",
   "metadata": {},
   "source": [
    "$$\\nabla_{\\bf V}L = \\sum_t \\text{diag}\\left( 1 - \\left( {\\bf{h}}^{(t)} \\right)^2\\right)(\\nabla_{{\\bf{h}}^{(t)}} L){\\bf{h}}^{(t-1)^T}$$"
   ]
  },
  {
   "cell_type": "markdown",
   "metadata": {},
   "source": [
    "$$ \\nabla_{\\bf U}L = \\sum_t \\text{diag}\\left( 1 - \\left( {\\bf{h}}^{(t)} \\right)^2\\right)(\\nabla_{{\\bf{h}}^{(t)}} L){\\bf{x}}^{(t)^T} $$"
   ]
  },
  {
   "cell_type": "markdown",
   "metadata": {},
   "source": [
    "Una vez calculados los gradientes se puede proceder a actualizar los parámetros usando la regla del gradiente descendente o similar. Veamos un ejemplo de aplicación:"
   ]
  },
  {
   "cell_type": "code",
   "execution_count": 11,
   "metadata": {},
   "outputs": [
    {
     "name": "stdout",
     "output_type": "stream",
     "text": [
      "Epoch: 100; Error: 0.25121219195;\n",
      "Epoch: 200; Error: 0.0754892838743;\n",
      "Epoch: 300; Error: 0.120768353064;\n",
      "Epoch: 400; Error: 0.0752163347489;\n",
      "Epoch: 500; Error: 0.0640042835346;\n",
      "The maximum number of train epochs is reached\n"
     ]
    },
    {
     "data": {
      "image/png": "[encoded data removed]",
      "text/plain": [
       "<matplotlib.figure.Figure at 0x7fdef8a0e8d0>"
      ]
     },
     "metadata": {},
     "output_type": "display_data"
    }
   ],
   "source": [
    "# -*- coding: utf-8 -*-\n",
    "\"\"\" \n",
    "Example of use Elman recurrent network\n",
    "=====================================\n",
    "\n",
    "Task: Detect the amplitudes\n",
    "\n",
    "\"\"\"\n",
    "\n",
    "import neurolab as nl\n",
    "import numpy as np\n",
    "\n",
    "# Create train samples\n",
    "i1 = np.sin(np.arange(0, 20))\n",
    "i2 = np.sin(np.arange(0, 20)) * 2\n",
    "\n",
    "t1 = np.ones([1, 20])\n",
    "t2 = np.ones([1, 20]) * 2\n",
    "\n",
    "input = np.array([i1, i2, i1, i2]).reshape(20 * 4, 1)\n",
    "target = np.array([t1, t2, t1, t2]).reshape(20 * 4, 1)\n",
    "\n",
    "# Create network with 2 layers\n",
    "net = nl.net.newelm([[-2, 2]], [10, 1], [nl.trans.TanSig(), nl.trans.PureLin()])\n",
    "# Set initialized functions and init\n",
    "net.layers[0].initf = nl.init.InitRand([-0.1, 0.1], 'wb')\n",
    "net.layers[1].initf= nl.init.InitRand([-0.1, 0.1], 'wb')\n",
    "net.init()\n",
    "# Train network\n",
    "error = net.train(input, target, epochs=500, show=100, goal=0.01)\n",
    "# Simulate network\n",
    "output = net.sim(input)\n",
    "\n",
    "# Plot result\n",
    "import pylab as pl\n",
    "pl.subplot(211)\n",
    "pl.plot(error)\n",
    "pl.xlabel('Epoch number')\n",
    "pl.ylabel('Train error (default MSE)')\n",
    "\n",
    "pl.subplot(212)\n",
    "pl.plot(target.reshape(80))\n",
    "pl.plot(output.reshape(80))\n",
    "pl.legend(['train target', 'net output'])\n",
    "pl.show()"
   ]
  },
  {
   "cell_type": "markdown",
   "metadata": {},
   "source": [
    "Cuando las series a partir de las cuales se entrena la RNN son muy extensas en longitud, el entrenamiento de la red se puede hacer muy lento y además aumentar considerablemente los requerimientos en memoria, porque es necesario propagar toda la red en el tiempo, almacenar los resultados parciales de cada tiempo para posteriormente realizar la etapa Backward del algoritmo y comenzar con la siguiente época. Por esa razón, en el caso de RNN también se suele usar un procedimiento similar al entrenamiento mini-batch, en el que se propaga la red hacia adelante hasta un tiempo intermedio $(t)$, se realiza la etapa Backward, y por lo tanto la actualización de los parámetros de la red, y se continua la propagación hacia adelante a partir del tiempo $(t + 1)$. De esta manera se acelera la convergencia de la red y se disminuyen los requerimientos en memoria. A esta versión del algoritmo de entrenamiento se le conoce como <b>Truncated BPTT</b>."
   ]
  },
  {
   "cell_type": "markdown",
   "metadata": {},
   "source": [
    "### Redes Neuronales Recurrentes Bidireccionales"
   ]
  },
  {
   "cell_type": "markdown",
   "metadata": {},
   "source": [
    "En algunos problemas la información necesaria para hacer la predicción en un punto de la secuencia, implica conocer información del pasado, pero también del futuro. Por ejemplo en problemas de reconocimiento de voz o traducción, es usual que se requiera conocer la información de la secuencia completa. Las Bidirectional RNN (BRNN) corresponden a una modificación de las RNN en las que se incluye una capa adicional que en lugar de transmitir la información del tiempo $(t)$ al tiempo $(t + 1)$, lo hace al contrario. Las dos capas ocultas en este caso no tiene interconexión entre ellas, pero si con la capa de salida."
   ]
  },
  {
   "cell_type": "markdown",
   "metadata": {},
   "source": [
    "![alt text](Images/RNN_arc_3.png \"Neuronas\")"
   ]
  },
  {
   "cell_type": "markdown",
   "metadata": {},
   "source": [
    "Este tipo de arquitecturas se emplean tanto en casos en los que para cada entrada se requiere producir una salida, como en casos en los que se desea producir una única salida para toda la secuencia."
   ]
  },
  {
   "cell_type": "markdown",
   "metadata": {},
   "source": [
    "### Long Short Term Memory RNN (LSTM)"
   ]
  },
  {
   "cell_type": "markdown",
   "metadata": {},
   "source": [
    "El principal problema de las RNN convencionales es su incapacidad para aprender dependencias de orden superior en los datos, es decir, que el modelo capture información que le permita determinar la influencia que tiene un dato visto por el modelo hace varios tiempos atrás con respecto a la salida del modelo en el tiempo actual. Incluso, que pueda capturar depdencias cortas y dependencias largas al mismo tiempo. Esto sucede debido a que si se analizan con detenimiento las funciones de actualización de los parámetros, la matriz $\\bf{V}$ que contiene los pesos de los lazos de realimentación se multiplica así misma $(\\tau-1)$ veces, lo que implica que si sus valores son inferiores a cero, terminan desvaneciendose y si son muy grandes, terminarán divergiendo. A este hecho se suma que la aplicación consecutiva de múltiples funciones de activación, terminan por desvaner el resultado."
   ]
  },
  {
   "cell_type": "markdown",
   "metadata": {},
   "source": [
    "![alt text](Images/sigmoid_vanishing_gradient.png \"Neuronas\")"
   ]
  },
  {
   "cell_type": "markdown",
   "metadata": {},
   "source": [
    "Este problema ha sido estudiado ampliamente y se han propuesto múltiples alternativas desde finales de los años 80 y comienzos de los 90. De todas las arquitecturas propuestas, la de mayor éxito es una en la que se reemplazan los perceptrones por otro tipo de unidades básicas, llamadas celulas. Las redes neuronales recurrentes compuestas por dichas célculas se conocen con el nombre de Long-Short-Term-Memory Neural Networks (LSTM). Las LSTM fueron propuestas en 1997 y tienen la capacidad de aprender dependencias de tiempo corto, largo y así mismo de decir cuándo olvidar.  "
   ]
  },
  {
   "cell_type": "markdown",
   "metadata": {},
   "source": [
    "![alt text](Images/LSTM2.jpeg \"LSTM\")"
   ]
  },
  {
   "cell_type": "markdown",
   "metadata": {},
   "source": [
    "### Exponential Weighted Average"
   ]
  },
  {
   "cell_type": "markdown",
   "metadata": {},
   "source": [
    "Las LSTM usan como principio el promedio acumulado conocido como Exponential Weighted Moving Average (EWMA) y que originalmente fue propuesto para unas unidades conocidas como \"Leaky Units\". El EWMA tiene en cuenta más o menos información del pasado, de acuerdo con un parámetero. La regla de acumulación está dada por: $\\mu^{(t)} \\leftarrow \\beta \\mu^{(t-1)} + (1 - \\beta)\\upsilon^{(t)}$."
   ]
  },
  {
   "cell_type": "code",
   "execution_count": 12,
   "metadata": {},
   "outputs": [
    {
     "data": {
      "image/png": "[encoded data removed]",
      "text/plain": [
       "<Figure size 432x288 with 1 Axes>"
      ]
     },
     "metadata": {},
     "output_type": "display_data"
    }
   ],
   "source": [
    "import numpy as np\n",
    "import matplotlib.pyplot as plt \n",
    "# make a hat function, and add noise\n",
    "x = np.linspace(0,1,100)\n",
    "x = np.hstack((x,x[::-1]))\n",
    "x += np.random.normal( loc=0, scale=0.1, size=200 )\n",
    "plt.plot( x, 'k', alpha=0.5, label='Raw' )\n",
    " \n",
    "Beta1 = 0.8\n",
    "Beta2 = 0.5\n",
    "x1 = np.zeros(200)\n",
    "x2 = np.copy(x1)\n",
    "for i in range(1,200):\n",
    "    x1[i] = Beta1*x1[i-1] + (1-Beta1)*x[i]\n",
    "    x2[i] = Beta2*x2[i-1] + (1-Beta2)*x[i]\n",
    "# regular EWMA, with bias against trend\n",
    "plt.plot( x1, 'b', label='EWMA, Beta = 0.8' )\n",
    " \n",
    "# \"corrected\" (?) EWMA\n",
    "plt.plot( x2, 'r', label='EWMA, Beta = 0.5' )\n",
    " \n",
    "plt.legend(bbox_to_anchor=(1.05, 1), loc=2, borderaxespad=0.)\n",
    "plt.show()\n",
    "#savefig( 'ewma_correction.png', fmt='png', dpi=100 )"
   ]
  },
  {
   "cell_type": "markdown",
   "metadata": {},
   "source": [
    "Como se puede observar en la gráfica anterior, el parámetro $\\beta$ controla si la salida del promedio toma más en cuenta el dato actual (línea roja), o el histórico (línea azul). "
   ]
  },
  {
   "cell_type": "markdown",
   "metadata": {},
   "source": [
    "Las LSTM usan el mismo principio para controlar el nivel de memoria o de dependencia en el tiempo, pero en lugar de usar un parámetro constante, definen <b>compuertas</b> que son entrenadas como parte del algoritmo de entrenamiento y que deciden cuándo mantener y cuándo olvidar la información precedente. Una celula LSTM contiene tres compuertas, que se representan en la gráfica por la letra $\\sigma$, las cuales representan funciones sigmoide que garantizan que dichos valores están en el intervalo $(0,1)$. Adicionalmente, una célula LSTM define una variable adicional llamada <b>estado</b>. Las tres compuertas le permiten a la célula olvidar su estado o no, escribir o no, y leer o no."
   ]
  },
  {
   "cell_type": "markdown",
   "metadata": {},
   "source": [
    "![alt text](Images/LSTM2.png \"LSTM\")"
   ]
  },
  {
   "cell_type": "markdown",
   "metadata": {},
   "source": [
    "Usando la notación de la gráfica anterior, para el tiempo $t$ y la célula $l$, la célula estará descrita por las siguientes funciones:"
   ]
  },
  {
   "cell_type": "markdown",
   "metadata": {},
   "source": [
    "$$f_l^{(t)} = \\sigma \\left( b_l^f + \\sum_j U_{l,j}^f x_j^{(t)} + \\sum_j V_{l,j}^f h_j^{(t-1)}\\right)$$"
   ]
  },
  {
   "cell_type": "markdown",
   "metadata": {},
   "source": [
    "$$ c_l^{(t)} = f_l^{(t)}c_l^{(t-1)} + i_l^{(t)}\\tanh \\left( b_l^c + \\sum_j U_{l,j}^c x_j^{(t)} + \\sum_j V_{l,j}^c h_j^{(t-1)} \\right)$$"
   ]
  },
  {
   "cell_type": "markdown",
   "metadata": {},
   "source": [
    "$$i_l^{(t)} = \\sigma \\left( b_l^i + \\sum_j U_{l,j}^i x_j^{(t)} + \\sum_j V_{l,j}^i h_j^{(t-1)}\\right)$$"
   ]
  },
  {
   "cell_type": "markdown",
   "metadata": {},
   "source": [
    "$$h_l^{(t)} = \\tanh(c_l^{(t)})o_l^{(t)}$$"
   ]
  },
  {
   "cell_type": "markdown",
   "metadata": {},
   "source": [
    "$$o_l^{(t)} = \\sigma \\left( b_l^o + \\sum_j U_{l,j}^o x_j^{(t)} + \\sum_j V_{l,j}^o h_j^{(t-1)}\\right)$$"
   ]
  },
  {
   "cell_type": "markdown",
   "metadata": {},
   "source": [
    "donde $c_l^{(t)}$ es el estado de la célula en el tiempo $t$, por lo tanto la compuerta $f_l^{(t)}$ controla cuánto debe recordar la célula de su estado anterior $c_l^{(t-1)}$. Por otro lado, $i_l^{(t)}$ es una compuerta que controla cuánta influencia tendrá la información actual (entrada $x^{(t)}$ y salida anterior $h^{(t-1)}$) en el estado actual de la célula. La compuerta $o_l^{(t)}$ por su parte controla el nivel de activación de la salida."
   ]
  },
  {
   "cell_type": "markdown",
   "metadata": {},
   "source": [
    "El conjunto completo de parámetros que deben ser ajustados es entonces ${\\bf{V}}^f, {\\bf{U}}^f, {\\bf{b}}^f, {\\bf{V}}^c, {\\bf{U}}^c, {\\bf{b}}^c, {\\bf{V}}^i, {\\bf{U}}^i, {\\bf{b}}^i, {\\bf{V}}^o, {\\bf{U}}^o, {\\bf{b}}^o$. Al igual que con las RNN, también se pueden construir arquitecturas bidireccionales usando LSTMs. Pueden consultar el siguiente turorial: https://machinelearningmastery.com/develop-bidirectional-lstm-sequence-classification-python-keras/"
   ]
  },
  {
   "cell_type": "markdown",
   "metadata": {},
   "source": [
    "Ejemplo (tomade: https://machinelearningmastery.com/time-series-prediction-lstm-recurrent-neural-networks-python-keras/)"
   ]
  },
  {
   "cell_type": "code",
   "execution_count": 3,
   "metadata": {},
   "outputs": [
    {
     "data": {
      "image/png": "[encoded data removed]",
      "text/plain": [
       "<matplotlib.figure.Figure at 0x7f3d3dc8ae10>"
      ]
     },
     "metadata": {},
     "output_type": "display_data"
    }
   ],
   "source": [
    "import pandas\n",
    "import matplotlib.pyplot as plt\n",
    "dataset = pandas.read_csv('DataFiles/international-airline-passengers.csv', usecols=[1], engine='python', skipfooter=3)\n",
    "plt.plot(dataset)\n",
    "plt.show()"
   ]
  },
  {
   "cell_type": "code",
   "execution_count": 4,
   "metadata": {},
   "outputs": [
    {
     "name": "stderr",
     "output_type": "stream",
     "text": [
      "/usr/local/lib/python2.7/dist-packages/h5py/__init__.py:36: FutureWarning: Conversion of the second argument of issubdtype from `float` to `np.floating` is deprecated. In future, it will be treated as `np.float64 == np.dtype(float).type`.\n",
      "  from ._conv import register_converters as _register_converters\n",
      "Using TensorFlow backend.\n"
     ]
    }
   ],
   "source": [
    "import numpy\n",
    "import matplotlib.pyplot as plt\n",
    "import pandas\n",
    "import math\n",
    "from tensorflow.keras.models import Sequential\n",
    "from tensorflow.keras.layers import Dense\n",
    "from tensorflow.keras.layers import LSTM\n",
    "from sklearn.preprocessing import MinMaxScaler\n",
    "from sklearn.metrics import mean_squared_error"
   ]
  },
  {
   "cell_type": "code",
   "execution_count": 5,
   "metadata": {},
   "outputs": [
    {
     "name": "stdout",
     "output_type": "stream",
     "text": [
      "(96, 48)\n"
     ]
    }
   ],
   "source": [
    "dataset = dataset.values\n",
    "dataset = dataset.astype('float32')\n",
    "# normalize the dataset\n",
    "scaler = MinMaxScaler(feature_range=(0, 1))\n",
    "dataset = scaler.fit_transform(dataset)\n",
    "# split into train and test sets\n",
    "train_size = int(len(dataset) * 0.67)\n",
    "test_size = len(dataset) - train_size\n",
    "train, test = dataset[0:train_size,:], dataset[train_size:len(dataset),:]\n",
    "print(len(train), len(test))"
   ]
  },
  {
   "cell_type": "code",
   "execution_count": 6,
   "metadata": {},
   "outputs": [],
   "source": [
    "# convert an array of values into a dataset matrix\n",
    "def create_dataset(dataset, look_back=1):\n",
    "\tdataX, dataY = [], []\n",
    "\tfor i in range(len(dataset)-look_back-1):\n",
    "\t\ta = dataset[i:(i+look_back), 0]\n",
    "\t\tdataX.append(a)\n",
    "\t\tdataY.append(dataset[i + look_back, 0])\n",
    "\treturn numpy.array(dataX), numpy.array(dataY)"
   ]
  },
  {
   "cell_type": "code",
   "execution_count": 7,
   "metadata": {},
   "outputs": [],
   "source": [
    "# reshape into X=t and Y=t+1\n",
    "look_back = 1\n",
    "trainX, trainY = create_dataset(train, look_back)\n",
    "testX, testY = create_dataset(test, look_back)\n",
    "\n",
    "# reshape input to be [samples, time steps, features]\n",
    "trainX = numpy.reshape(trainX, (trainX.shape[0], 1, trainX.shape[1]))\n",
    "testX = numpy.reshape(testX, (testX.shape[0], 1, testX.shape[1]))\n"
   ]
  },
  {
   "cell_type": "code",
   "execution_count": 8,
   "metadata": {},
   "outputs": [
    {
     "name": "stdout",
     "output_type": "stream",
     "text": [
      "Epoch 1/100\n",
      " - 1s - loss: 0.0474\n",
      "Epoch 2/100\n",
      " - 0s - loss: 0.0240\n",
      "Epoch 3/100\n",
      " - 0s - loss: 0.0180\n",
      "Epoch 4/100\n",
      " - 0s - loss: 0.0167\n",
      "Epoch 5/100\n",
      " - 0s - loss: 0.0158\n",
      "Epoch 6/100\n",
      " - 0s - loss: 0.0151\n",
      "Epoch 7/100\n",
      " - 0s - loss: 0.0143\n",
      "Epoch 8/100\n",
      " - 0s - loss: 0.0132\n",
      "Epoch 9/100\n",
      " - 0s - loss: 0.0123\n",
      "Epoch 10/100\n",
      " - 0s - loss: 0.0114\n",
      "Epoch 11/100\n",
      " - 0s - loss: 0.0105\n",
      "Epoch 12/100\n",
      " - 0s - loss: 0.0096\n",
      "Epoch 13/100\n",
      " - 0s - loss: 0.0086\n",
      "Epoch 14/100\n",
      " - 0s - loss: 0.0077\n",
      "Epoch 15/100\n",
      " - 0s - loss: 0.0068\n",
      "Epoch 16/100\n",
      " - 0s - loss: 0.0061\n",
      "Epoch 17/100\n",
      " - 0s - loss: 0.0053\n",
      "Epoch 18/100\n",
      " - 0s - loss: 0.0047\n",
      "Epoch 19/100\n",
      " - 0s - loss: 0.0039\n",
      "Epoch 20/100\n",
      " - 0s - loss: 0.0035\n",
      "Epoch 21/100\n",
      " - 0s - loss: 0.0031\n",
      "Epoch 22/100\n",
      " - 0s - loss: 0.0028\n",
      "Epoch 23/100\n",
      " - 0s - loss: 0.0025\n",
      "Epoch 24/100\n",
      " - 0s - loss: 0.0024\n",
      "Epoch 25/100\n",
      " - 0s - loss: 0.0023\n",
      "Epoch 26/100\n",
      " - 0s - loss: 0.0022\n",
      "Epoch 27/100\n",
      " - 0s - loss: 0.0022\n",
      "Epoch 28/100\n",
      " - 0s - loss: 0.0022\n",
      "Epoch 29/100\n",
      " - 0s - loss: 0.0021\n",
      "Epoch 30/100\n",
      " - 0s - loss: 0.0021\n",
      "Epoch 31/100\n",
      " - 0s - loss: 0.0021\n",
      "Epoch 32/100\n",
      " - 0s - loss: 0.0021\n",
      "Epoch 33/100\n",
      " - 0s - loss: 0.0021\n",
      "Epoch 34/100\n",
      " - 0s - loss: 0.0021\n",
      "Epoch 35/100\n",
      " - 0s - loss: 0.0020\n",
      "Epoch 36/100\n",
      " - 0s - loss: 0.0021\n",
      "Epoch 37/100\n",
      " - 0s - loss: 0.0021\n",
      "Epoch 38/100\n",
      " - 0s - loss: 0.0021\n",
      "Epoch 39/100\n",
      " - 0s - loss: 0.0021\n",
      "Epoch 40/100\n",
      " - 0s - loss: 0.0021\n",
      "Epoch 41/100\n",
      " - 0s - loss: 0.0021\n",
      "Epoch 42/100\n",
      " - 0s - loss: 0.0021\n",
      "Epoch 43/100\n",
      " - 0s - loss: 0.0020\n",
      "Epoch 44/100\n",
      " - 0s - loss: 0.0021\n",
      "Epoch 45/100\n",
      " - 0s - loss: 0.0021\n",
      "Epoch 46/100\n",
      " - 0s - loss: 0.0021\n",
      "Epoch 47/100\n",
      " - 0s - loss: 0.0020\n",
      "Epoch 48/100\n",
      " - 0s - loss: 0.0021\n",
      "Epoch 49/100\n",
      " - 0s - loss: 0.0021\n",
      "Epoch 50/100\n",
      " - 0s - loss: 0.0021\n",
      "Epoch 51/100\n",
      " - 0s - loss: 0.0021\n",
      "Epoch 52/100\n",
      " - 0s - loss: 0.0021\n",
      "Epoch 53/100\n",
      " - 0s - loss: 0.0020\n",
      "Epoch 54/100\n",
      " - 0s - loss: 0.0019\n",
      "Epoch 55/100\n",
      " - 0s - loss: 0.0021\n",
      "Epoch 56/100\n",
      " - 0s - loss: 0.0020\n",
      "Epoch 57/100\n",
      " - 0s - loss: 0.0021\n",
      "Epoch 58/100\n",
      " - 0s - loss: 0.0020\n",
      "Epoch 59/100\n",
      " - 0s - loss: 0.0019\n",
      "Epoch 60/100\n",
      " - 0s - loss: 0.0022\n",
      "Epoch 61/100\n",
      " - 0s - loss: 0.0021\n",
      "Epoch 62/100\n",
      " - 0s - loss: 0.0021\n",
      "Epoch 63/100\n",
      " - 0s - loss: 0.0021\n",
      "Epoch 64/100\n",
      " - 0s - loss: 0.0020\n",
      "Epoch 65/100\n",
      " - 0s - loss: 0.0021\n",
      "Epoch 66/100\n",
      " - 0s - loss: 0.0020\n",
      "Epoch 67/100\n",
      " - 0s - loss: 0.0020\n",
      "Epoch 68/100\n",
      " - 0s - loss: 0.0020\n",
      "Epoch 69/100\n",
      " - 0s - loss: 0.0021\n",
      "Epoch 70/100\n",
      " - 0s - loss: 0.0021\n",
      "Epoch 71/100\n",
      " - 0s - loss: 0.0021\n",
      "Epoch 72/100\n",
      " - 0s - loss: 0.0020\n",
      "Epoch 73/100\n",
      " - 0s - loss: 0.0021\n",
      "Epoch 74/100\n",
      " - 0s - loss: 0.0020\n",
      "Epoch 75/100\n",
      " - 0s - loss: 0.0021\n",
      "Epoch 76/100\n",
      " - 0s - loss: 0.0021\n",
      "Epoch 77/100\n",
      " - 0s - loss: 0.0021\n",
      "Epoch 78/100\n",
      " - 0s - loss: 0.0020\n",
      "Epoch 79/100\n",
      " - 0s - loss: 0.0021\n",
      "Epoch 80/100\n",
      " - 0s - loss: 0.0020\n",
      "Epoch 81/100\n",
      " - 0s - loss: 0.0020\n",
      "Epoch 82/100\n",
      " - 0s - loss: 0.0021\n",
      "Epoch 83/100\n",
      " - 0s - loss: 0.0021\n",
      "Epoch 84/100\n",
      " - 0s - loss: 0.0021\n",
      "Epoch 85/100\n",
      " - 0s - loss: 0.0021\n",
      "Epoch 86/100\n",
      " - 0s - loss: 0.0020\n",
      "Epoch 87/100\n",
      " - 0s - loss: 0.0022\n",
      "Epoch 88/100\n",
      " - 0s - loss: 0.0020\n",
      "Epoch 89/100\n",
      " - 0s - loss: 0.0020\n",
      "Epoch 90/100\n",
      " - 0s - loss: 0.0021\n",
      "Epoch 91/100\n",
      " - 0s - loss: 0.0020\n",
      "Epoch 92/100\n",
      " - 0s - loss: 0.0020\n",
      "Epoch 93/100\n",
      " - 0s - loss: 0.0020\n",
      "Epoch 94/100\n",
      " - 0s - loss: 0.0020\n",
      "Epoch 95/100\n",
      " - 0s - loss: 0.0020\n",
      "Epoch 96/100\n",
      " - 0s - loss: 0.0020\n",
      "Epoch 97/100\n",
      " - 0s - loss: 0.0020\n",
      "Epoch 98/100\n",
      " - 0s - loss: 0.0021\n",
      "Epoch 99/100\n",
      " - 0s - loss: 0.0021\n",
      "Epoch 100/100\n",
      " - 0s - loss: 0.0020\n"
     ]
    },
    {
     "data": {
      "text/plain": [
       "<keras.callbacks.History at 0x7f3d27051f90>"
      ]
     },
     "execution_count": 8,
     "metadata": {},
     "output_type": "execute_result"
    }
   ],
   "source": [
    "# create and fit the LSTM network\n",
    "model = Sequential()\n",
    "model.add(LSTM(4, input_shape=(1, look_back)))\n",
    "model.add(Dense(1))\n",
    "model.compile(loss='mean_squared_error', optimizer='adam')\n",
    "model.fit(trainX, trainY, epochs=100, batch_size=1, verbose=2)"
   ]
  },
  {
   "cell_type": "code",
   "execution_count": 9,
   "metadata": {},
   "outputs": [
    {
     "name": "stdout",
     "output_type": "stream",
     "text": [
      "Train Score: 23.26 RMSE\n",
      "Test Score: 47.68 RMSE\n"
     ]
    }
   ],
   "source": [
    "# make predictions\n",
    "trainPredict = model.predict(trainX)\n",
    "testPredict = model.predict(testX)\n",
    "# invert predictions\n",
    "trainPredict = scaler.inverse_transform(trainPredict)\n",
    "trainY = scaler.inverse_transform([trainY])\n",
    "testPredict = scaler.inverse_transform(testPredict)\n",
    "testY = scaler.inverse_transform([testY])\n",
    "# calculate root mean squared error\n",
    "trainScore = math.sqrt(mean_squared_error(trainY[0], trainPredict[:,0]))\n",
    "print('Train Score: %.2f RMSE' % (trainScore))\n",
    "testScore = math.sqrt(mean_squared_error(testY[0], testPredict[:,0]))\n",
    "print('Test Score: %.2f RMSE' % (testScore))"
   ]
  },
  {
   "cell_type": "code",
   "execution_count": 10,
   "metadata": {},
   "outputs": [
    {
     "data": {
      "image/png": "[encoded data removed]",
      "text/plain": [
       "<matplotlib.figure.Figure at 0x7f3d2419d590>"
      ]
     },
     "metadata": {},
     "output_type": "display_data"
    }
   ],
   "source": [
    "trainPredictPlot = numpy.empty_like(dataset)\n",
    "trainPredictPlot[:, :] = numpy.nan\n",
    "trainPredictPlot[look_back:len(trainPredict)+look_back, :] = trainPredict\n",
    "# shift test predictions for plotting\n",
    "testPredictPlot = numpy.empty_like(dataset)\n",
    "testPredictPlot[:, :] = numpy.nan\n",
    "testPredictPlot[len(trainPredict)+(look_back*2)+1:len(dataset)-1, :] = testPredict\n",
    "# plot baseline and predictions\n",
    "plt.plot(scaler.inverse_transform(dataset))\n",
    "plt.plot(trainPredictPlot)\n",
    "plt.plot(testPredictPlot)\n",
    "plt.show()"
   ]
  },
  {
   "cell_type": "markdown",
   "metadata": {},
   "source": [
    "### Bibliografía"
   ]
  },
  {
   "cell_type": "markdown",
   "metadata": {},
   "source": [
    "[1] Googfellow, I.; Bengio, Y.; Courville, A. \"Deep Learning\", The MIT Press, Cambridge, MA, USA, 2016. "
   ]
  }
 ],
 "metadata": {
  "kernelspec": {
   "display_name": "Python 3",
   "language": "python",
   "name": "python3"
  },
  "language_info": {
   "codemirror_mode": {
    "name": "ipython",
    "version": 3
   },
   "file_extension": ".py",
   "mimetype": "text/x-python",
   "name": "python",
   "nbconvert_exporter": "python",
   "pygments_lexer": "ipython3",
   "version": "3.7.6"
  }
 },
 "nbformat": 4,
 "nbformat_minor": 2
}
