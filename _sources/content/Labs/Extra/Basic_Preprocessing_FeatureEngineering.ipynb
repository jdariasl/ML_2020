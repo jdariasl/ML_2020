{
  "nbformat": 4,
  "nbformat_minor": 0,
  "metadata": {
    "colab": {
      "name": "Basic_Preprocessing_FeatureEngineering.ipynb",
      "provenance": [],
      "collapsed_sections": [],
      "authorship_tag": "ABX9TyNZGdjEbCfP+245qloso/b/",
      "include_colab_link": true
    },
    "kernelspec": {
      "name": "python3",
      "display_name": "Python 3"
    }
  },
  "cells": [
    {
      "cell_type": "markdown",
      "metadata": {
        "id": "view-in-github",
        "colab_type": "text"
      },
      "source": [
        "<a href=\"https://colab.research.google.com/github/jdariasl/ML_2020/blob/master/Labs/Extra/Basic_Preprocessing_FeatureEngineering.ipynb\" target=\"_parent\"><img src=\"https://colab.research.google.com/assets/colab-badge.svg\" alt=\"Open In Colab\"/></a>"
      ]
    },
    {
      "cell_type": "markdown",
      "metadata": {
        "id": "D6HVQPMx_6Hc"
      },
      "source": [
        "# Preprocesamiento y Feature Engineering Basico\n",
        "\n",
        "## Introducción\n",
        "\n",
        "En nuestras practicas hemos tratado con información que esta relativamente lista para comenzar a crear nuestros modelos. Sin embargo en a la hora de comenzar proyectos desde cero, pocas veces nos vamos a encontrar con esta situación ideal (pero nuestros animos seguiran siendo los mismos).\n",
        "\n",
        "<img src=\"https://i.redd.it/pqtv2tnlwpb41.jpg\" alt=\"drawing\" width=\"400\"/>\n",
        "\n",
        "*Tomada de reddit\n",
        "\n",
        "\n",
        "\n"
      ]
    },
    {
      "cell_type": "markdown",
      "metadata": {
        "id": "lWSbzZ_7-WBk"
      },
      "source": [
        "Para comenzar estos proyectos, ada organización, equipo adapta/crea su propia metodología, aca vemos varios ejemplos referentes construidos por la industria\n",
        "\n",
        "\n",
        "### **Cross Industry Standard Process for Data Mining**: \n",
        "\n",
        "<img src=\"https://upload.wikimedia.org/wikipedia/commons/thumb/b/b9/CRISP-DM_Process_Diagram.png/800px-CRISP-DM_Process_Diagram.png\" alt=\"drawing\" width=\"400\"/>\n",
        "\n",
        "\n",
        "### ***O*btaining *S*crubbing *E*xploring *M*odeling i*N*terpret data framework**:\n",
        "\n",
        "<img src=\"https://miro.medium.com/max/700/1*eE8DP4biqtaIK3aIy1S2zA.png\" alt=\"drawing\" width=\"500\"/>\n",
        "\n",
        "\n",
        "### **Ciclo de vida de ciencia de datos de Microsoft**:\n",
        "\n",
        "<img src=\"https://docs.microsoft.com/es-es/azure/machine-learning/team-data-science-process/media/lifecycle/tdsp-lifecycle2.png\" alt=\"drawing\" width=\"500\"/>\n",
        "\n",
        "Una buena practica es no \"atarse\" a seguir un proceso especifico (alguna veces el proceso se repite N veces, o una etapa especifica tiene que  volver hacerse en medio de otra, etc.). Lo importante es conocer las practicas y estar al tanto de algunos estandares. \n",
        "\n",
        "La mejor recomendación de estos procesos es verlos como herramientas disponibles para los equipos. Lo importante es crear un ambiente para que el equipo tenga la libertad de aprender y **aplicar cualquier practica que vea que va mejorar la calidad de trabajo entregado por el equipo**.\n",
        "\n",
        "Sin embargo, observandolos cada uno de estos procesos los podemos resumir en los siguientes pasos:\n",
        "\n",
        "1. Entender problema y el objetivo\n",
        "2. Obtener y Entender los datos(Analisis exploratorio-- en algunas practicas hemos iniciado con estas tecnicas)\n",
        "3. Modelar: **incluyendo las transformaciones/ limpieza/ ingeniería de caracteriscas de los datos** y el modelo de ML (entrenamiento, validación, experimentos -- lo que hemos estado haciendo en las practicas)\n",
        "4. Despliegue Modelo (**nuestra segunda sesión extra**)\n",
        "\n"
      ]
    },
    {
      "cell_type": "markdown",
      "metadata": {
        "id": "J7I9sItR_87-"
      },
      "source": [
        "## Transformación de datos categóricos\n",
        "\n",
        "**Vamos a crear ciertos escenarios hipoteticos, para enfocarnos en la practica, no vamos a usar datasets o base de datos especificas.**\n",
        "\n"
      ]
    },
    {
      "cell_type": "code",
      "metadata": {
        "id": "Af534OLIHuJT"
      },
      "source": [
        "import pandas as pd\n",
        "import numpy as np"
      ],
      "execution_count": null,
      "outputs": []
    },
    {
      "cell_type": "code",
      "metadata": {
        "id": "NxfG69koAMSp"
      },
      "source": [
        "# Base de datos con datos de calificación cualtitavia\n",
        "usr = ['Guido Van Rosuum','Serguéi Brin',\n",
        "       'Elon Musk','Alan Turing',\n",
        "       'Ada Lovelace', 'Richard Stallman',\n",
        "       'Linus Torvalds', 'Bill Gates', \n",
        "       'Steve Jobs', 'Margaret Hamilton', \n",
        "       'Yoshua Bengio']\n",
        "grades =  ['Excelente','Medio',\n",
        "           'Medio', 'Excelente',\n",
        "           'Excelente', 'Bajo', \n",
        "           'Excelente', 'Bajo', 'Bajo', \n",
        "           'Excelente', 'Medio']\n",
        "data = {'Nombre de Usuario': usr,\n",
        "        'Calificación del usuario': grades,\n",
        "        'Calificación del publico': grades[::-1]}\n",
        "data = pd.DataFrame(data)\n",
        "data"
      ],
      "execution_count": null,
      "outputs": []
    },
    {
      "cell_type": "code",
      "metadata": {
        "id": "ArnQpYC1LDiU"
      },
      "source": [
        "# usando sklearn\n",
        "from sklearn.preprocessing import OrdinalEncoder\n",
        "X =  data[['Calificación del usuario', 'Calificación del publico']]\n",
        "enc = OrdinalEncoder()\n",
        "enc.fit(X)"
      ],
      "execution_count": null,
      "outputs": []
    },
    {
      "cell_type": "code",
      "metadata": {
        "id": "H-N2H8qVR9CV"
      },
      "source": [
        "# ver las categorias\n",
        "enc.categories_"
      ],
      "execution_count": null,
      "outputs": []
    },
    {
      "cell_type": "code",
      "metadata": {
        "id": "mWMbaJsSSB4k"
      },
      "source": [
        "enc.transform(X)"
      ],
      "execution_count": null,
      "outputs": []
    },
    {
      "cell_type": "code",
      "metadata": {
        "id": "fiezteMKSPPk"
      },
      "source": [
        "#asignamos a la tabla\n",
        "data[['usuario_cod', 'publico_cod']] = enc.transform(X)\n",
        "data"
      ],
      "execution_count": null,
      "outputs": []
    },
    {
      "cell_type": "code",
      "metadata": {
        "id": "XMmQ5f8wSgKM"
      },
      "source": [
        "# asignar categorias para conservar el orden!!\n",
        "enc = OrdinalEncoder(categories=[['Bajo', 'Medio', 'Excelente'],\n",
        "                                 ['Bajo', 'Medio', 'Excelente']])\n",
        "enc.fit(X)\n",
        "data[['usuario_cod', 'publico_cod']] = enc.transform(X)\n",
        "data"
      ],
      "execution_count": null,
      "outputs": []
    },
    {
      "cell_type": "code",
      "metadata": {
        "id": "ry6oXvxITFum"
      },
      "source": [
        "# Se puede usar para realizar transformaciones inversas (si es necesario)\n",
        "# para comunicar resultados\n",
        "enc.inverse_transform(data[['usuario_cod', 'publico_cod']])"
      ],
      "execution_count": null,
      "outputs": []
    },
    {
      "cell_type": "code",
      "metadata": {
        "id": "lbY6d54cLmc7"
      },
      "source": [
        "# usando pandas\n",
        "mapping = {'Bajo': 1, 'Medio': 2, 'Excelente': 3}\n",
        "data['Calificación del usuario'].replace(mapping)"
      ],
      "execution_count": null,
      "outputs": []
    },
    {
      "cell_type": "code",
      "metadata": {
        "id": "Ab8gcaC8MuKd"
      },
      "source": [
        "# asignar a nuevas columnas\n",
        "data['usuario_cod'] = data['Calificación del usuario'].replace(mapping)\n",
        "data['publico_cod'] = data['Calificación del publico'].replace(mapping)\n",
        "data"
      ],
      "execution_count": null,
      "outputs": []
    },
    {
      "cell_type": "markdown",
      "metadata": {
        "id": "1-2Htw6fDFbg"
      },
      "source": [
        "**La reflexión**: si los datos categoricos tienen un orden/rank especifico es posible transformarlos a variables numéricas que conserven este comportamiento ordenado. \n",
        "\n",
        "¿Que hacemos cuando los valores categoricos no tienen un orden?\n"
      ]
    },
    {
      "cell_type": "code",
      "metadata": {
        "id": "3Em2vetMrfmF"
      },
      "source": [
        "ohe_data = [\n",
        "    {'price': 850000, 'rooms': 4, 'neighborhood': 'Queen Anne'},\n",
        "    {'price': 700000, 'rooms': 3, 'neighborhood': 'Fremont'},\n",
        "    {'price': 650000, 'rooms': 3, 'neighborhood': 'Wallingford'},\n",
        "    {'price': 600000, 'rooms': 2, 'neighborhood': 'Fremont'}\n",
        "]\n",
        "data = pd.DataFrame(ohe_data)\n",
        "data"
      ],
      "execution_count": null,
      "outputs": []
    },
    {
      "cell_type": "code",
      "metadata": {
        "id": "3hwYHSiu2MSf"
      },
      "source": [
        "from sklearn.preprocessing import OneHotEncoder\n",
        "ohe = OneHotEncoder(sparse=False)\n",
        "ohe.fit(data[['neighborhood']])\n",
        "ohe.transform(data[['neighborhood']])"
      ],
      "execution_count": null,
      "outputs": []
    },
    {
      "cell_type": "code",
      "metadata": {
        "id": "Q2_zL4C_GoF1"
      },
      "source": [
        "pd.DataFrame(ohe.transform(data[['neighborhood']]), \n",
        "                               columns = [\"ohe1\", \"ohe2\", \"ohe3\"])"
      ],
      "execution_count": null,
      "outputs": []
    },
    {
      "cell_type": "code",
      "metadata": {
        "id": "-MNs5w6y4MfY"
      },
      "source": [
        "data = pd.concat([data, \n",
        "                  pd.DataFrame(ohe.transform(data[['neighborhood']]), \n",
        "                               columns = [\"ohe1\", \"ohe2\", \"ohe3\"])], \n",
        "                 ignore_index = False, axis =1)\n",
        "data"
      ],
      "execution_count": null,
      "outputs": []
    },
    {
      "cell_type": "code",
      "metadata": {
        "id": "4NblL6-_Hj3t"
      },
      "source": [
        "# Usando Pandas!\n",
        "data = pd.DataFrame(ohe_data)\n",
        "pd.get_dummies(data['neighborhood'], prefix='neighborhood')"
      ],
      "execution_count": null,
      "outputs": []
    },
    {
      "cell_type": "code",
      "metadata": {
        "id": "ofTcW0RXITeW"
      },
      "source": [
        "df = pd.concat([data,pd.get_dummies(data['neighborhood'], prefix='neighborhood')],axis=1)\n",
        "df"
      ],
      "execution_count": null,
      "outputs": []
    },
    {
      "cell_type": "markdown",
      "metadata": {
        "id": "55xeZlGNI_tu"
      },
      "source": [
        "**La reflexión**: si los datos categoricos no tienen un orden/rank especifico se debe usar una codificación que no cree relaciones matematicas donde no existen. El ohe hot enconding (dummy variables) es una de las alternativas para usar valores categóricos en nuestro problemas."
      ]
    },
    {
      "cell_type": "markdown",
      "metadata": {
        "id": "rQ-I5auzAMv4"
      },
      "source": [
        "## Imputación de valores\n",
        "\n",
        "Los valores faltantes es algo común en las bases de datos. Un buen comienzo es realizarse una seria de preugntas:\n",
        "\n",
        "1. ¿Hay alguna explicación del dato faltante a nivel de entendimiento del negocio?\n",
        "2. ¿Es la variable con datos faltantes vital para nuestro problema?\n",
        "3. ¿Que porcentaje de datos faltantes existen?\n"
      ]
    },
    {
      "cell_type": "code",
      "metadata": {
        "id": "3KJT21NuVyCL"
      },
      "source": [
        "def generate_missing_data(rows = True, cod=False):\n",
        "    df = pd.DataFrame(np.random.randn(10, 3), index=range(10),\n",
        "                  columns=['one', 'two', 'three'])\n",
        "    df['category'] = np.where(df['three']>0.2, \"Y\", \"N\")\n",
        "    df = df.reindex(range(15))\n",
        "    if rows:\n",
        "      df = df.reindex(np.random.permutation(df.index))\n",
        "      if cod:\n",
        "        df = df.where(~df.isna(), 400)\n",
        "      df['category2'] = 5*[\"Medellin\", \"Sabaneta\", \"Envigado\"]\n",
        "      return(df)\n",
        "    else:\n",
        "      shape = df.shape\n",
        "      c = df['category'].copy()\n",
        "      values = df[['one', 'two', 'three']].values.flatten()\n",
        "      np.random.shuffle(values) \n",
        "      df = pd.DataFrame(values.reshape((shape[0], shape[1]-1)),\n",
        "                        columns=['one', 'two', 'three'])\n",
        "      df['category'] = c\n",
        "      if cod:\n",
        "        df = df.where(~df.isna(), 400)\n",
        "      df['category2'] = 5*[\"Medellin\", \"Sabaneta\", \"Envigado\"]\n",
        "      return(df)\n"
      ],
      "execution_count": null,
      "outputs": []
    },
    {
      "cell_type": "code",
      "metadata": {
        "id": "61z_dMvcF5iO"
      },
      "source": [
        "# creacion de data de ejemplo\n",
        "df = generate_missing_data()\n",
        "df"
      ],
      "execution_count": null,
      "outputs": []
    },
    {
      "cell_type": "code",
      "metadata": {
        "id": "wMj_0ciFDCes"
      },
      "source": [
        "# cuando hay alguna explicación y se llega a la conclusion\n",
        "# de que es conveniente remover los datos faltantes\n",
        "#pandas\n",
        "df.dropna() # elimina datos row si encuentra un al menos una columna"
      ],
      "execution_count": null,
      "outputs": []
    },
    {
      "cell_type": "code",
      "metadata": {
        "id": "GFyIvd_tWgYz"
      },
      "source": [
        "df = generate_missing_data(rows=False)\n",
        "df"
      ],
      "execution_count": null,
      "outputs": []
    },
    {
      "cell_type": "code",
      "metadata": {
        "id": "7EgXF2f_IQfe"
      },
      "source": [
        "df.dropna(subset=['two']) # elimina datos row si na en las columnas especificadas"
      ],
      "execution_count": null,
      "outputs": []
    },
    {
      "cell_type": "code",
      "metadata": {
        "id": "OCPqcyx434y_"
      },
      "source": [
        "# medir el porcentaje de datos falantes\n",
        "display(df.isna())\n",
        "print(\"\")\n",
        "df.isna().mean()#.round(4) * 100"
      ],
      "execution_count": null,
      "outputs": []
    },
    {
      "cell_type": "markdown",
      "metadata": {
        "id": "HZ94e6ty39un"
      },
      "source": [
        "**Reflexión**: Antes de pensar en la imputación de valores faltantes se debe analizar el impacto y tratar de buscar alguna explicación. Muchas veces la primera decisión es removerlos. Antes de pensar en la imputación, Se debe analizar el impacto de estos datos faltantes y el porcentaje."
      ]
    },
    {
      "cell_type": "code",
      "metadata": {
        "id": "H7hLd6ez39OP"
      },
      "source": [
        "# Cuando eliminar los datos falantes\n",
        "# provoca una perdida de información importante!\n",
        "# una opción es asignar un valor (no muy recomendada)\n",
        "df.fillna(0.0)"
      ],
      "execution_count": null,
      "outputs": []
    },
    {
      "cell_type": "code",
      "metadata": {
        "id": "nTqRdPOZ6E-h"
      },
      "source": [
        "# imputar valor con la media\n",
        "from sklearn.impute import SimpleImputer\n",
        "imp = SimpleImputer(missing_values=np.nan, strategy='mean')\n",
        "df_imp = df.copy()\n",
        "df_imp[['one_imp', 'two_imp', 'three_imp']]= imp.fit_transform(df[['one', 'two', 'three']])\n",
        "df_imp"
      ],
      "execution_count": null,
      "outputs": []
    },
    {
      "cell_type": "code",
      "metadata": {
        "id": "m8wBPkYj6FQ4"
      },
      "source": [
        "# imputar valor con el valor más frequente\n",
        "from sklearn.impute import SimpleImputer\n",
        "imp = SimpleImputer(missing_values=np.nan, strategy='most_frequent')\n",
        "df_imp = df.copy()\n",
        "df_imp[['one_imp', 'two_imp', 'three_imp', 'cat_imp', 'cat_imp2']]= imp.fit_transform(df)\n",
        "df_imp"
      ],
      "execution_count": null,
      "outputs": []
    },
    {
      "cell_type": "code",
      "metadata": {
        "id": "qK5CEbRUxUrd"
      },
      "source": [
        "# tambien hay otras tecnicas mas sofisticadas para imputar \n",
        "# datos, los cuales deben ser ajustadas\n",
        "# y practicamente se vuelven un modelo \n",
        "# a entrenar\n",
        "from sklearn.impute import KNNImputer\n",
        "imputer = KNNImputer(n_neighbors=3, weights=\"uniform\")\n",
        "df_imp = df.copy()\n",
        "df_imp[['one_imp', 'two_imp', 'three_imp']]= imputer.fit_transform(df[['one', 'two', 'three']])\n",
        "df_imp"
      ],
      "execution_count": null,
      "outputs": []
    },
    {
      "cell_type": "code",
      "metadata": {
        "id": "FFZ6uW8mx6UV"
      },
      "source": [
        "# a veces la BD tiene codificado los valores faltantes\n",
        "df = generate_missing_data(cod=True)\n",
        "df"
      ],
      "execution_count": null,
      "outputs": []
    },
    {
      "cell_type": "code",
      "metadata": {
        "id": "hwNdMTXFyo-2"
      },
      "source": [
        "# recomendo transformar a valor faltante y aplicar\n",
        "# tecnicas vistas\n",
        "df.where(df!=400)"
      ],
      "execution_count": null,
      "outputs": []
    },
    {
      "cell_type": "markdown",
      "metadata": {
        "id": "fkXH1W_ADMWB"
      },
      "source": [
        "## Otras transformaciones basicas\n",
        "\n",
        "Resalatar en nuestro laboratorio hemos ya realizado transformaciones que debemos tener en cuenta:\n",
        "\n",
        "1. Normalización/Estandarización: remover la media y asegurar desviación estandar 1. (`StandardScaler()`)\n",
        "2. Normalización asegurando un rango minimo y maximo (min-max) (`MinMaxScaler`)\n",
        "3. Generación de polinomios para lograr problemas linealmente separables (`PolynomialFeatures`)\n",
        "\n",
        "Extras:\n",
        "1. Binarización de datos: convertir variables continuas en variables categóricas https://scikit-learn.org/stable/modules/generated/sklearn.preprocessing.KBinsDiscretizer.html#sklearn.preprocessing.KBinsDiscretizer\n",
        "2. Cuando los datos son texto (por ejemplo en procesamiento de lenguaje natural, hay transformaciones exclusivas). \n"
      ]
    },
    {
      "cell_type": "markdown",
      "metadata": {
        "id": "nbCmyFBwDE_J"
      },
      "source": [
        "## Rerencias y enlaces de interes\n",
        "\n",
        "https://jakevdp.github.io/PythonDataScienceHandbook/05.04-feature-engineering.html\n",
        "\n",
        "https://pandas.pydata.org/pandas-docs/stable/user_guide/missing_data.html\n",
        "\n",
        "https://scikit-learn.org/stable/modules/classes.html#module-sklearn.preprocessing\n",
        "\n",
        "https://scikit-learn.org/stable/modules/impute.html"
      ]
    }
  ]
}