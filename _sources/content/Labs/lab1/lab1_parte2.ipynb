{
 "cells": [
  {
   "cell_type": "markdown",
   "metadata": {
    "colab_type": "text",
    "id": "DyhyA0EkYySm"
   },
   "source": [
    "<a href=\"https://colab.research.google.com/github/jdariasl/ML_2020/blob/master/Labs/lab1/lab1_parte2.ipynb\" target=\"_parent\"><img src=\"https://colab.research.google.com/assets/colab-badge.svg\" alt=\"Open In Colab\"/></a>\n",
    "\n",
    "**Recuerda que una vez abierto, Da clic en \"Copiar en Drive\", de lo contrario no podras alamancenar tu progreso**\n",
    "\n",
    "Nota: no olvide ir ejecutando las celdas de código de arriba hacia abajo para que no tenga errores de importación de librerías o por falta de definición de variables.\n"
   ]
  },
  {
   "cell_type": "code",
   "execution_count": null,
   "metadata": {
    "colab": {},
    "colab_type": "code",
    "id": "fYhyYxyrYySm",
    "tags": []
   },
   "outputs": [],
   "source": [
    "#configuración del laboratorio\n",
    "# Ejecuta esta celda!\n",
    "%load_ext autoreload\n",
    "%autoreload 2\n",
    "!wget https://raw.githubusercontent.com/jdariasl/ML_2020/master/Labs/commons/utils/general.py -O general.py\n",
    "from general import configure_lab1_p2\n",
    "configure_lab1_p2()\n",
    "from lab1 import *\n",
    "GRADER, x, y = part_2()"
   ]
  },
  {
   "cell_type": "markdown",
   "metadata": {
    "colab_type": "text",
    "id": "X0kgAjuBYySp"
   },
   "source": [
    "## Laboratorio 1 - Parte 2\n",
    "\n",
    "**Regresión logística**\n",
    "\n"
   ]
  },
  {
   "cell_type": "markdown",
   "metadata": {
    "colab_type": "text",
    "id": "e0gwFeCnYySq"
   },
   "source": [
    "## Ejercicio 1: Contextualización del problema\n",
    "\n",
    "En esta sesión de laboratorio, vamos a resolver un problema de clasificación. Los variables que vamos a usar ya se encuentran cargadas:\n",
    "\n"
   ]
  },
  {
   "cell_type": "code",
   "execution_count": null,
   "metadata": {
    "colab": {},
    "colab_type": "code",
    "id": "A-jBTrc4YySq",
    "tags": []
   },
   "outputs": [],
   "source": [
    "# tienes ya cargadas las siguientes variables:\n",
    "print(\"conjunto de datos, muestra \\n\",x[range(10), :] )\n",
    "print(\"\")\n",
    "print(\" muestra de etiquetas a predecir \\n\", y[range(10)])"
   ]
  },
  {
   "cell_type": "code",
   "execution_count": 38,
   "metadata": {
    "colab": {},
    "colab_type": "code",
    "id": "5lvqd4i0YySs"
   },
   "outputs": [],
   "source": [
    "#Ejercicio de Codigo\n",
    "def clases_muestras_carac(X, Y):\n",
    "    \"\"\"Esta funcion es encargada retornar el numero clases, muestras \n",
    "        y caracteristicas del conjunto de datos X y Y\n",
    "\n",
    "        X: matriz numpy con el conjunto de datos para entrenamiento\n",
    "        Y: matriz numpy con el conjunto de etiquetas\n",
    "        retorna:\n",
    "            numero de clases (int/float)\n",
    "            numero de muestras (int/float)\n",
    "            numero de caracteristicas (int/float)\n",
    "    \"\"\"\n",
    "    ##Pista: es de utilidad el metodo np.unique ?\n",
    "    N,nf =\n",
    "    clases = \n",
    "    \n",
    "    return (N,nf,clases)"
   ]
  },
  {
   "cell_type": "code",
   "execution_count": null,
   "metadata": {
    "colab": {},
    "colab_type": "code",
    "id": "jBS6kWmkYySu",
    "tags": []
   },
   "outputs": [],
   "source": [
    "## la funcion que prueba tu implementacion\n",
    "GRADER.run_test(\"ejercicio1\", clases_muestras_carac)"
   ]
  },
  {
   "cell_type": "markdown",
   "metadata": {
    "colab_type": "text",
    "id": "I8zabv6IYySw"
   },
   "source": [
    "En los problemas de clasificación, que lo permiten, es de utilidad visualizar los datos. De esta manera uno puede determinar que modelos o algortimos pueden tener mejor rendimiento. En la siguiente función, debera, graficar los datos usando la función [scatter](https://matplotlib.org/gallery/shapes_and_collections/scatter.html) de matplotlib."
   ]
  },
  {
   "cell_type": "code",
   "execution_count": null,
   "metadata": {
    "colab": {},
    "colab_type": "code",
    "id": "xjiRibSVYySw"
   },
   "outputs": [],
   "source": [
    "#Ejercicio de Codigo\n",
    "def scatter_plot(X, Y):\n",
    "    \"\"\"Esta funcion es encargada de graficar usando un scatter plot\n",
    "       un problema de clasificacion.\n",
    "\n",
    "        X: matriz numpy con el conjunto de datos para entrenamiento.\n",
    "           esta debera ser usada para los ejes del grafico. puede asumir\n",
    "           que solo va tener dos columnas\n",
    "        Y: matriz numpy con el conjunto de etiquetas. Debera se usada\n",
    "           para mostrar en diferentes colores, las etiquetas de cada una\n",
    "           de las muestras\n",
    "        retorna:\n",
    "            grafica matplotlib\n",
    "    \"\"\"\n",
    "    ## puedes accerder con plt al funcion adecuacada\n",
    "    ## Pista: recuerda como indexar matrices\n",
    "    ## Pista: recuerda el uso de np.ravel\n",
    "\n",
    "    # para mostrar el grafico\n",
    "    figure = plt.gcf()\n",
    "    plt.show()\n",
    "   \n",
    "    return (figure)"
   ]
  },
  {
   "cell_type": "code",
   "execution_count": null,
   "metadata": {
    "colab": {},
    "colab_type": "code",
    "id": "5fdDHIH0YyS0",
    "tags": []
   },
   "outputs": [],
   "source": [
    "## la funcion que prueba tu implementacion\n",
    "# ignora los graficos que se muestran \n",
    "GRADER.run_test(\"ejercicio2\", scatter_plot)"
   ]
  },
  {
   "cell_type": "code",
   "execution_count": null,
   "metadata": {
    "cellView": "form",
    "colab": {},
    "colab_type": "code",
    "id": "sq2e7UwwYyS2"
   },
   "outputs": [],
   "source": [
    "#@title Pregunta Abierta\n",
    "#@markdown  ¿El problema es linealmente separable? justifique su respuesta \n",
    "respuesta_1 = \"\" #@param {type:\"string\"}"
   ]
  },
  {
   "cell_type": "markdown",
   "metadata": {
    "colab_type": "text",
    "id": "UYCpYnI0YyS4"
   },
   "source": [
    "## Ejercicio 2: entrenamiento\n",
    "\n",
    "En este laboratorio se va a realizar un procedimiento análogo al laboratorio anterior, pero con el modelo de *regresión logística* que sirve para resolver problemas de clasificación (en principio biclase).\n",
    "\n",
    "Analice los siguientes métodos a la luz de la teoría vista para el modelo de regresión logística: \n",
    "\n",
    "1. función de activación (<font color='blue'>sigmoidal</font>),\n",
    "2.  modelo de regresión logística (<font color='blue'>logistic_regression</font>), \n",
    "3. potencia del polinomio \n",
    "4.  el cálculo del error en clasificación (<font color='blue'>error_logistic</font>)\n",
    "5. el gradiente descendente. \n",
    "\n",
    "Luego de recordar estos conceptos. Complete la función sigmoidal:"
   ]
  },
  {
   "cell_type": "code",
   "execution_count": null,
   "metadata": {
    "colab": {},
    "colab_type": "code",
    "id": "WAQAglStYyS4"
   },
   "outputs": [],
   "source": [
    "#Ejercicio de Código\n",
    "def sigmoidal(z):\n",
    "    \"\"\"Función de activación Sigmoidal\n",
    "\n",
    "    z: es la varible a la que se le va aplicar el sigmoide.\n",
    "       es un array numpy de uan sola dimension\n",
    "    retorna: el valor del sigmiode\n",
    "\n",
    "    \"\"\"\n",
    "    #Complete la siguiente línea con el código para calcular la salida de la función sigmoidal\n",
    "    s = \n",
    "    \n",
    "    return s"
   ]
  },
  {
   "cell_type": "code",
   "execution_count": null,
   "metadata": {
    "colab": {},
    "colab_type": "code",
    "id": "hiui_rfgYyS6",
    "tags": []
   },
   "outputs": [],
   "source": [
    "## la funcion que prueba tu implementacion\n",
    "GRADER.run_test(\"ejercicio3\", sigmoidal)"
   ]
  },
  {
   "cell_type": "markdown",
   "metadata": {
    "colab_type": "text",
    "id": "6t8dJoLfYyS7"
   },
   "source": [
    "El la siguiente celda se sugiere la implementación, de los siguientes conceptos:\n",
    "\n",
    "1. modelo de regresión logística (<font color='blue'>logistic_regression</font>), \n",
    "2. potencia del polinomio \n",
    "3.  el cálculo del error en clasificación (<font color='blue'>error_logistic</font>)\n",
    "\n",
    "comprenda que hacen estas funciones y ejecute la celda para cargar las funciones, para porder usarlas"
   ]
  },
  {
   "cell_type": "code",
   "execution_count": null,
   "metadata": {
    "colab": {},
    "colab_type": "code",
    "id": "u-yCVeVQYyS8"
   },
   "outputs": [],
   "source": [
    "def logistic_regression(X, W):\n",
    "    \"\"\"calcula la regresión logistica\n",
    "    X: los valores que corresponden a las caractersiticas\n",
    "    W: son los pesos usadados para realizar la regresión\n",
    "    retorna: valor estimado por la regresion\n",
    "    \"\"\"\n",
    "    #Con np.dot se realiza el producto matricial. Aquí X (extendida) tiene dim [Nxd] y W es dim [dx1]\n",
    "    Yest = np.dot(X,W)\n",
    "    Y_lest = sigmoidal(Yest)\n",
    "    #Se asignan los valores a 1 o 0 según el modelo de regresión logística definido\n",
    "    pos = 0\n",
    "    for tag in Y_lest:\n",
    "        \n",
    "        if tag > 0.5:\n",
    "            Y_lest[pos] = 1\n",
    "        elif tag < 0.5:\n",
    "            Y_lest[pos] = 0\n",
    "        \n",
    "        pos += 1\n",
    "    \n",
    "    return Y_lest    #Y estimado: Esta variable contiene ya tiene la salida de sigm(f(X,W))\n",
    "\n",
    "def potenciaPolinomio(X,grado):\n",
    "    \"\"\"calcula la potencia del polinomio\n",
    "    X: los valores que corresponden a las caractersiticas\n",
    "    grado: esl grado para realizar la potencia al polinomio\n",
    "    retorna: el valor de X despues elevarlo al grado del polinimoo indicado\n",
    "    \"\"\"\n",
    "    X2 = X.copy()\n",
    "    \n",
    "    if grado != 1:\n",
    "        for i in range(2,grado+1):\n",
    "            Xadd = X**i\n",
    "            X2 = np.concatenate((X2, Xadd), axis=1)\n",
    "    \n",
    "    return X2\n",
    "\n",
    "def error_logistic(Y_lest, Y):\n",
    "    \"\"\"calculo del error logistico\n",
    "       Si es diferente el Y_estimado con el Y_real cuenta como un error\n",
    "       Y_lest: numpy array con los valores de etiquetas estimadas\n",
    "       Y:  numpy array  valor con los valores reales de las etiquetas\n",
    "       retorna: error de clasificación -- numpy array\n",
    "    \"\"\"\n",
    "    error = 0\n",
    "    for ye, y in zip(Y_lest, Y):\n",
    "        if ye != y:\n",
    "            error += 1\n",
    "    \n",
    "    error = error/np.size(Y)\n",
    "\n",
    "    return error"
   ]
  },
  {
   "cell_type": "markdown",
   "metadata": {
    "colab_type": "text",
    "id": "nuFVmGRoYyS-"
   },
   "source": [
    "De igual manera, debemos extender nuestro conjunto de datos. Comprende que hace  la siguiente celda de código y ejecutala. **Muy importante ejecutar SOLA UNA vez.**"
   ]
  },
  {
   "cell_type": "code",
   "execution_count": null,
   "metadata": {
    "colab": {},
    "colab_type": "code",
    "id": "qGIrWUZoYyS-"
   },
   "outputs": [],
   "source": [
    "#Aca llamamos la funcion creada anteriormente\n",
    "# para obtener el numero muestras y caractersiticas\n",
    "muestras,caracterisitcas,num_clases = clases_muestras_carac(x, y)\n",
    "#Extendemos la matriz de X para el parámetro independiente\n",
    "unos = np.array([np.ones(muestras)])\n",
    "x = np.concatenate((unos.T, x), axis=1)\n",
    "x = x.reshape(muestras, caracterisitcas+1)\n",
    "y = y.reshape(np.size(y), 1)"
   ]
  },
  {
   "cell_type": "markdown",
   "metadata": {
    "colab_type": "text",
    "id": "P6rbFHQxYyS_"
   },
   "source": [
    "recordando lo aprendido anteriormente, dividimos nuestro cojunto de datos y normalizamos."
   ]
  },
  {
   "cell_type": "code",
   "execution_count": null,
   "metadata": {
    "colab": {},
    "colab_type": "code",
    "id": "8F2NBNVwYyTA"
   },
   "outputs": [],
   "source": [
    "#Dejamos algunas muestras para el proceso de entrenamiento y otras para evaluar qué tan bueno fue el aprendizaje del modelo\n",
    "random.seed(1)\n",
    "N = muestras\n",
    "ind=np.random.permutation(N)\n",
    "Xtrain = x[ind[0:int(math.ceil(0.7*N))],:]\n",
    "Xtest = x[ind[int(math.ceil(0.7*N)):N],:]\n",
    "Ytrain = y[ind[0:int(math.ceil(0.7*N))]]\n",
    "Ytest = y[ind[int(math.ceil(0.7*N)):N]]\n",
    "# normalizamos\n",
    "Xtrain, Xtest = normalizar(Xtrain, Xtest)"
   ]
  },
  {
   "cell_type": "markdown",
   "metadata": {
    "colab_type": "text",
    "id": "NX9X-ocwYyTC"
   },
   "source": [
    "Ahora vamos a completar el código de la regla de actualización de los parámetros del algoritmo de <font color='blue'>gradiente_descedente</font>: \n",
    "\n",
    "\n",
    "$$w_j(iter) = w_j(iter-1) - \\eta \\frac{\\partial E(w)}{\\partial w_j}$$ \n",
    "\n",
    "recordar que \n",
    "\n",
    "$$ \\frac{\\partial E(w)}{\\partial w_j} = \\frac{\\partial E({\\bf{w}})}{\\partial w_j} = \\frac{1}{N}\\sum_{i=1}^{N}\\left( f({\\bf{x}}_i,{\\bf{w}}) - y_i\\right) \\frac{\\partial }{\\partial w_j} f({\\bf{x}}_i, {\\bf{w}})$$\n",
    "\n",
    "Recuerda que debe usar las funciones ya implementadas y no usar **ninguna otra libreria**, adicional a las librerias ya pre-cargadas como numpy.\n",
    "\n",
    "Adicionalmente, dentro de nuestra función, **vamos incluir una transformación polinómica**.\n",
    "\n",
    "\n",
    "Nota: Para el problema de clasificación tenga presente que si ya implementó la regla de actualización de parámetros para el modelo de regresión polinomial múltiple, este punto es trivial, puesto que sólo tiene que incluir la función sigmoidal tal como lo vimos en la teoría."
   ]
  },
  {
   "cell_type": "code",
   "execution_count": null,
   "metadata": {
    "colab": {},
    "colab_type": "code",
    "id": "zLtR3kdKYyTC"
   },
   "outputs": [],
   "source": [
    "#ejercicio de codigo\n",
    "def gradiente_descendente_logistic_poly(X,Y,grado,eta, iteraciones):\n",
    "    \"\"\"Gradiente descendente para regresión lineal múltiple\n",
    "    X: Matriz de datos extendida\n",
    "    Y: vector con los valores a predecir\n",
    "    W: Vector de parámetros del modelo\n",
    "    eta: Taza de aprendizaje\n",
    "    grado: grado para usar en la transformacion polinomica\n",
    "    iteraciones: numero de iteraciones maxima\n",
    "\n",
    "    retorna: W el valor de de los parametros de regresión polinomica\n",
    "    \"\"\"\n",
    "    X2 = potenciaPolinomio(X,grado)\n",
    "    #Tomamos el número de variables del problema leugo de la transformacion\n",
    "    d = np.size(X2,1)\n",
    "    #Tomamos el número de muestras de la base de datos\n",
    "    N = np.size(X2,0)   \n",
    "    #Inicializamos el vector de parámetros\n",
    "    W = np.zeros(d)\n",
    "    W = W.reshape(np.size(W),1)\n",
    "   \n",
    "   \n",
    "    for iter in range(iteraciones):\n",
    "       \n",
    "        #Aquí debe completar el código con la regla de actualización de los parámetros W para regresión\n",
    "        #logística. Tenga en cuenta los nombres de las variables ya creadas: W, X, Y\n",
    "        Y_estimado = logistic_regression(X2,W)\n",
    "\n",
    "        W = \n",
    "\n",
    "\n",
    "    #Error en clasificación  \n",
    "    Y_estimado = logistic_regression(X2,W)\n",
    "    error_clasificacion = error_logistic(Y_estimado,Y)\n",
    "    print(\"error despues de finalizar la iteraciones\", error_clasificacion)\n",
    "    return W"
   ]
  },
  {
   "cell_type": "code",
   "execution_count": null,
   "metadata": {
    "colab": {},
    "colab_type": "code",
    "id": "lhrk1KyYYyTE",
    "tags": []
   },
   "outputs": [],
   "source": [
    "## la funcion que prueba tu implementacion\n",
    "GRADER.run_test(\"ejercicio4\", gradiente_descendente_logistic_poly)"
   ]
  },
  {
   "cell_type": "markdown",
   "metadata": {
    "colab_type": "text",
    "id": "pjpTN71aYyTF"
   },
   "source": [
    "Finalmente se sugiere la siguiente funcion para evaluar el error del modelo. Entienda su funcionamiento."
   ]
  },
  {
   "cell_type": "code",
   "execution_count": null,
   "metadata": {
    "colab": {},
    "colab_type": "code",
    "id": "DhbCT0H0YyTG"
   },
   "outputs": [],
   "source": [
    "def evaluar_modelo (W, X_to_test, Y_True, grado):\n",
    "    \"\"\" funcion que evalua un modelo de regresión usando el error cuadratico medio\n",
    "\n",
    "    W: es un matriz con los parametros del modelo entrenados\n",
    "    X_to_test: conjunto de datos para usar en el evaluamiento del modelo\n",
    "    Y_True: valores reales para usar en el evaluamiento del modelo\n",
    "    grado: valor del polinomio a usar\n",
    "\n",
    "    retorna: el de clasificación.\n",
    "    \"\"\"\n",
    "    X2 = potenciaPolinomio(X_to_test,grado)\n",
    "    Y_estimado = logistic_regression(X2,W)\n",
    "    error_clasificacion = error_logistic(Y_estimado,Y_True)\n",
    "    return(error_clasificacion)\n"
   ]
  },
  {
   "cell_type": "markdown",
   "metadata": {
    "colab_type": "text",
    "id": "EhaV3W7IYyTH"
   },
   "source": [
    "## Ejercicio 3: Experimentar\n",
    "\n",
    "Con la función implementada vamos a entrenar un modelo y calcular su error de entrenamiento"
   ]
  },
  {
   "cell_type": "code",
   "execution_count": null,
   "metadata": {
    "colab": {},
    "colab_type": "code",
    "id": "7wwIVbTDYyTI",
    "tags": []
   },
   "outputs": [],
   "source": [
    "w = gradiente_descendente_logistic_poly(Xtrain,Ytrain,1,0.0001, 1000)\n",
    "error_test = evaluar_modelo(w, Xtest, Ytest, grado = 1)\n",
    "print(\"error en el conjunto de pruebas\", error_test)"
   ]
  },
  {
   "cell_type": "markdown",
   "metadata": {
    "colab_type": "text",
    "id": "bH00WKqYYyTJ"
   },
   "source": [
    "En nuestro primer experimento vamos a evaluar el rendimiento del modelo usando varias tasas de aprendizaje y grados de polinimios. Vamos a dejar por ahora un numero de iteraciones fijas = 50. Para ello completa la siguiente función."
   ]
  },
  {
   "cell_type": "code",
   "execution_count": null,
   "metadata": {
    "colab": {},
    "colab_type": "code",
    "id": "2L4aHWL4YyTK"
   },
   "outputs": [],
   "source": [
    "## ejercicio de codigo\n",
    "def experimentar (Xtrain, Xtest, Ytrain, Ytest, tasas, grados):\n",
    "    \"\"\" funcion para realizar experimentos.\n",
    "    Xtrain: conjunto de datos\n",
    "    Xtest:\n",
    "    Ytrain:\n",
    "    Ytest:\n",
    "    tasas: Es una lista con los valores númericos de tasas de aprendizaje \n",
    "        para realizar los experimentos\n",
    "    grados: Es una lista con los valores númericos de grados \n",
    "        para realizar los experimentos\n",
    "    retorna: un dataframe con el resultados de los experimentos\n",
    "    \"\"\"\n",
    "    numero_iter = 50\n",
    "\n",
    "    resultados = pd.DataFrame()\n",
    "    idx = 0 # indice\n",
    "    for eta in tasas:\n",
    "        for grado in grados:\n",
    "            W = \n",
    "            error_entrenamiento = \n",
    "            error_prueba = \n",
    "            resultados.loc[idx,'grado'] = grado\n",
    "            resultados.loc[idx,'tasa de aprendizaje'] = eta\n",
    "            resultados.loc[idx,'error_entreamiento'] = error_entrenamiento\n",
    "            resultados.loc[idx,'error_prueba'] = error_prueba\n",
    "            idx = idx+1\n",
    "\n",
    "    return (resultados)"
   ]
  },
  {
   "cell_type": "code",
   "execution_count": null,
   "metadata": {
    "colab": {},
    "colab_type": "code",
    "id": "n4Y2qwvnYyTL",
    "tags": []
   },
   "outputs": [],
   "source": [
    "## la funcion que prueba tu implementacion\n",
    "GRADER.run_test(\"ejercicio5\", experimentar)"
   ]
  },
  {
   "cell_type": "code",
   "execution_count": null,
   "metadata": {
    "colab": {},
    "colab_type": "code",
    "id": "PNZ702IVYyTN",
    "tags": []
   },
   "outputs": [],
   "source": [
    "tasas = [1,0.1,0.001]\n",
    "grados = [1,2,3,4,5]\n",
    "resultados = experimentar (Xtrain, Xtest, Ytrain, Ytest, tasas, grados)"
   ]
  },
  {
   "cell_type": "code",
   "execution_count": null,
   "metadata": {
    "colab": {},
    "colab_type": "code",
    "id": "i0S18dT2YyTO"
   },
   "outputs": [],
   "source": [
    "# para ver los resultados\n",
    "resultados"
   ]
  },
  {
   "cell_type": "code",
   "execution_count": null,
   "metadata": {
    "cellView": "form",
    "colab": {},
    "colab_type": "code",
    "id": "2o0zE_e7YyTS"
   },
   "outputs": [],
   "source": [
    "#@title Pregunta Abierta\n",
    "#@markdown  ¿con base a los resultados anteriores, qué efecto tiene el grado en los errores de entrenamiento y de prueba? justifique\n",
    "respuesta_2 = \"\" #@param {type:\"string\"}"
   ]
  },
  {
   "cell_type": "code",
   "execution_count": null,
   "metadata": {
    "cellView": "form",
    "colab": {},
    "colab_type": "code",
    "id": "Z8waNHm0YyTT"
   },
   "outputs": [],
   "source": [
    "#@title Pregunta Abierta\n",
    "#@markdown  ¿es normal que los errores de entrenamiento y prueba sean diferentes? justifique\n",
    "respuesta_3 = \"\" #@param {type:\"string\"}"
   ]
  },
  {
   "cell_type": "markdown",
   "metadata": {
    "colab_type": "text",
    "id": "sq9B0kEIYyTV"
   },
   "source": [
    "En los problemas de clasificación, es muy importante entender el numero de muestras que el modelo clasifico mal. Esto es necesario observarlo tanto en entrenamiento como en pruebas. Vamos crear una función para esto."
   ]
  },
  {
   "cell_type": "code",
   "execution_count": null,
   "metadata": {
    "colab": {},
    "colab_type": "code",
    "id": "mnhcuVcTYyTV"
   },
   "outputs": [],
   "source": [
    "#ejercicio de codigo\n",
    "def numero_de_errores (W, X, Y, grado):\n",
    "    \"\"\"función que cuenta los errores de un modelo de regresión logistica\n",
    "    W: vector con los parametros de un modelo de regresión logistica\n",
    "       previamente entrenado\n",
    "    X: conjunto de datos a usar (numpy matrix)\n",
    "    Y: conjunto con las etiquetas verdaderas. (numpy array)\n",
    "    grado: grado usado en el modelo de regresión logistica\n",
    "    retorna: numero de errores (int/float) \n",
    "            (es decir el numero de veces que la etiqueta predicha es diferente a la etiqueta real)\n",
    "    \"\"\"\n",
    "    X2 = potenciaPolinomio(X,grado)\n",
    "    Y_estimado = logistic_regression(X2,W)\n",
    "    numero_errores = np.sum(Y_estimado!=Y)\n",
    "\n",
    "    return numero_errores\n"
   ]
  },
  {
   "cell_type": "code",
   "execution_count": null,
   "metadata": {
    "colab": {},
    "colab_type": "code",
    "id": "iYkbflSmYyTX",
    "tags": []
   },
   "outputs": [],
   "source": [
    "## la funcion que prueba tu implementacion\n",
    "GRADER.run_test(\"ejercicio6\", numero_de_errores)"
   ]
  },
  {
   "cell_type": "markdown",
   "metadata": {
    "colab_type": "text",
    "id": "T-bRi6p6YyTY"
   },
   "source": [
    "Ahora, use la función. Entrene nuevamente un modelo con los mejores parametros obtenidos y calcule cuantas muestras quedaron mal clasificadas. Tanto en el conjunto de entrenamiento y de prueba. \n",
    "\n",
    "Si hay parametros empatados, el modelo que tenga menos parametros deberia ser el mejor.\n",
    "\n"
   ]
  },
  {
   "cell_type": "code",
   "execution_count": null,
   "metadata": {
    "colab": {},
    "colab_type": "code",
    "id": "v-LG4-DhYyTY"
   },
   "outputs": [],
   "source": [
    "# puedes usar el siguiente código para ordenar los resultados y ver los 3 primeros\n",
    "# resultados, usa esta salida, para ver cuales fueron los mejores parámetros\n",
    "resultados.sort_values(by = ['error_prueba', 'grado'], ascending = True).head(3)"
   ]
  },
  {
   "cell_type": "code",
   "execution_count": null,
   "metadata": {
    "colab": {},
    "colab_type": "code",
    "id": "q81OIPYJYyTa",
    "tags": []
   },
   "outputs": [],
   "source": [
    " W = gradiente_descendente_logistic_poly(Xtrain,Ytrain,grado =  ,eta = , iteraciones = 50)\n",
    " print(\"estos son los pesos para el modelo entrenando \\n\", W)"
   ]
  },
  {
   "cell_type": "code",
   "execution_count": null,
   "metadata": {
    "colab": {},
    "colab_type": "code",
    "id": "8VpRyLulYyTb",
    "tags": []
   },
   "outputs": [],
   "source": [
    "num_errores_entrenamiento =  numero_de_errores (W, Xtrain, Ytrain, grado = 4)\n",
    "num_errores_prueba =  numero_de_errores (W, Xtest, Ytest, grado = 4)\n",
    "print(\"muestras mal clasificadas en entrenamiento\", num_errores_entrenamiento)\n",
    "print(\"muestras mal clasificadas en pruebas\", num_errores_prueba)"
   ]
  },
  {
   "cell_type": "code",
   "execution_count": null,
   "metadata": {
    "cellView": "form",
    "colab": {},
    "colab_type": "code",
    "id": "ZnGyv4JtYyTd"
   },
   "outputs": [],
   "source": [
    "#@title Pregunta Abierta\n",
    "#@markdown ¿por qué se uso el error de prueba para ordenar la tabla de resultados en lugar del error de entrenamiento?\n",
    "respuesta_4 = \"\" #@param {type:\"string\"}"
   ]
  },
  {
   "cell_type": "code",
   "execution_count": null,
   "metadata": {
    "cellView": "form",
    "colab": {},
    "colab_type": "code",
    "id": "ANlQQocoYyTf"
   },
   "outputs": [],
   "source": [
    "#@title Pregunta Abierta\n",
    "#@markdown Escribe aqui el numero de muestras que quedaron mal clasificadas en el conjunto de entrenamiento y de pruebas. ¿como calificarias el modelo entrenado?\n",
    "respuesta_5 = \"\" #@param {type:\"string\"}"
   ]
  },
  {
   "cell_type": "code",
   "execution_count": null,
   "metadata": {
    "cellView": "form",
    "colab": {},
    "colab_type": "code",
    "id": "2FZeWG54YyTg"
   },
   "outputs": [],
   "source": [
    "#@title Pregunta Abierta\n",
    "#@markdown Escriba el modelo completo con sus variables y coeficientes de f(**x**,**w**) con la mejor frontera de decisión que encontró. usa los valores del último W entrenado. Recuerda tener presente el grado del polinomio\n",
    "respuesta_6 = \"0.0x1 + 1.0x1**2 + 2.0x2 + 3.0x2**3\" #@param {type:\"string\"}"
   ]
  },
  {
   "cell_type": "code",
   "execution_count": null,
   "metadata": {
    "colab": {},
    "colab_type": "code",
    "id": "qdlLAktOYyTh",
    "tags": []
   },
   "outputs": [],
   "source": [
    "GRADER.check_tests()"
   ]
  },
  {
   "cell_type": "code",
   "execution_count": null,
   "metadata": {
    "cellView": "form",
    "colab": {},
    "colab_type": "code",
    "id": "U0DWcBDcYyTj"
   },
   "outputs": [],
   "source": [
    "#@title Integrantes\n",
    "codigo_integrante_1 ='' #@param {type:\"string\"}\n",
    "codigo_integrante_2 = ''  #@param {type:\"string\"}"
   ]
  },
  {
   "cell_type": "markdown",
   "metadata": {
    "colab_type": "text",
    "id": "19FgbUXzYyTl"
   },
   "source": [
    "----\n",
    "esta linea de codigo va fallar, es de uso exclusivo del los profesores\n"
   ]
  },
  {
   "cell_type": "code",
   "execution_count": null,
   "metadata": {
    "colab": {},
    "colab_type": "code",
    "id": "KepG_JTvYyTl"
   },
   "outputs": [],
   "source": [
    "GRADER.grade()"
   ]
  }
 ],
 "metadata": {
  "colab": {
   "name": "lab1_parte2.ipynb",
   "provenance": []
  },
  "kernelspec": {
   "display_name": "Python 3",
   "language": "python",
   "name": "python3"
  },
  "language_info": {
   "codemirror_mode": {
    "name": "ipython",
    "version": 3
   },
   "file_extension": ".py",
   "mimetype": "text/x-python",
   "name": "python",
   "nbconvert_exporter": "python",
   "pygments_lexer": "ipython3",
   "version": "3.7.6"
  }
 },
 "nbformat": 4,
 "nbformat_minor": 1
}
