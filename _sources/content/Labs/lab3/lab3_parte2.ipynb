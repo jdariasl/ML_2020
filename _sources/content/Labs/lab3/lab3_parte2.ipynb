{
  "nbformat": 4,
  "nbformat_minor": 0,
  "metadata": {
    "kernelspec": {
      "display_name": "Python 3",
      "language": "python",
      "name": "python3"
    },
    "language_info": {
      "codemirror_mode": {
        "name": "ipython",
        "version": 3
      },
      "file_extension": ".py",
      "mimetype": "text/x-python",
      "name": "python",
      "nbconvert_exporter": "python",
      "pygments_lexer": "ipython3",
      "version": "3.6.9"
    },
    "colab": {
      "name": "lab3_parte2.ipynb",
      "provenance": [],
      "collapsed_sections": []
    }
  },
  "cells": [
    {
      "cell_type": "markdown",
      "metadata": {
        "id": "HKt8AdJpR0Ly",
        "colab_type": "text"
      },
      "source": [
        "<a href=\"https://colab.research.google.com/github/jdariasl/ML_2020/blob/master/Labs/lab3/lab3_parte2.ipynb\">\n",
        "    <img src=\"https://colab.research.google.com/assets/colab-badge.svg\" alt=\"Open In Colab\"/></a>\n",
        "\n",
        "**Recuerda que una vez abierto, Da clic en \"Copiar en Drive\", de lo contrario no podras almacenar tu progreso**\n",
        "\n",
        "Nota: no olvide ir ejecutando las celdas de código de arriba hacia abajo para que no tenga errores de importación de librerías o por falta de definición de variables."
      ]
    },
    {
      "cell_type": "code",
      "metadata": {
        "id": "-x8cOa8TR0Lz",
        "colab_type": "code",
        "colab": {}
      },
      "source": [
        "#configuración del laboratorio\n",
        "# Ejecuta esta celda!\n",
        "#for local \n",
        "#import sys ; sys.path.append('../commons/utils/')\n",
        "!wget https://raw.githubusercontent.com/jdariasl/ML_2020/master/Labs/commons/utils/general.py -O general.py --no-cache\n",
        "from general import configure_lab3\n",
        "configure_lab3()\n",
        "from lab3 import *\n",
        "GRADER = part_2()"
      ],
      "execution_count": null,
      "outputs": []
    },
    {
      "cell_type": "markdown",
      "metadata": {
        "id": "p-8jBq_KR0L1",
        "colab_type": "text"
      },
      "source": [
        "# Laboratorio 3 - Parte 2"
      ]
    },
    {
      "cell_type": "markdown",
      "metadata": {
        "id": "RkbHQloLR0L2",
        "colab_type": "text"
      },
      "source": [
        "A continuación se leen los datos de un problema de clasificación. El problema corresponde a la clasifiación de dígitos escritos a mano, el cual fue abordado en el laboratorio anterior. Usaremos únicamente 4 de las 10 clases disponibles. Los datos fueron preprocesados para reducir el número de características. La técnica usada será analizada más adelante en el curso."
      ]
    },
    {
      "cell_type": "code",
      "metadata": {
        "id": "Hwo-dBVfR0L2",
        "colab_type": "code",
        "colab": {}
      },
      "source": [
        "digits = load_digits(n_class=5)\n",
        "#--------- preprocesamiento--------------------\n",
        "pca = PCA(0.99, whiten=True)\n",
        "data = pca.fit_transform(digits.data)\n",
        "#---------- Datos a usar ----------------------\n",
        "x = data\n",
        "y = digits.target"
      ],
      "execution_count": null,
      "outputs": []
    },
    {
      "cell_type": "markdown",
      "metadata": {
        "id": "tGgD-28CR0L4",
        "colab_type": "text"
      },
      "source": [
        "## Ejercicio 1 Experimentos con Arboles de decisión"
      ]
    },
    {
      "cell_type": "markdown",
      "metadata": {
        "id": "YXpaZfqCR0L4",
        "colab_type": "text"
      },
      "source": [
        "Debe consultar todo lo relacionado con la creación, entrenamiento y uso en predicción de este modelo usando la librería scikit-learn. Consultar aquí: http://scikit-learn.org/stable/modules/generated/sklearn.tree.DecisionTreeClassifier.html.\n",
        "\n",
        "En el notebook, ya se encuentra cargada la libreria:\n",
        "\n",
        "```python\n",
        "from sklearn.tree import DecisionTreeClassifier\n",
        "```\n"
      ]
    },
    {
      "cell_type": "code",
      "metadata": {
        "id": "6HczNlx5R0L5",
        "colab_type": "code",
        "cellView": "form",
        "colab": {}
      },
      "source": [
        "#@title Pregunta Abierta\n",
        "#@markdown  ¿Cuáles criterios para detener el crecimiento del árbol o de los nodos están disponibles en la librería?\n",
        "respuesta_1 = \"\" #@param {type:\"string\"}"
      ],
      "execution_count": null,
      "outputs": []
    },
    {
      "cell_type": "code",
      "metadata": {
        "id": "_TuOF2vXR0L6",
        "colab_type": "code",
        "cellView": "form",
        "colab": {}
      },
      "source": [
        "#@title Pregunta Abierta\n",
        "#@markdown  ¿Cuáles son los parámetros asociados con los criterios enumerados en el punto anterior?\n",
        "respuesta_2 = \"\" #@param {type:\"string\"}"
      ],
      "execution_count": null,
      "outputs": []
    },
    {
      "cell_type": "markdown",
      "metadata": {
        "id": "KIw79WykR0L8",
        "colab_type": "text"
      },
      "source": [
        "En la siguiente celda se define una simulación para entrenar y validar un modelo usando los datos previamente cargados. Complete el código para usar como modelo de predicción un arbol de decisión.\n",
        "\n",
        "\n",
        "<b>Note</b> que existe una clase para modelos de clasificación y otra para modelos de regresión:\n",
        "http://scikit-learn.org/stable/modules/generated/sklearn.tree.DecisionTreeRegressor.html\n",
        "\n",
        "Vamos a tener en cuenta lo siguiente:\n",
        "1. dentro del código, ya se encuentra sugerida la metodologia de validación\n",
        "2. la función va aceptar un parametro booleano, dependiendo del valor de esta parametro, se ejecutara normalización de los datos.\n",
        "3. **hacer uso explicito del nombre del parametro que se va usar**, por ejemplo, si se requeire asignar el parametro `criterion`  debemos llamar la libreria de esta manera: `DecisionTreeClassifier(criterion = 'gini')`"
      ]
    },
    {
      "cell_type": "code",
      "metadata": {
        "id": "3lD0jyrER0L8",
        "colab_type": "code",
        "colab": {}
      },
      "source": [
        "#ejercicio de código\n",
        "def experimentar_dt(depths,normalize, X, Y):\n",
        "    \"\"\"funcion que realiza experimentos de arboles de decision\n",
        "    depths: list[int] lista con la profundidad de arboles a experimentar\n",
        "    normalize bool: indica si se aplica normalización a los datos\n",
        "    X: matriz con las caractersiticas\n",
        "    Y: matriz de numpy con etiquetas\n",
        "    retorna: dataframe con:\n",
        "        - profunidad de los arboles\n",
        "        - eficiencia de entrenamiento\n",
        "        - desviacion de estandar eficiencia de entrenamiento\n",
        "        - eficiencia de prueba\n",
        "        - desviacion estandar eficiencia de prueba\n",
        "    \"\"\"\n",
        "    folds = 4\n",
        "    skf = StratifiedKFold(n_splits=folds)\n",
        "    resultados = pd.DataFrame()\n",
        "    idx = 0\n",
        "    for depth in depths:\n",
        "        ## para almacenar los errores intermedios\n",
        "        EficienciaTrain = []\n",
        "        EficienciaVal = []\n",
        "        for train, test in skf.split(X, Y):\n",
        "            Xtrain = X[train,:]\n",
        "            Ytrain = Y[train]\n",
        "            Xtest = X[test,:]\n",
        "            Ytest = Y[test]\n",
        "            #Normalizamos los datos\n",
        "            # si la bandera esta en True\n",
        "            if normalize:\n",
        "                scaler = StandardScaler()\n",
        "                scaler.fit(Xtrain)\n",
        "                Xtrain= scaler.transform(Xtrain)\n",
        "                Xtest = scaler.transform(Xtest)\n",
        "            #Haga el llamado a la función para crear y entrenar el modelo usando los datos de entrenamiento\n",
        "            modelo = \n",
        "            modelo\n",
        "            #predecir muestras de entrenamiento\n",
        "            Ytrain_pred = modelo\n",
        "            #predecir muestras de pruebas\n",
        "            Yest = modelo\n",
        "            #Evaluamos las predicciones del modelo con los datos de test\n",
        "            EficienciaTrain.append(np.mean(Ytrain_pred.ravel() == Ytrain.ravel()))\n",
        "            EficienciaVal.append(np.mean(Yest.ravel() == Ytest.ravel()))\n",
        "\n",
        "        resultados.loc[idx,'profunidad del arbol'] = depth\n",
        "        resultados.loc[idx,'eficiencia de entrenamiento'] = \n",
        "        resultados.loc[idx,'desviacion estandar entrenamiento'] = \n",
        "        resultados.loc[idx,'eficiencia de prueba'] =\n",
        "        resultados.loc[idx,'desviacion estandar prueba'] = \n",
        "        idx= idx +1\n",
        "        \n",
        "    return (resultados)"
      ],
      "execution_count": null,
      "outputs": []
    },
    {
      "cell_type": "code",
      "metadata": {
        "id": "B_G3OTVfR0L-",
        "colab_type": "code",
        "colab": {}
      },
      "source": [
        "## la funcion que prueba tu implementacion\n",
        "GRADER.run_test(\"ejercicio1\", experimentar_dt)"
      ],
      "execution_count": null,
      "outputs": []
    },
    {
      "cell_type": "code",
      "metadata": {
        "id": "Jf0Fe0uPR0MA",
        "colab_type": "code",
        "colab": {}
      },
      "source": [
        "# Realiza los experimentos sin normalizacion\n",
        "resultados_dt_no_norm = experimentar_dt([5,10,20,30,50], False, x, y)\n",
        "resultados_dt_no_norm"
      ],
      "execution_count": null,
      "outputs": []
    },
    {
      "cell_type": "code",
      "metadata": {
        "id": "dlOlgAv6R0MC",
        "colab_type": "code",
        "colab": {}
      },
      "source": [
        "# Realiza los experimentos con normalizacion\n",
        "resultados_dt_norm = experimentar_dt([5,10,20,30,50], True, x, y)\n",
        "resultados_dt_norm"
      ],
      "execution_count": null,
      "outputs": []
    },
    {
      "cell_type": "code",
      "metadata": {
        "id": "KUyxDrwVR0ME",
        "colab_type": "code",
        "cellView": "form",
        "colab": {}
      },
      "source": [
        "#@title Pregunta Abierta\n",
        "#@markdown  ¿Tiene algún efecto la normalización o estándarización de las variables en el desempeño del modelo de árboles de decisión? Justifique.   \n",
        "respuesta_3 = \"\" #@param {type:\"string\"}"
      ],
      "execution_count": null,
      "outputs": []
    },
    {
      "cell_type": "markdown",
      "metadata": {
        "id": "q3sPp3OoR0MF",
        "colab_type": "text"
      },
      "source": [
        "## Ejercicio 2 Experimentos con Random Forest\n",
        "\n",
        "En la siguiente celda se define una simulación para entrenar y validar un modelo usando los datos previamente cargados. Complete el código para usar como modelo de predicción un Random Forest. Debe consultar todo lo relacionado con la creación, entrenamiento y uso en predicción de este modelo usando la librería scikit-learn. Consultar aquí: http://scikit-learn.org/stable/modules/generated/sklearn.ensemble.RandomForestClassifier.html.\n",
        "\n",
        "En el notebook, ya se encuentra cargada la libreria:\n",
        "\n",
        "```python\n",
        "from sklearn.ensemble import RandomForestClassifier\n",
        "\n",
        "```\n",
        "\n",
        "<b>Note</b> que al igual que en el caso anterior, existe una clase para modelos de clasificación y otra para modelos de regresión: http://scikit-learn.org/stable/modules/generated/sklearn.ensemble.RandomForestRegressor.html\n",
        "\n",
        "**Recordar hacer uso explicito del nombre del parametro que se va usar**, por ejemplo, si se requeire asignar el parametro `criterion`  debemos llamar la libreria  de esta manera: `RandomForestClassifier(criterion = 'gini')`"
      ]
    },
    {
      "cell_type": "code",
      "metadata": {
        "id": "TMfYwB1VR0MH",
        "colab_type": "code",
        "colab": {}
      },
      "source": [
        "#ejercicio de código\n",
        "def experimentar_rf(num_trees,numero_de_variables, X, Y):\n",
        "    \"\"\"funcion que realiza experimentos de random forest\n",
        "    num_trees: list[int]: lista con el número de arboles usado para el RF\n",
        "    numero_de_variables list[int]: lista con variables para la selección del mejor umbral en cada nodo \n",
        "    X: matriz con las caractersiticas\n",
        "    Y: matriz de numpy con etiquetas\n",
        "    retorna: dataframe con:\n",
        "        -  numero de arboles usados\n",
        "        -  variables para la selección del mejor umbral\n",
        "        - eficiencia de entrenamiento\n",
        "        - desviacion de estandar eficiencia de entrenamiento\n",
        "        - eficiencia de prueba\n",
        "        - desviacion estandar eficiencia de prueba\n",
        "    \"\"\"\n",
        "    folds = 4\n",
        "    skf = StratifiedKFold(n_splits=folds)\n",
        "    resultados = pd.DataFrame()\n",
        "    idx = 0\n",
        "    for trees in num_trees:\n",
        "        for num_variables in numero_de_variables:\n",
        "            ## para almacenar los errores intermedios\n",
        "            EficienciaTrain = []\n",
        "            EficienciaVal = []\n",
        "            for train, test in skf.split(X, Y):\n",
        "                Xtrain = X[train,:]\n",
        "                Ytrain = Y[train]\n",
        "                Xtest = X[test,:]\n",
        "                Ytest = Y[test]\n",
        "                #Haga el llamado a la función para crear y entrenar el modelo usando los datos de entrenamiento\n",
        "                modelo =\n",
        "                modelo\n",
        "                #predecir muestras de entrenamiento\n",
        "                Ytrain_pred = modelo\n",
        "                #predecir muestras de pruebas\n",
        "                Yest = modelo\n",
        "                #Evaluamos las predicciones del modelo con los datos de test\n",
        "                EficienciaTrain.append(np.mean(Ytrain_pred.ravel() == Ytrain.ravel()))\n",
        "                EficienciaVal.append(np.mean(Yest.ravel() == Ytest.ravel()))\n",
        "\n",
        "            resultados.loc[idx,'número de arboles'] = trees\n",
        "            resultados.loc[idx,'variables para la selección del mejor umbral'] = num_variables\n",
        "            resultados.loc[idx,'eficiencia de entrenamiento'] = \n",
        "            resultados.loc[idx,'desviacion estandar entrenamiento'] =\n",
        "            resultados.loc[idx,'eficiencia de prueba'] =\n",
        "            resultados.loc[idx,'desviacion estandar prueba'] = \n",
        "            idx= idx +1\n",
        "        print(f\"termina para {trees} arboles\")\n",
        "        \n",
        "    return (resultados)"
      ],
      "execution_count": null,
      "outputs": []
    },
    {
      "cell_type": "code",
      "metadata": {
        "id": "9SAYXT3hR0MJ",
        "colab_type": "code",
        "colab": {}
      },
      "source": [
        "## la funcion que prueba tu implementacion\n",
        "GRADER.run_test(\"ejercicio2\", experimentar_rf)"
      ],
      "execution_count": null,
      "outputs": []
    },
    {
      "cell_type": "markdown",
      "metadata": {
        "id": "MS5xALz3R0ML",
        "colab_type": "text"
      },
      "source": [
        "Una vez completado el código realice los experimentos necesarios para llenar la siguiente tabla:"
      ]
    },
    {
      "cell_type": "code",
      "metadata": {
        "id": "blO2GTUtR0ML",
        "colab_type": "code",
        "colab": {}
      },
      "source": [
        "arboles = [5,10,20,50,100, 150]\n",
        "variables_seleccion = [5,20,40]\n",
        "resultados_rf = experimentar_rf(arboles, variables_seleccion, x, y)\n",
        "resultados_rf"
      ],
      "execution_count": null,
      "outputs": []
    },
    {
      "cell_type": "code",
      "metadata": {
        "id": "TmMypaf9R0MN",
        "colab_type": "code",
        "cellView": "form",
        "colab": {}
      },
      "source": [
        "#@title Pregunta Abierta\n",
        "#@markdown ¿qué caractersitica tiene en especial los Random forest entrenados cuando la cantidad de variables para la selección del mejor umbral es igual a 40?  *desde el punto de vista teorico no de los resultados**\n",
        "respuesta_3 = \"\" #@param {type:\"string\"}"
      ],
      "execution_count": null,
      "outputs": []
    },
    {
      "cell_type": "markdown",
      "metadata": {
        "id": "hEACC0WkR0MO",
        "colab_type": "text"
      },
      "source": [
        "Vamos a comparar los resultados del RF y con el DT"
      ]
    },
    {
      "cell_type": "code",
      "metadata": {
        "id": "8-UCgRrVR0MP",
        "colab_type": "code",
        "colab": {}
      },
      "source": [
        "print(\"diferencia promedio entre entrenamiento y prueba del DT\", \n",
        "      resultados_dt_norm['eficiencia de entrenamiento'].mean()-resultados_dt_norm['eficiencia de prueba'].mean())\n",
        "\n",
        "print(\"diferencia promedio entre entrenamiento y prueba del RF\", \n",
        "      resultados_rf['eficiencia de entrenamiento'].mean()-resultados_rf['eficiencia de prueba'].mean())"
      ],
      "execution_count": null,
      "outputs": []
    },
    {
      "cell_type": "code",
      "metadata": {
        "id": "o_Tz9hz6R0MR",
        "colab_type": "code",
        "cellView": "form",
        "colab": {}
      },
      "source": [
        "#@title Pregunta Abierta\n",
        "#@markdown ¿esperaba la diferencia que se observa entre las eficiencias entre entrenamiento y pruebas para el Random forest y el arbol de decisón? justifique \n",
        "respuesta_4 = \"\" #@param {type:\"string\"}"
      ],
      "execution_count": null,
      "outputs": []
    },
    {
      "cell_type": "markdown",
      "metadata": {
        "id": "yBfC_8rDR0MS",
        "colab_type": "text"
      },
      "source": [
        "## Ejercicio 3 Experimentos con Gradient Boosted Trees\n",
        "\n",
        "En la siguiente celda se define una simulación para entrenar y validar un modelo usando los datos previamente cargados. Complete el código para usar como modelo de predicción un Gradient boosted Tree. Debe consultar todo lo relacionado con la creación, entrenamiento y uso en predicción de este modelo usando la librería scikit-learn. Consultar aquí: https://scikit-learn.org/stable/modules/generated/sklearn.ensemble.GradientBoostingClassifier.html\n",
        "\n",
        "En el notebook, ya se encuentra cargada la libreria:\n",
        "\n",
        "```python\n",
        "from sklearn.ensemble import GradientBoostingClassifier\n",
        "\n",
        "```\n",
        "\n",
        "<b>Note</b> que al igual que en el caso anterior, existe una clase para modelos de clasificación y otra para modelos de regresión: https://scikit-learn.org/stable/modules/generated/sklearn.ensemble.GradientBoostingRegressor.html#sklearn.ensemble.GradientBoostingRegressor\n",
        "\n",
        "**Recordar hacer uso explicito del nombre del parametro que se va usar**, por ejemplo, si se requeire asignar el parametro ` loss`  debemos llamar la libreria  de esta manera: `GradientBoostingClassifier(loss = 'deviance')`"
      ]
    },
    {
      "cell_type": "code",
      "metadata": {
        "id": "GfaU0uZPR0MS",
        "colab_type": "code",
        "colab": {}
      },
      "source": [
        "#ejercicio de código\n",
        "def experimentar_gbt(num_trees, X, Y):\n",
        "    \"\"\"funcion que realiza experimentos de arboles de decision\n",
        "    num_trees: list[int] lista con el número de arboles usado para el RF\n",
        "    X: matriz con las caractersiticas\n",
        "    Y: matriz de numpy con etiquetas\n",
        "    retorna: dataframe con:\n",
        "        - numero de arboles usados\n",
        "        - eficiencia de entrenamiento\n",
        "        - desviacion de estandar eficiencia de entrenamiento\n",
        "        - eficiencia de prueba\n",
        "        - desviacion estandar eficiencia de prueba\n",
        "    \"\"\"\n",
        "    folds = 4\n",
        "    skf = StratifiedKFold(n_splits=folds)\n",
        "    resultados = pd.DataFrame()\n",
        "    idx = 0\n",
        "    for trees in num_trees:\n",
        "        ## para almacenar los errores intermedios\n",
        "        EficienciaTrain = []\n",
        "        EficienciaVal = []\n",
        "        for train, test in skf.split(X, Y):\n",
        "            Xtrain = X[train,:]\n",
        "            Ytrain = Y[train]\n",
        "            Xtest = X[test,:]\n",
        "            Ytest = Y[test]\n",
        "            #Haga el llamado a la función para crear y entrenar el modelo usando los datos de entrenamiento\n",
        "            modelo=\n",
        "            modelo\n",
        "            #predecir muestras de entrenamiento\n",
        "            Ytrain_pred =  \n",
        "            #predecir muestras de pruebas\n",
        "            Yest = \n",
        "            #Evaluamos las predicciones del modelo con los datos de test\n",
        "            EficienciaTrain.append(np.mean(Ytrain_pred.ravel() == Ytrain.ravel()))\n",
        "            EficienciaVal.append(np.mean(Yest.ravel() == Ytest.ravel()))\n",
        "\n",
        "        resultados.loc[idx,'número de arboles'] = trees\n",
        "        resultados.loc[idx,'eficiencia de entrenamiento'] = \n",
        "        resultados.loc[idx,'desviacion estandar entrenamiento'] = \n",
        "        resultados.loc[idx,'eficiencia de prueba'] =\n",
        "        resultados.loc[idx,'desviacion estandar prueba'] = \n",
        "        idx= idx +1\n",
        "        \n",
        "    return (resultados)"
      ],
      "execution_count": null,
      "outputs": []
    },
    {
      "cell_type": "code",
      "metadata": {
        "id": "eu56Q8pKR0MU",
        "colab_type": "code",
        "colab": {}
      },
      "source": [
        "## la funcion que prueba tu implementacion\n",
        "GRADER.run_test(\"ejercicio3\", experimentar_gbt)"
      ],
      "execution_count": null,
      "outputs": []
    },
    {
      "cell_type": "code",
      "metadata": {
        "id": "H6vIMbJ7R0MW",
        "colab_type": "code",
        "colab": {}
      },
      "source": [
        "# ejecuta para realizar los experimentos\n",
        "arboles = [5,10,20,50,100, 150]\n",
        "resultados_gbt = experimentar_gbt(arboles, x, y)\n",
        "resultados_gbt"
      ],
      "execution_count": null,
      "outputs": []
    },
    {
      "cell_type": "markdown",
      "metadata": {
        "id": "2E4iUcGwR0MX",
        "colab_type": "text"
      },
      "source": [
        "Vamos a graficar la eficiencia para el RF y el GBT en función del número de arboles."
      ]
    },
    {
      "cell_type": "code",
      "metadata": {
        "id": "jcYqRudTR0MX",
        "colab_type": "code",
        "colab": {}
      },
      "source": [
        "# se crea un df para agrupar los resultados\n",
        "# y graficar las diferencias entre el GBT y el RF\n",
        "rf_res = resultados_rf.groupby(\"número de arboles\")['eficiencia de prueba'].mean().reset_index()\n",
        "rf_res['Tipo'] = 'RF'\n",
        "gbt_res = resultados_gbt.groupby(\"número de arboles\")['eficiencia de prueba'].mean().reset_index()\n",
        "gbt_res['Tipo'] = 'GBT'\n",
        "data_to_plot= pd.concat([rf_res, gbt_res], ignore_index=True)\n",
        "sns.relplot(data=data_to_plot, x= 'número de arboles', y = 'eficiencia de prueba', hue = 'Tipo', kind='line', aspect=1.5,height=3)"
      ],
      "execution_count": null,
      "outputs": []
    },
    {
      "cell_type": "code",
      "metadata": {
        "id": "_ldfyyU9R0MZ",
        "colab_type": "code",
        "cellView": "form",
        "colab": {}
      },
      "source": [
        "#@title Pregunta Abierta\n",
        "#@markdown recordando la diferencia entre el Random Forest y el Gradient boosted Trees ¿porqué el GBT necesita más árboles para llegar a mejores eficiencias?\n",
        "respuesta_5 = \"\" #@param {type:\"string\"}"
      ],
      "execution_count": null,
      "outputs": []
    },
    {
      "cell_type": "markdown",
      "metadata": {
        "id": "yMPFC4H_R0Ma",
        "colab_type": "text"
      },
      "source": [
        "## Ejercicio 4 Tiempo de entrenamiento del RF \n",
        "\n",
        "En nuestro último experimento, vamos a evaluar la influencia de las parametros del RF en el tiempo de entrenamiento. Para ello vamos a crear una función para medir el tiempo de entrenamiento usando la instrucción `time.clock()`.\n",
        "\n",
        "Vamos crear la función, para poder evaluar la influencia de:\n",
        "1. número de arboles\n",
        "2. cantidad de variables a analizar por nodo\n",
        "\n",
        "En el entrenamiento del RF. \n",
        "\n",
        "**Notar**  \n",
        "1. No vamos a dividir el conjunto, ya que el objetivo es evaluar el tiempo de entrenamiento y no la eficiencias del modelo\n",
        "2. No calculamos las prediciones\n",
        "3. **Recordar hacer uso explicito del nombre del parametro que se va usar**, por ejemplo, si se requeire asignar el parametro `criterion`  debemos llamar la libreria  de esta manera: `RandomForestClassifier(criterion = 'gini')`"
      ]
    },
    {
      "cell_type": "code",
      "metadata": {
        "id": "tOdu_n0wR0Ma",
        "colab_type": "code",
        "colab": {}
      },
      "source": [
        "def time_rf_training(X, Y, num_trees, numero_de_variables):\n",
        "    \"\"\"funcion que realiza experimentos, para determinar la influencia\n",
        "    del numero de arboles y de caracteristicas en el tiempo de entrenamiento\n",
        "    del RF\n",
        "    X: conjunto de datos para realizar los experimentos\n",
        "    Y: conjunto de etiquetas de clase\n",
        "    num_trees: List[int] lista con el número de arboles a evaluar\n",
        "    num_variables: List[int] lista con el número variables a evaluar\n",
        "    retorna: dataframe con:\n",
        "    - número de arboles\n",
        "    - variables para la selección del mejor umbral\n",
        "    - tiempo de entrenamiento (promedio)\n",
        "    \"\"\"\n",
        "    resultados = pd.DataFrame()\n",
        "    idx = 0\n",
        "    \n",
        "    for trees in num_trees:\n",
        "        for variables in numero_de_variables:\n",
        "            ## ejecutar 5 veces lo mismo\n",
        "            ## para llegar a un tiempo más adecuado\n",
        "            tiempos = []\n",
        "            for i in range(5):\n",
        "            ## llamar la \n",
        "                start \n",
        "                modelo = \n",
        "                modelo\n",
        "                ## obtener tiempo \n",
        "                end\n",
        "                # append de la resta de fin y end\n",
        "                tiempos.append()\n",
        "            resultados.loc[idx,'número de arboles'] = trees\n",
        "            resultados.loc[idx,'variables para la selección del mejor umbral'] = variables\n",
        "            # obtenga el promedio\n",
        "            resultados.loc[idx,'tiempo de entrenamiento'] = \n",
        "            idx = idx +1\n",
        "    return(resultados)"
      ],
      "execution_count": null,
      "outputs": []
    },
    {
      "cell_type": "code",
      "metadata": {
        "id": "ukJ6i-hCR0Mc",
        "colab_type": "code",
        "colab": {}
      },
      "source": [
        "## la funcion que prueba tu implementacion\n",
        "GRADER.run_test(\"ejercicio4\", time_rf_training)"
      ],
      "execution_count": null,
      "outputs": []
    },
    {
      "cell_type": "markdown",
      "metadata": {
        "id": "WmfXgHHUR0Me",
        "colab_type": "text"
      },
      "source": [
        "Vamos a dejar fijo el número de variables en 20 y variar los árboles en: [5,10,15,25, 50], completa el código para ver la grafica"
      ]
    },
    {
      "cell_type": "code",
      "metadata": {
        "id": "DK2JdQAfR0Me",
        "colab_type": "code",
        "colab": {}
      },
      "source": [
        "resultados_rf_time1 = time_rf_training(x, y, [], [])\n",
        "resultados_rf_time1.plot(x = 'número de arboles', y = 'tiempo de entrenamiento')"
      ],
      "execution_count": null,
      "outputs": []
    },
    {
      "cell_type": "markdown",
      "metadata": {
        "id": "PKqJ85TUR0Mf",
        "colab_type": "text"
      },
      "source": [
        "Y por ultimo Vamos a dejar fijo el número de árboles en 20 y el número de varaibles [5,10,15,20,40], completa el código para ver la grafica"
      ]
    },
    {
      "cell_type": "code",
      "metadata": {
        "id": "0mkj5sbRR0Mg",
        "colab_type": "code",
        "colab": {}
      },
      "source": [
        "resultados_rf_time2 = time_rf_training(x, y, [], [])\n",
        "resultados_rf_time2.plot(x = 'variables para la selección del mejor umbral', y = 'tiempo de entrenamiento')"
      ],
      "execution_count": null,
      "outputs": []
    },
    {
      "cell_type": "code",
      "metadata": {
        "id": "2aJTJ4GVR0Mh",
        "colab_type": "code",
        "cellView": "form",
        "colab": {}
      },
      "source": [
        "#@title Pregunta Abierta\n",
        "#@markdown ¿qué parametro de los evaluados tiene una mayor influencia en los tiempos de entrenamiento? justifique\n",
        "respuesta_5 = \"\" #@param {type:\"string\"}"
      ],
      "execution_count": null,
      "outputs": []
    },
    {
      "cell_type": "code",
      "metadata": {
        "id": "QeIgW9y2R0Mj",
        "colab_type": "code",
        "cellView": "form",
        "colab": {}
      },
      "source": [
        "#@title Integrantes\n",
        "codigo_integrante_1 ='' #@param {type:\"string\"}\n",
        "codigo_integrante_2 = ''  #@param {type:\"string\"}"
      ],
      "execution_count": null,
      "outputs": []
    },
    {
      "cell_type": "markdown",
      "metadata": {
        "id": "pPCnjXUGR0Mk",
        "colab_type": "text"
      },
      "source": [
        "----\n",
        "esta linea de codigo va fallar, es de uso exclusivo de los profesores\n"
      ]
    },
    {
      "cell_type": "code",
      "metadata": {
        "id": "k67-WjqNR0Ml",
        "colab_type": "code",
        "colab": {}
      },
      "source": [
        "GRADER.grade()"
      ],
      "execution_count": null,
      "outputs": []
    }
  ]
}