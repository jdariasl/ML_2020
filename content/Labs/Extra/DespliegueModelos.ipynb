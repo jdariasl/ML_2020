{
  "nbformat": 4,
  "nbformat_minor": 0,
  "metadata": {
    "colab": {
      "name": "Copy of Basic_Preprocessing_FeatureEngineering.ipynb",
      "provenance": [],
      "collapsed_sections": [
        "9xJOLJ1mjTct",
        "o2Kg0mWxjTct",
        "tI4H8BFpjTcu",
        "pthvtkmajTcu",
        "LP_N54eKjTcu",
        "-f_AjkLyjTcu",
        "JbkBgv2ojTcw"
      ],
      "toc_visible": true,
      "include_colab_link": true
    },
    "kernelspec": {
      "name": "python3",
      "display_name": "Python 3",
      "language": "python"
    }
  },
  "cells": [
    {
      "cell_type": "markdown",
      "metadata": {
        "id": "view-in-github",
        "colab_type": "text"
      },
      "source": [
        "<a href=\"https://colab.research.google.com/github/jdariasl/ML_2020/blob/master/Labs/Extra/DespliegueModelos.ipynb\" target=\"_parent\"><img src=\"https://colab.research.google.com/assets/colab-badge.svg\" alt=\"Open In Colab\"/></a>"
      ]
    },
    {
      "cell_type": "markdown",
      "metadata": {
        "id": "D6HVQPMx_6Hc"
      },
      "source": [
        "# Despliegue de modelos\n",
        "\n",
        "## Introducción\n",
        "\n",
        "Recordar los pasos que habíamos visto en los estándares introducidos en [nuestra sesión](Basic_Preprocessing_FeatureEngineering.ipynb):\n",
        "\n",
        "1. Entender problema y el objetivo\n",
        "2. Obtener y Entender los datos (análisis exploratorio-- en algunas prácticas hemos iniciado con estas técnicas)\n",
        "3. Modelar: incluyendo las transformaciones/ limpieza/ ingeniería de características de los datos y el modelo de ML (entrenamiento, validación, experimentos -- lo que hemos estado haciendo en las practicas)\n",
        "4. **Despliegue del Modelo**\n",
        "\n",
        "\n",
        "\n",
        "\n",
        "\n",
        "\n",
        "\n"
      ]
    },
    {
      "cell_type": "markdown",
      "metadata": {
        "id": "9xJOLJ1mjTct"
      },
      "source": [
        "### La Practica de la Ciencia de Datos\n",
        "\n",
        "A la hora de hablar de despliegue de modelos, nos encontramos con una discusión de roles que muchas veces se superponen. Esta superposición Se ve influenciada por diversos factores externos, como el tamaño de la compañía, el equipo y contexto particular.\n",
        "\n",
        "<img src=\"https://raw.githubusercontent.com/jdariasl/ML_2020/master/Labs/Extra/UDEA_DS_ML.jpg\" alt=\"drawing\" width=\"800\"/>\n"
      ]
    },
    {
      "cell_type": "markdown",
      "metadata": {
        "id": "o2Kg0mWxjTct"
      },
      "source": [
        "## Formas de Despliegue\n",
        "\n",
        "En la practica hay varios escenarios para realizar la puesta en marcha de los modelos. Como es usual depende del contexto y necesidades particulares."
      ]
    },
    {
      "cell_type": "markdown",
      "metadata": {
        "id": "tI4H8BFpjTcu"
      },
      "source": [
        "### Batch o por lotes\n",
        "\n",
        "\n",
        "<img src=\"https://raw.githubusercontent.com/jdariasl/ML_2020/master/Labs/Extra/batch.jpg\" alt=\"drawing\" width=\"800\"/>\n",
        "\n",
        "\n",
        "**Ejemplo**\n",
        "\n",
        "Cada Trimestre una compañía de crédito, actualiza la información de sus usuarios, con esa información en la compañía predice la capacidad de pago de sus clientes. Esa predicción es almacenada y es consumida por diferentes aplicaciones y sistemas de la compañía.\n",
        "\n",
        "\n",
        "\n",
        "\n",
        "\n"
      ]
    },
    {
      "cell_type": "markdown",
      "metadata": {
        "id": "pthvtkmajTcu"
      },
      "source": [
        "### Tiempo real usando Feature Lookup\n",
        "\n",
        "<img src=\"https://raw.githubusercontent.com/jdariasl/ML_2020/master/Labs/Extra/feature_lookup.jpg\" alt=\"drawing\" width=\"800\"/>\n",
        "\n",
        "\n",
        "\n",
        "**Ejemplo**\n",
        "\n",
        "Una compañía de pagos creo un modelo de predicción de fraude. \n",
        "El modelo necesita 100 Variables. \n",
        "Las 100 Variables requieren de agregaciones a nivel de usuario y otros factores. \n",
        "\n",
        "En este caso el servicio que consume el modelo de predicción de fraude solo envía unos identificadores clave como el usuario y la tarjeta. \n",
        "\n",
        "El modelo recibe esa información y realizar la consulta a una base de datos de cache para derivar las características. Luego de obtener las características, aplica el modelo y responde con la probabilidad de fraude.\n"
      ]
    },
    {
      "cell_type": "markdown",
      "metadata": {
        "id": "LP_N54eKjTcu"
      },
      "source": [
        "### Tiempo real\n",
        "\n",
        "<img src=\"https://raw.githubusercontent.com/jdariasl/ML_2020/master/Labs/Extra/realtime.jpg\" alt=\"drawing\" width=\"800\"/>\n",
        "\n",
        "\n",
        "\n",
        "**Ejemplo**\n",
        "\n",
        "[Azure Vision](https://azure.microsoft.com/es-es/services/cognitive-services/computer-vision/#features)\n",
        "\n",
        "\n",
        "\n"
      ]
    },
    {
      "cell_type": "markdown",
      "metadata": {
        "id": "-f_AjkLyjTcu"
      },
      "source": [
        "## Entrenamiento del modelo"
      ]
    },
    {
      "cell_type": "code",
      "metadata": {
        "id": "HhKuhH_gjTcu"
      },
      "source": [
        "import numpy as np\n",
        "import pandas as pd\n",
        "from sklearn.datasets import load_iris\n",
        "iris = load_iris()\n",
        "X = iris.data\n",
        "y = iris.target\n",
        "class_names = iris.target_names"
      ],
      "execution_count": null,
      "outputs": []
    },
    {
      "cell_type": "markdown",
      "metadata": {
        "id": "1RUVouodjTcv"
      },
      "source": [
        "\n",
        "Sklearn maneja un concepto par apoder agrupar todos los pasos de procesamiento y entrenamiento del modelo. \n",
        "\n",
        "<img src=\"https://iaml.it/blog/optimizing-sklearn-pipelines/images/pipeline-diagram.png\" alt=\"drawing\" width=\"800\"/>\n",
        "\n",
        "\n",
        "\n",
        "\n",
        "\n",
        "\n"
      ]
    },
    {
      "cell_type": "code",
      "metadata": {
        "id": "ITzfGPVFjTcv"
      },
      "source": [
        "from sklearn.preprocessing import StandardScaler\n",
        "from sklearn.svm import SVC\n",
        "from sklearn.preprocessing import StandardScaler\n",
        "from sklearn.datasets import make_classification\n",
        "from sklearn.model_selection import train_test_split\n",
        "from sklearn.pipeline import Pipeline\n",
        "from sklearn.metrics import plot_confusion_matrix\n",
        "from sklearn.metrics import accuracy_score\n",
        "import matplotlib.pyplot as plt"
      ],
      "execution_count": null,
      "outputs": []
    },
    {
      "cell_type": "code",
      "metadata": {
        "id": "CXwcYwhm522K"
      },
      "source": [
        " X_train, X_test, y_train, y_test = train_test_split(X, y, random_state=0)"
      ],
      "execution_count": null,
      "outputs": []
    },
    {
      "cell_type": "code",
      "metadata": {
        "id": "eDl6lI6P56JL"
      },
      "source": [
        "pipe = Pipeline([('scaler', StandardScaler()), ('svc', SVC())])"
      ],
      "execution_count": null,
      "outputs": []
    },
    {
      "cell_type": "code",
      "metadata": {
        "id": "pibMHr8a5_qL"
      },
      "source": [
        " pipe.fit(X_train, y_train)"
      ],
      "execution_count": null,
      "outputs": []
    },
    {
      "cell_type": "code",
      "metadata": {
        "id": "Xz_99clW6IYq"
      },
      "source": [
        "# probar el modelo en entrenamiento\r\n",
        "accuracy_score(y_train, pipe.predict(X_train))\r\n"
      ],
      "execution_count": null,
      "outputs": []
    },
    {
      "cell_type": "code",
      "metadata": {
        "id": "T_voMDqP6Wqj"
      },
      "source": [
        "plot_confusion_matrix(pipe, X_test, y_test,\r\n",
        "                                 display_labels=class_names,\r\n",
        "                                 cmap=plt.cm.Blues,\r\n",
        "                                 normalize=\"true\")"
      ],
      "execution_count": null,
      "outputs": []
    },
    {
      "cell_type": "code",
      "metadata": {
        "id": "R-eLih_M6hqi"
      },
      "source": [
        "plot_confusion_matrix(pipe, X_test, y_test,\r\n",
        "                                 display_labels=class_names,\r\n",
        "                                 cmap=plt.cm.Blues)"
      ],
      "execution_count": null,
      "outputs": []
    },
    {
      "cell_type": "code",
      "metadata": {
        "id": "eNDZZAiP6TIq"
      },
      "source": [
        "accuracy_score(y_test, pipe.predict(X_test))"
      ],
      "execution_count": null,
      "outputs": []
    },
    {
      "cell_type": "markdown",
      "metadata": {
        "id": "HCJC2JAw7Q7f"
      },
      "source": [
        "Ahora con el modelo entrenado, persistimos el modelo."
      ]
    },
    {
      "cell_type": "code",
      "metadata": {
        "id": "V4gSq7s_7M9G"
      },
      "source": [
        "from joblib import dump, load\r\n",
        "dump(pipe, 'clasificador.joblib') "
      ],
      "execution_count": null,
      "outputs": []
    },
    {
      "cell_type": "markdown",
      "metadata": {
        "id": "s4kV4mJ0Url3"
      },
      "source": [
        "Importante asegurarse de la version de scikit learn\r\n",
        "\r\n",
        "\r\n",
        "```\r\n",
        "!pip show scikit-learn\r\n",
        "```\r\n",
        "\r\n"
      ]
    },
    {
      "cell_type": "markdown",
      "metadata": {
        "id": "DPlU48BOjTcv"
      },
      "source": [
        "## Re-factorización\r\n",
        "\r\n",
        "Con el modelo ya guardado procedemos a refactorizar el proceso para poder usarlo en un servicio web. Primero probamos que podemos cargar de manera correcta el modelo y usarlo nuevamente si necesidad de entrenarlo"
      ]
    },
    {
      "cell_type": "code",
      "metadata": {
        "id": "7OKuJ2VLjTcv"
      },
      "source": [
        "clf = load('clasificador.joblib')\r\n",
        "accuracy_score(y_test, clf.predict(X_test))"
      ],
      "execution_count": null,
      "outputs": []
    },
    {
      "cell_type": "markdown",
      "metadata": {
        "id": "cy4P1tcl7xjA"
      },
      "source": [
        "Para crear el servicio web, las librerias más usadas son las siguientes:\r\n",
        "\r\n",
        "1.  [Flask](https://flask.palletsprojects.com/en/1.1.x/)\r\n",
        "2.  [FastAPI](https://fastapi.tiangolo.com/)\r\n",
        "\r\n",
        "En este sesión vamos a ver como usar Flask conjunto a otras herramientas que tienen un poco mas de profundidad.\r\n",
        "\r\n",
        "1. https://www.heroku.com/ : plataforma usada para publicar servicios web.\r\n",
        "2. https://git-scm.com/downloads : para gestionar el versionamiento\r\n",
        "3. https://gunicorn.org/ : Servidor HTTP\r\n",
        "\r\n",
        "¡Comencemos!\r\n",
        "\r\n"
      ]
    },
    {
      "cell_type": "markdown",
      "metadata": {
        "id": "TT3445wzBUAC"
      },
      "source": [
        "1. Crear un cuenta en heroku: https://www.heroku.com/. Es gratis, requiere un correo. Se recibe un correo en donde se debe confirmar la cuenta y crear la contraseña."
      ]
    },
    {
      "cell_type": "markdown",
      "metadata": {
        "id": "daRRKnoMCNey"
      },
      "source": [
        "2. Instalar Heroku Cli : https://devcenter.heroku.com/articles/heroku-cli#download-and-install\r\n",
        "\r\n",
        "3. Instalar Git: https://git-scm.com/downloads"
      ]
    },
    {
      "cell_type": "markdown",
      "metadata": {
        "id": "t_X0_x0nCiPD"
      },
      "source": [
        "3.  Hacer login con heroku\r\n",
        "\r\n",
        "\r\n",
        "```\r\n",
        "heroku login -i\r\n",
        "```\r\n",
        "\r\n"
      ]
    },
    {
      "cell_type": "markdown",
      "metadata": {
        "id": "Plbf7AQJESTX"
      },
      "source": [
        "4. Crear una aplicación en Heroku: https://dashboard.heroku.com/apps"
      ]
    },
    {
      "cell_type": "markdown",
      "metadata": {
        "id": "mgXiHA8HEz9f"
      },
      "source": [
        "5. Crear la estructura de archivos como se muestra en esta carpeta del repositorio https://github.com/jdariasl/ML_2020/tree/master/Labs/Extra/despliegue_modelos\r\n",
        "\r\n",
        "Vamos entender el contenido de estos archivos:\r\n",
        "*   Templates: carpeta con los archivos HTML base para la aplicación\r\n",
        "*   Procfile: Archivo para la configuración de Gunicorn\r\n",
        "*   app.py: script con el codigo refactorizado para usar el modelo entrenado para realizar predicciones\r\n",
        "*   requirements.txt: archivo especificando las dependencias\r\n",
        "\r\n",
        "\r\n",
        "\r\n",
        "\r\n",
        "\r\n",
        "\r\n",
        "\r\n",
        "\r\n"
      ]
    },
    {
      "cell_type": "markdown",
      "metadata": {
        "id": "9cluIf8cFAOT"
      },
      "source": [
        "6. Descargar el modelo entrenado, y ponerlo en la misma estructura de carpeta a nivel del archivo `app.py`. Si hay lugar modificar el nombre del archivo en `app.py`."
      ]
    },
    {
      "cell_type": "markdown",
      "metadata": {
        "id": "QoSItr33H2ii"
      },
      "source": [
        "7. Inicializar el repositorio git, dentro de la carpeta, **reemplazar con el nombre de la aplicación creada en el paso 4**.\r\n",
        "\r\n",
        "```\r\n",
        "git init\r\n",
        "\r\n",
        "# reemplazar con el nombre de la aplicación creada\r\n",
        "heroku git:remote -a test-ml-prd\r\n",
        "\r\n",
        "# espeficar a heroku que se usa python\r\n",
        "\r\n",
        "heroku buildpacks:set heroku/python\r\n",
        "\r\n",
        "```\r\n",
        "\r\n",
        "\r\n",
        "\r\n"
      ]
    },
    {
      "cell_type": "markdown",
      "metadata": {
        "id": "Kju7IhOkLJtv"
      },
      "source": [
        "7. Publicar la aplicación: Adicionar los archivos, confirmar que vamos realizar el cambio y finalmente desplegarlos a la nube\r\n",
        "\r\n",
        "```\r\n",
        "git add .\r\n",
        "git commit -am \"deploying the model\"\r\n",
        "git push heroku master:main\r\n",
        "```\r\n"
      ]
    },
    {
      "cell_type": "markdown",
      "metadata": {
        "id": "nbCmyFBwDE_J"
      },
      "source": [
        "## Rerencias y enlaces de interes\n",
        "\n",
        "\n",
        "https://scikit-learn.org/stable/modules/model_persistence.html\n",
        "\n",
        "https://www.snowflake.com/trending/machine-learning-engineer-vs-data-scientist\n"
      ]
    }
  ]
}